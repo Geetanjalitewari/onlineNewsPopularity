{
 "cells": [
  {
   "cell_type": "code",
   "execution_count": 4,
   "metadata": {},
   "outputs": [
    {
     "name": "stderr",
     "output_type": "stream",
     "text": [
      "C:\\Users\\krishna\\Anaconda3\\envs\\env_full\\lib\\site-packages\\sklearn\\cross_validation.py:41: DeprecationWarning: This module was deprecated in version 0.18 in favor of the model_selection module into which all the refactored classes and functions are moved. Also note that the interface of the new CV iterators are different from that of this module. This module will be removed in 0.20.\n",
      "  \"This module will be removed in 0.20.\", DeprecationWarning)\n",
      "C:\\Users\\krishna\\Anaconda3\\envs\\env_full\\lib\\site-packages\\sklearn\\grid_search.py:42: DeprecationWarning: This module was deprecated in version 0.18 in favor of the model_selection module into which all the refactored classes and functions are moved. This module will be removed in 0.20.\n",
      "  DeprecationWarning)\n"
     ]
    }
   ],
   "source": [
    "import pandas as pd\n",
    "from sklearn.ensemble import GradientBoostingClassifier\n",
    "from sklearn.ensemble import GradientBoostingRegressor\n",
    "import matplotlib.pyplot as plt\n",
    "from sklearn.cross_validation import cross_val_score\n",
    "import numpy as np\n",
    "from sklearn.model_selection import KFold\n",
    "from sklearn.metrics import roc_auc_score, accuracy_score\n",
    "from sklearn.metrics import mean_absolute_error\n",
    "from sklearn.ensemble import RandomForestRegressor\n",
    "from sklearn.ensemble import RandomForestClassifier\n",
    "from sklearn.metrics import auc,roc_curve\n",
    "from sklearn.decomposition import PCA\n",
    "from sklearn.decomposition import TruncatedSVD\n",
    "from sklearn.grid_search import GridSearchCV"
   ]
  },
  {
   "cell_type": "code",
   "execution_count": 5,
   "metadata": {},
   "outputs": [],
   "source": [
    "cols=[\"data_channel_is_lifestyle\",\"data_channel_is_entertainment\",\"data_channel_is_bus\",\n",
    "      \"data_channel_is_socmed\",\"data_channel_is_tech\",\"data_channel_is_world\",\n",
    "     \"weekday_is_monday\",\"weekday_is_tuesday\",\"weekday_is_wednesday\",\"weekday_is_thursday\",\"weekday_is_friday\",\n",
    "     \"weekday_is_saturday\",\"weekday_is_sunday\"]"
   ]
  },
  {
   "cell_type": "code",
   "execution_count": 6,
   "metadata": {},
   "outputs": [
    {
     "data": {
      "text/plain": [
       "13"
      ]
     },
     "execution_count": 6,
     "metadata": {},
     "output_type": "execute_result"
    }
   ],
   "source": [
    "len(cols)"
   ]
  },
  {
   "cell_type": "code",
   "execution_count": 7,
   "metadata": {},
   "outputs": [],
   "source": [
    "datac=pd.read_csv(\"data.csv\")"
   ]
  },
  {
   "cell_type": "code",
   "execution_count": 8,
   "metadata": {},
   "outputs": [],
   "source": [
    "target=pd.read_csv(\"target.csv\")"
   ]
  },
  {
   "cell_type": "code",
   "execution_count": 9,
   "metadata": {},
   "outputs": [
    {
     "data": {
      "text/html": [
       "<div>\n",
       "<style scoped>\n",
       "    .dataframe tbody tr th:only-of-type {\n",
       "        vertical-align: middle;\n",
       "    }\n",
       "\n",
       "    .dataframe tbody tr th {\n",
       "        vertical-align: top;\n",
       "    }\n",
       "\n",
       "    .dataframe thead th {\n",
       "        text-align: right;\n",
       "    }\n",
       "</style>\n",
       "<table border=\"1\" class=\"dataframe\">\n",
       "  <thead>\n",
       "    <tr style=\"text-align: right;\">\n",
       "      <th></th>\n",
       "      <th>n_tokens_title</th>\n",
       "      <th>n_tokens_content</th>\n",
       "      <th>n_unique_tokens</th>\n",
       "      <th>n_non_stop_words</th>\n",
       "      <th>n_non_stop_unique_tokens</th>\n",
       "      <th>num_hrefs</th>\n",
       "      <th>num_self_hrefs</th>\n",
       "      <th>num_imgs</th>\n",
       "      <th>num_videos</th>\n",
       "      <th>average_token_length</th>\n",
       "      <th>...</th>\n",
       "      <th>avg_positive_polarity</th>\n",
       "      <th>min_positive_polarity</th>\n",
       "      <th>max_positive_polarity</th>\n",
       "      <th>avg_negative_polarity</th>\n",
       "      <th>min_negative_polarity</th>\n",
       "      <th>max_negative_polarity</th>\n",
       "      <th>title_subjectivity</th>\n",
       "      <th>title_sentiment_polarity</th>\n",
       "      <th>abs_title_subjectivity</th>\n",
       "      <th>abs_title_sentiment_polarity</th>\n",
       "    </tr>\n",
       "  </thead>\n",
       "  <tbody>\n",
       "    <tr>\n",
       "      <th>0</th>\n",
       "      <td>2.565026</td>\n",
       "      <td>5.393632</td>\n",
       "      <td>0.509582</td>\n",
       "      <td>0.693647</td>\n",
       "      <td>0.596848</td>\n",
       "      <td>1.609638</td>\n",
       "      <td>1.098946</td>\n",
       "      <td>0.693647</td>\n",
       "      <td>0.001</td>\n",
       "      <td>1.737192</td>\n",
       "      <td>...</td>\n",
       "      <td>0.378636</td>\n",
       "      <td>0.100000</td>\n",
       "      <td>0.7</td>\n",
       "      <td>-0.350000</td>\n",
       "      <td>-0.600</td>\n",
       "      <td>-0.200000</td>\n",
       "      <td>0.500000</td>\n",
       "      <td>-0.206409</td>\n",
       "      <td>0.001000</td>\n",
       "      <td>0.187500</td>\n",
       "    </tr>\n",
       "    <tr>\n",
       "      <th>1</th>\n",
       "      <td>2.302685</td>\n",
       "      <td>5.545181</td>\n",
       "      <td>0.473587</td>\n",
       "      <td>0.693647</td>\n",
       "      <td>0.583860</td>\n",
       "      <td>1.386544</td>\n",
       "      <td>0.693647</td>\n",
       "      <td>0.693647</td>\n",
       "      <td>0.001</td>\n",
       "      <td>1.777445</td>\n",
       "      <td>...</td>\n",
       "      <td>0.286915</td>\n",
       "      <td>0.033333</td>\n",
       "      <td>0.7</td>\n",
       "      <td>-0.118750</td>\n",
       "      <td>-0.125</td>\n",
       "      <td>-0.100000</td>\n",
       "      <td>0.000000</td>\n",
       "      <td>0.001000</td>\n",
       "      <td>0.406132</td>\n",
       "      <td>0.000000</td>\n",
       "    </tr>\n",
       "    <tr>\n",
       "      <th>2</th>\n",
       "      <td>2.302685</td>\n",
       "      <td>5.356591</td>\n",
       "      <td>0.454972</td>\n",
       "      <td>0.693647</td>\n",
       "      <td>0.509744</td>\n",
       "      <td>1.386544</td>\n",
       "      <td>0.693647</td>\n",
       "      <td>0.693647</td>\n",
       "      <td>0.001</td>\n",
       "      <td>1.685355</td>\n",
       "      <td>...</td>\n",
       "      <td>0.495833</td>\n",
       "      <td>0.100000</td>\n",
       "      <td>1.0</td>\n",
       "      <td>-0.466667</td>\n",
       "      <td>-0.800</td>\n",
       "      <td>-0.133333</td>\n",
       "      <td>0.000000</td>\n",
       "      <td>0.001000</td>\n",
       "      <td>0.406132</td>\n",
       "      <td>0.000000</td>\n",
       "    </tr>\n",
       "    <tr>\n",
       "      <th>3</th>\n",
       "      <td>2.302685</td>\n",
       "      <td>6.276645</td>\n",
       "      <td>0.408652</td>\n",
       "      <td>0.693647</td>\n",
       "      <td>0.510806</td>\n",
       "      <td>2.302685</td>\n",
       "      <td>0.001000</td>\n",
       "      <td>0.693647</td>\n",
       "      <td>0.001</td>\n",
       "      <td>1.687490</td>\n",
       "      <td>...</td>\n",
       "      <td>0.385965</td>\n",
       "      <td>0.136364</td>\n",
       "      <td>0.8</td>\n",
       "      <td>-0.369697</td>\n",
       "      <td>-0.600</td>\n",
       "      <td>-0.166667</td>\n",
       "      <td>0.000000</td>\n",
       "      <td>0.001000</td>\n",
       "      <td>0.406132</td>\n",
       "      <td>0.000000</td>\n",
       "    </tr>\n",
       "    <tr>\n",
       "      <th>4</th>\n",
       "      <td>2.639129</td>\n",
       "      <td>6.978215</td>\n",
       "      <td>0.348292</td>\n",
       "      <td>0.693647</td>\n",
       "      <td>0.433009</td>\n",
       "      <td>2.995782</td>\n",
       "      <td>2.995782</td>\n",
       "      <td>3.044570</td>\n",
       "      <td>0.001</td>\n",
       "      <td>1.737626</td>\n",
       "      <td>...</td>\n",
       "      <td>0.411127</td>\n",
       "      <td>0.033333</td>\n",
       "      <td>1.0</td>\n",
       "      <td>-0.220192</td>\n",
       "      <td>-0.500</td>\n",
       "      <td>-0.050000</td>\n",
       "      <td>0.454545</td>\n",
       "      <td>0.128713</td>\n",
       "      <td>0.045408</td>\n",
       "      <td>0.136364</td>\n",
       "    </tr>\n",
       "  </tbody>\n",
       "</table>\n",
       "<p>5 rows × 58 columns</p>\n",
       "</div>"
      ],
      "text/plain": [
       "   n_tokens_title  n_tokens_content  n_unique_tokens  n_non_stop_words  \\\n",
       "0        2.565026          5.393632         0.509582          0.693647   \n",
       "1        2.302685          5.545181         0.473587          0.693647   \n",
       "2        2.302685          5.356591         0.454972          0.693647   \n",
       "3        2.302685          6.276645         0.408652          0.693647   \n",
       "4        2.639129          6.978215         0.348292          0.693647   \n",
       "\n",
       "   n_non_stop_unique_tokens  num_hrefs  num_self_hrefs  num_imgs  num_videos  \\\n",
       "0                  0.596848   1.609638        1.098946  0.693647       0.001   \n",
       "1                  0.583860   1.386544        0.693647  0.693647       0.001   \n",
       "2                  0.509744   1.386544        0.693647  0.693647       0.001   \n",
       "3                  0.510806   2.302685        0.001000  0.693647       0.001   \n",
       "4                  0.433009   2.995782        2.995782  3.044570       0.001   \n",
       "\n",
       "   average_token_length              ...               avg_positive_polarity  \\\n",
       "0              1.737192              ...                            0.378636   \n",
       "1              1.777445              ...                            0.286915   \n",
       "2              1.685355              ...                            0.495833   \n",
       "3              1.687490              ...                            0.385965   \n",
       "4              1.737626              ...                            0.411127   \n",
       "\n",
       "   min_positive_polarity  max_positive_polarity  avg_negative_polarity  \\\n",
       "0               0.100000                    0.7              -0.350000   \n",
       "1               0.033333                    0.7              -0.118750   \n",
       "2               0.100000                    1.0              -0.466667   \n",
       "3               0.136364                    0.8              -0.369697   \n",
       "4               0.033333                    1.0              -0.220192   \n",
       "\n",
       "   min_negative_polarity  max_negative_polarity  title_subjectivity  \\\n",
       "0                 -0.600              -0.200000            0.500000   \n",
       "1                 -0.125              -0.100000            0.000000   \n",
       "2                 -0.800              -0.133333            0.000000   \n",
       "3                 -0.600              -0.166667            0.000000   \n",
       "4                 -0.500              -0.050000            0.454545   \n",
       "\n",
       "   title_sentiment_polarity  abs_title_subjectivity  \\\n",
       "0                 -0.206409                0.001000   \n",
       "1                  0.001000                0.406132   \n",
       "2                  0.001000                0.406132   \n",
       "3                  0.001000                0.406132   \n",
       "4                  0.128713                0.045408   \n",
       "\n",
       "   abs_title_sentiment_polarity  \n",
       "0                      0.187500  \n",
       "1                      0.000000  \n",
       "2                      0.000000  \n",
       "3                      0.000000  \n",
       "4                      0.136364  \n",
       "\n",
       "[5 rows x 58 columns]"
      ]
     },
     "execution_count": 9,
     "metadata": {},
     "output_type": "execute_result"
    }
   ],
   "source": [
    "datac.head()"
   ]
  },
  {
   "cell_type": "code",
   "execution_count": 10,
   "metadata": {},
   "outputs": [
    {
     "data": {
      "text/html": [
       "<div>\n",
       "<style scoped>\n",
       "    .dataframe tbody tr th:only-of-type {\n",
       "        vertical-align: middle;\n",
       "    }\n",
       "\n",
       "    .dataframe tbody tr th {\n",
       "        vertical-align: top;\n",
       "    }\n",
       "\n",
       "    .dataframe thead th {\n",
       "        text-align: right;\n",
       "    }\n",
       "</style>\n",
       "<table border=\"1\" class=\"dataframe\">\n",
       "  <thead>\n",
       "    <tr style=\"text-align: right;\">\n",
       "      <th></th>\n",
       "      <th>shares</th>\n",
       "      <th>sharesB</th>\n",
       "      <th>sharesLog</th>\n",
       "    </tr>\n",
       "  </thead>\n",
       "  <tbody>\n",
       "    <tr>\n",
       "      <th>0</th>\n",
       "      <td>593</td>\n",
       "      <td>0</td>\n",
       "      <td>6.385194</td>\n",
       "    </tr>\n",
       "    <tr>\n",
       "      <th>1</th>\n",
       "      <td>711</td>\n",
       "      <td>0</td>\n",
       "      <td>6.566672</td>\n",
       "    </tr>\n",
       "    <tr>\n",
       "      <th>2</th>\n",
       "      <td>1500</td>\n",
       "      <td>1</td>\n",
       "      <td>7.313220</td>\n",
       "    </tr>\n",
       "    <tr>\n",
       "      <th>3</th>\n",
       "      <td>1200</td>\n",
       "      <td>0</td>\n",
       "      <td>7.090077</td>\n",
       "    </tr>\n",
       "    <tr>\n",
       "      <th>4</th>\n",
       "      <td>505</td>\n",
       "      <td>0</td>\n",
       "      <td>6.224558</td>\n",
       "    </tr>\n",
       "  </tbody>\n",
       "</table>\n",
       "</div>"
      ],
      "text/plain": [
       "   shares  sharesB  sharesLog\n",
       "0     593        0   6.385194\n",
       "1     711        0   6.566672\n",
       "2    1500        1   7.313220\n",
       "3    1200        0   7.090077\n",
       "4     505        0   6.224558"
      ]
     },
     "execution_count": 10,
     "metadata": {},
     "output_type": "execute_result"
    }
   ],
   "source": [
    "target.head()"
   ]
  },
  {
   "cell_type": "code",
   "execution_count": 67,
   "metadata": {},
   "outputs": [
    {
     "data": {
      "text/plain": [
       "PCA(copy=True, iterated_power='auto', n_components='mle', random_state=None,\n",
       "  svd_solver='full', tol=0.0, whiten=False)"
      ]
     },
     "execution_count": 67,
     "metadata": {},
     "output_type": "execute_result"
    }
   ],
   "source": [
    "check=PCA(n_components='mle',svd_solver='full')\n",
    "check.fit(datac.drop(cols,axis=1))"
   ]
  },
  {
   "cell_type": "code",
   "execution_count": 71,
   "metadata": {},
   "outputs": [
    {
     "data": {
      "text/html": [
       "<div>\n",
       "<style scoped>\n",
       "    .dataframe tbody tr th:only-of-type {\n",
       "        vertical-align: middle;\n",
       "    }\n",
       "\n",
       "    .dataframe tbody tr th {\n",
       "        vertical-align: top;\n",
       "    }\n",
       "\n",
       "    .dataframe thead th {\n",
       "        text-align: right;\n",
       "    }\n",
       "</style>\n",
       "<table border=\"1\" class=\"dataframe\">\n",
       "  <thead>\n",
       "    <tr style=\"text-align: right;\">\n",
       "      <th></th>\n",
       "      <th>0</th>\n",
       "      <th>1</th>\n",
       "      <th>2</th>\n",
       "      <th>3</th>\n",
       "      <th>4</th>\n",
       "      <th>5</th>\n",
       "      <th>6</th>\n",
       "      <th>7</th>\n",
       "      <th>8</th>\n",
       "      <th>9</th>\n",
       "      <th>...</th>\n",
       "      <th>34</th>\n",
       "      <th>35</th>\n",
       "      <th>36</th>\n",
       "      <th>37</th>\n",
       "      <th>38</th>\n",
       "      <th>39</th>\n",
       "      <th>40</th>\n",
       "      <th>41</th>\n",
       "      <th>42</th>\n",
       "      <th>43</th>\n",
       "    </tr>\n",
       "  </thead>\n",
       "  <tbody>\n",
       "    <tr>\n",
       "      <th>0</th>\n",
       "      <td>-5.686480</td>\n",
       "      <td>-9.318260</td>\n",
       "      <td>2.859732</td>\n",
       "      <td>0.046361</td>\n",
       "      <td>4.610109</td>\n",
       "      <td>-0.831687</td>\n",
       "      <td>-1.758245</td>\n",
       "      <td>-1.115568</td>\n",
       "      <td>0.275839</td>\n",
       "      <td>0.298734</td>\n",
       "      <td>...</td>\n",
       "      <td>-0.008724</td>\n",
       "      <td>-0.016862</td>\n",
       "      <td>-0.010675</td>\n",
       "      <td>0.003238</td>\n",
       "      <td>0.042287</td>\n",
       "      <td>-0.112825</td>\n",
       "      <td>0.362762</td>\n",
       "      <td>0.053087</td>\n",
       "      <td>0.001784</td>\n",
       "      <td>0.015227</td>\n",
       "    </tr>\n",
       "    <tr>\n",
       "      <th>1</th>\n",
       "      <td>-0.190354</td>\n",
       "      <td>-0.536630</td>\n",
       "      <td>0.216537</td>\n",
       "      <td>-0.110050</td>\n",
       "      <td>5.618105</td>\n",
       "      <td>-1.156996</td>\n",
       "      <td>-1.671289</td>\n",
       "      <td>-0.699136</td>\n",
       "      <td>0.102430</td>\n",
       "      <td>0.614461</td>\n",
       "      <td>...</td>\n",
       "      <td>0.001681</td>\n",
       "      <td>-0.049293</td>\n",
       "      <td>-0.053622</td>\n",
       "      <td>-0.000803</td>\n",
       "      <td>-0.018211</td>\n",
       "      <td>-0.109805</td>\n",
       "      <td>0.340192</td>\n",
       "      <td>0.042129</td>\n",
       "      <td>-0.001497</td>\n",
       "      <td>0.028914</td>\n",
       "    </tr>\n",
       "    <tr>\n",
       "      <th>2</th>\n",
       "      <td>-6.205912</td>\n",
       "      <td>-10.159002</td>\n",
       "      <td>3.107096</td>\n",
       "      <td>0.062724</td>\n",
       "      <td>4.401179</td>\n",
       "      <td>-0.767702</td>\n",
       "      <td>-1.832432</td>\n",
       "      <td>-1.358718</td>\n",
       "      <td>0.263126</td>\n",
       "      <td>0.485981</td>\n",
       "      <td>...</td>\n",
       "      <td>-0.081554</td>\n",
       "      <td>-0.070033</td>\n",
       "      <td>-0.050404</td>\n",
       "      <td>0.060628</td>\n",
       "      <td>-0.056930</td>\n",
       "      <td>-0.055497</td>\n",
       "      <td>0.365798</td>\n",
       "      <td>0.040237</td>\n",
       "      <td>-0.006935</td>\n",
       "      <td>0.001937</td>\n",
       "    </tr>\n",
       "    <tr>\n",
       "      <th>3</th>\n",
       "      <td>-0.190527</td>\n",
       "      <td>-0.576291</td>\n",
       "      <td>0.221597</td>\n",
       "      <td>-0.141398</td>\n",
       "      <td>6.529074</td>\n",
       "      <td>-1.397465</td>\n",
       "      <td>-1.933142</td>\n",
       "      <td>-0.933397</td>\n",
       "      <td>0.412656</td>\n",
       "      <td>0.193836</td>\n",
       "      <td>...</td>\n",
       "      <td>0.053807</td>\n",
       "      <td>0.016892</td>\n",
       "      <td>0.014535</td>\n",
       "      <td>0.029152</td>\n",
       "      <td>-0.013508</td>\n",
       "      <td>-0.085820</td>\n",
       "      <td>0.373108</td>\n",
       "      <td>0.022811</td>\n",
       "      <td>0.008162</td>\n",
       "      <td>0.016969</td>\n",
       "    </tr>\n",
       "    <tr>\n",
       "      <th>4</th>\n",
       "      <td>-7.541962</td>\n",
       "      <td>-12.285155</td>\n",
       "      <td>3.777634</td>\n",
       "      <td>-0.060691</td>\n",
       "      <td>7.390618</td>\n",
       "      <td>-1.288160</td>\n",
       "      <td>0.345524</td>\n",
       "      <td>0.642983</td>\n",
       "      <td>-0.215664</td>\n",
       "      <td>0.465190</td>\n",
       "      <td>...</td>\n",
       "      <td>-0.014135</td>\n",
       "      <td>0.005743</td>\n",
       "      <td>-0.060418</td>\n",
       "      <td>0.023126</td>\n",
       "      <td>-0.024036</td>\n",
       "      <td>-0.073626</td>\n",
       "      <td>0.334649</td>\n",
       "      <td>0.051912</td>\n",
       "      <td>0.018403</td>\n",
       "      <td>0.018966</td>\n",
       "    </tr>\n",
       "  </tbody>\n",
       "</table>\n",
       "<p>5 rows × 44 columns</p>\n",
       "</div>"
      ],
      "text/plain": [
       "         0          1         2         3         4         5         6   \\\n",
       "0 -5.686480  -9.318260  2.859732  0.046361  4.610109 -0.831687 -1.758245   \n",
       "1 -0.190354  -0.536630  0.216537 -0.110050  5.618105 -1.156996 -1.671289   \n",
       "2 -6.205912 -10.159002  3.107096  0.062724  4.401179 -0.767702 -1.832432   \n",
       "3 -0.190527  -0.576291  0.221597 -0.141398  6.529074 -1.397465 -1.933142   \n",
       "4 -7.541962 -12.285155  3.777634 -0.060691  7.390618 -1.288160  0.345524   \n",
       "\n",
       "         7         8         9     ...           34        35        36  \\\n",
       "0 -1.115568  0.275839  0.298734    ...    -0.008724 -0.016862 -0.010675   \n",
       "1 -0.699136  0.102430  0.614461    ...     0.001681 -0.049293 -0.053622   \n",
       "2 -1.358718  0.263126  0.485981    ...    -0.081554 -0.070033 -0.050404   \n",
       "3 -0.933397  0.412656  0.193836    ...     0.053807  0.016892  0.014535   \n",
       "4  0.642983 -0.215664  0.465190    ...    -0.014135  0.005743 -0.060418   \n",
       "\n",
       "         37        38        39        40        41        42        43  \n",
       "0  0.003238  0.042287 -0.112825  0.362762  0.053087  0.001784  0.015227  \n",
       "1 -0.000803 -0.018211 -0.109805  0.340192  0.042129 -0.001497  0.028914  \n",
       "2  0.060628 -0.056930 -0.055497  0.365798  0.040237 -0.006935  0.001937  \n",
       "3  0.029152 -0.013508 -0.085820  0.373108  0.022811  0.008162  0.016969  \n",
       "4  0.023126 -0.024036 -0.073626  0.334649  0.051912  0.018403  0.018966  \n",
       "\n",
       "[5 rows x 44 columns]"
      ]
     },
     "execution_count": 71,
     "metadata": {},
     "output_type": "execute_result"
    }
   ],
   "source": [
    "dataAfterSVD=pd.DataFrame(np.dot(datac.drop(cols,axis=1),dataSVD))\n",
    "dataAfterPCA.head()"
   ]
  },
  {
   "cell_type": "code",
   "execution_count": 70,
   "metadata": {},
   "outputs": [
    {
     "data": {
      "text/plain": [
       "(45, 44)"
      ]
     },
     "execution_count": 70,
     "metadata": {},
     "output_type": "execute_result"
    }
   ],
   "source": [
    "dataPCA=pd.DataFrame(check.components_.T,columns=[\"%d\"%(i) for i in range(len(check.components_))])\n",
    "dataPCA.shape"
   ]
  },
  {
   "cell_type": "code",
   "execution_count": 71,
   "metadata": {},
   "outputs": [
    {
     "data": {
      "text/html": [
       "<div>\n",
       "<style scoped>\n",
       "    .dataframe tbody tr th:only-of-type {\n",
       "        vertical-align: middle;\n",
       "    }\n",
       "\n",
       "    .dataframe tbody tr th {\n",
       "        vertical-align: top;\n",
       "    }\n",
       "\n",
       "    .dataframe thead th {\n",
       "        text-align: right;\n",
       "    }\n",
       "</style>\n",
       "<table border=\"1\" class=\"dataframe\">\n",
       "  <thead>\n",
       "    <tr style=\"text-align: right;\">\n",
       "      <th></th>\n",
       "      <th>0</th>\n",
       "      <th>1</th>\n",
       "      <th>2</th>\n",
       "      <th>3</th>\n",
       "      <th>4</th>\n",
       "      <th>5</th>\n",
       "      <th>6</th>\n",
       "      <th>7</th>\n",
       "      <th>8</th>\n",
       "      <th>9</th>\n",
       "      <th>...</th>\n",
       "      <th>34</th>\n",
       "      <th>35</th>\n",
       "      <th>36</th>\n",
       "      <th>37</th>\n",
       "      <th>38</th>\n",
       "      <th>39</th>\n",
       "      <th>40</th>\n",
       "      <th>41</th>\n",
       "      <th>42</th>\n",
       "      <th>43</th>\n",
       "    </tr>\n",
       "  </thead>\n",
       "  <tbody>\n",
       "    <tr>\n",
       "      <th>0</th>\n",
       "      <td>-5.686480</td>\n",
       "      <td>-9.318260</td>\n",
       "      <td>2.859732</td>\n",
       "      <td>0.046361</td>\n",
       "      <td>4.610109</td>\n",
       "      <td>-0.831687</td>\n",
       "      <td>-1.758245</td>\n",
       "      <td>-1.115568</td>\n",
       "      <td>0.275839</td>\n",
       "      <td>0.298734</td>\n",
       "      <td>...</td>\n",
       "      <td>-0.008724</td>\n",
       "      <td>-0.016862</td>\n",
       "      <td>-0.010675</td>\n",
       "      <td>0.003238</td>\n",
       "      <td>0.042287</td>\n",
       "      <td>-0.112825</td>\n",
       "      <td>0.362762</td>\n",
       "      <td>0.053087</td>\n",
       "      <td>0.001784</td>\n",
       "      <td>0.015227</td>\n",
       "    </tr>\n",
       "    <tr>\n",
       "      <th>1</th>\n",
       "      <td>-0.190354</td>\n",
       "      <td>-0.536630</td>\n",
       "      <td>0.216537</td>\n",
       "      <td>-0.110050</td>\n",
       "      <td>5.618105</td>\n",
       "      <td>-1.156996</td>\n",
       "      <td>-1.671289</td>\n",
       "      <td>-0.699136</td>\n",
       "      <td>0.102430</td>\n",
       "      <td>0.614461</td>\n",
       "      <td>...</td>\n",
       "      <td>0.001681</td>\n",
       "      <td>-0.049293</td>\n",
       "      <td>-0.053622</td>\n",
       "      <td>-0.000803</td>\n",
       "      <td>-0.018211</td>\n",
       "      <td>-0.109805</td>\n",
       "      <td>0.340192</td>\n",
       "      <td>0.042129</td>\n",
       "      <td>-0.001497</td>\n",
       "      <td>0.028914</td>\n",
       "    </tr>\n",
       "    <tr>\n",
       "      <th>2</th>\n",
       "      <td>-6.205912</td>\n",
       "      <td>-10.159002</td>\n",
       "      <td>3.107096</td>\n",
       "      <td>0.062724</td>\n",
       "      <td>4.401179</td>\n",
       "      <td>-0.767702</td>\n",
       "      <td>-1.832432</td>\n",
       "      <td>-1.358718</td>\n",
       "      <td>0.263126</td>\n",
       "      <td>0.485981</td>\n",
       "      <td>...</td>\n",
       "      <td>-0.081554</td>\n",
       "      <td>-0.070033</td>\n",
       "      <td>-0.050404</td>\n",
       "      <td>0.060628</td>\n",
       "      <td>-0.056930</td>\n",
       "      <td>-0.055497</td>\n",
       "      <td>0.365798</td>\n",
       "      <td>0.040237</td>\n",
       "      <td>-0.006935</td>\n",
       "      <td>0.001937</td>\n",
       "    </tr>\n",
       "    <tr>\n",
       "      <th>3</th>\n",
       "      <td>-0.190527</td>\n",
       "      <td>-0.576291</td>\n",
       "      <td>0.221597</td>\n",
       "      <td>-0.141398</td>\n",
       "      <td>6.529074</td>\n",
       "      <td>-1.397465</td>\n",
       "      <td>-1.933142</td>\n",
       "      <td>-0.933397</td>\n",
       "      <td>0.412656</td>\n",
       "      <td>0.193836</td>\n",
       "      <td>...</td>\n",
       "      <td>0.053807</td>\n",
       "      <td>0.016892</td>\n",
       "      <td>0.014535</td>\n",
       "      <td>0.029152</td>\n",
       "      <td>-0.013508</td>\n",
       "      <td>-0.085820</td>\n",
       "      <td>0.373108</td>\n",
       "      <td>0.022811</td>\n",
       "      <td>0.008162</td>\n",
       "      <td>0.016969</td>\n",
       "    </tr>\n",
       "    <tr>\n",
       "      <th>4</th>\n",
       "      <td>-7.541962</td>\n",
       "      <td>-12.285155</td>\n",
       "      <td>3.777634</td>\n",
       "      <td>-0.060691</td>\n",
       "      <td>7.390618</td>\n",
       "      <td>-1.288160</td>\n",
       "      <td>0.345524</td>\n",
       "      <td>0.642983</td>\n",
       "      <td>-0.215664</td>\n",
       "      <td>0.465190</td>\n",
       "      <td>...</td>\n",
       "      <td>-0.014135</td>\n",
       "      <td>0.005743</td>\n",
       "      <td>-0.060418</td>\n",
       "      <td>0.023126</td>\n",
       "      <td>-0.024036</td>\n",
       "      <td>-0.073626</td>\n",
       "      <td>0.334649</td>\n",
       "      <td>0.051912</td>\n",
       "      <td>0.018403</td>\n",
       "      <td>0.018966</td>\n",
       "    </tr>\n",
       "  </tbody>\n",
       "</table>\n",
       "<p>5 rows × 44 columns</p>\n",
       "</div>"
      ],
      "text/plain": [
       "         0          1         2         3         4         5         6   \\\n",
       "0 -5.686480  -9.318260  2.859732  0.046361  4.610109 -0.831687 -1.758245   \n",
       "1 -0.190354  -0.536630  0.216537 -0.110050  5.618105 -1.156996 -1.671289   \n",
       "2 -6.205912 -10.159002  3.107096  0.062724  4.401179 -0.767702 -1.832432   \n",
       "3 -0.190527  -0.576291  0.221597 -0.141398  6.529074 -1.397465 -1.933142   \n",
       "4 -7.541962 -12.285155  3.777634 -0.060691  7.390618 -1.288160  0.345524   \n",
       "\n",
       "         7         8         9     ...           34        35        36  \\\n",
       "0 -1.115568  0.275839  0.298734    ...    -0.008724 -0.016862 -0.010675   \n",
       "1 -0.699136  0.102430  0.614461    ...     0.001681 -0.049293 -0.053622   \n",
       "2 -1.358718  0.263126  0.485981    ...    -0.081554 -0.070033 -0.050404   \n",
       "3 -0.933397  0.412656  0.193836    ...     0.053807  0.016892  0.014535   \n",
       "4  0.642983 -0.215664  0.465190    ...    -0.014135  0.005743 -0.060418   \n",
       "\n",
       "         37        38        39        40        41        42        43  \n",
       "0  0.003238  0.042287 -0.112825  0.362762  0.053087  0.001784  0.015227  \n",
       "1 -0.000803 -0.018211 -0.109805  0.340192  0.042129 -0.001497  0.028914  \n",
       "2  0.060628 -0.056930 -0.055497  0.365798  0.040237 -0.006935  0.001937  \n",
       "3  0.029152 -0.013508 -0.085820  0.373108  0.022811  0.008162  0.016969  \n",
       "4  0.023126 -0.024036 -0.073626  0.334649  0.051912  0.018403  0.018966  \n",
       "\n",
       "[5 rows x 44 columns]"
      ]
     },
     "execution_count": 71,
     "metadata": {},
     "output_type": "execute_result"
    }
   ],
   "source": [
    "dataAfterPCA=pd.DataFrame(np.dot(datac.drop(cols,axis=1),dataPCA))\n",
    "dataAfterPCA.head()"
   ]
  },
  {
   "cell_type": "code",
   "execution_count": 73,
   "metadata": {},
   "outputs": [
    {
     "data": {
      "text/html": [
       "<div>\n",
       "<style scoped>\n",
       "    .dataframe tbody tr th:only-of-type {\n",
       "        vertical-align: middle;\n",
       "    }\n",
       "\n",
       "    .dataframe tbody tr th {\n",
       "        vertical-align: top;\n",
       "    }\n",
       "\n",
       "    .dataframe thead th {\n",
       "        text-align: right;\n",
       "    }\n",
       "</style>\n",
       "<table border=\"1\" class=\"dataframe\">\n",
       "  <thead>\n",
       "    <tr style=\"text-align: right;\">\n",
       "      <th></th>\n",
       "      <th>0</th>\n",
       "      <th>1</th>\n",
       "      <th>2</th>\n",
       "      <th>3</th>\n",
       "      <th>4</th>\n",
       "      <th>5</th>\n",
       "      <th>6</th>\n",
       "      <th>7</th>\n",
       "      <th>8</th>\n",
       "      <th>9</th>\n",
       "      <th>...</th>\n",
       "      <th>data_channel_is_socmed</th>\n",
       "      <th>data_channel_is_tech</th>\n",
       "      <th>data_channel_is_world</th>\n",
       "      <th>weekday_is_monday</th>\n",
       "      <th>weekday_is_tuesday</th>\n",
       "      <th>weekday_is_wednesday</th>\n",
       "      <th>weekday_is_thursday</th>\n",
       "      <th>weekday_is_friday</th>\n",
       "      <th>weekday_is_saturday</th>\n",
       "      <th>weekday_is_sunday</th>\n",
       "    </tr>\n",
       "  </thead>\n",
       "  <tbody>\n",
       "    <tr>\n",
       "      <th>0</th>\n",
       "      <td>-5.686480</td>\n",
       "      <td>-9.318260</td>\n",
       "      <td>2.859732</td>\n",
       "      <td>0.046361</td>\n",
       "      <td>4.610109</td>\n",
       "      <td>-0.831687</td>\n",
       "      <td>-1.758245</td>\n",
       "      <td>-1.115568</td>\n",
       "      <td>0.275839</td>\n",
       "      <td>0.298734</td>\n",
       "      <td>...</td>\n",
       "      <td>0.0</td>\n",
       "      <td>0.0</td>\n",
       "      <td>0.0</td>\n",
       "      <td>1.0</td>\n",
       "      <td>0.0</td>\n",
       "      <td>0.0</td>\n",
       "      <td>0.0</td>\n",
       "      <td>0.0</td>\n",
       "      <td>0.0</td>\n",
       "      <td>0.0</td>\n",
       "    </tr>\n",
       "    <tr>\n",
       "      <th>1</th>\n",
       "      <td>-0.190354</td>\n",
       "      <td>-0.536630</td>\n",
       "      <td>0.216537</td>\n",
       "      <td>-0.110050</td>\n",
       "      <td>5.618105</td>\n",
       "      <td>-1.156996</td>\n",
       "      <td>-1.671289</td>\n",
       "      <td>-0.699136</td>\n",
       "      <td>0.102430</td>\n",
       "      <td>0.614461</td>\n",
       "      <td>...</td>\n",
       "      <td>0.0</td>\n",
       "      <td>0.0</td>\n",
       "      <td>0.0</td>\n",
       "      <td>1.0</td>\n",
       "      <td>0.0</td>\n",
       "      <td>0.0</td>\n",
       "      <td>0.0</td>\n",
       "      <td>0.0</td>\n",
       "      <td>0.0</td>\n",
       "      <td>0.0</td>\n",
       "    </tr>\n",
       "    <tr>\n",
       "      <th>2</th>\n",
       "      <td>-6.205912</td>\n",
       "      <td>-10.159002</td>\n",
       "      <td>3.107096</td>\n",
       "      <td>0.062724</td>\n",
       "      <td>4.401179</td>\n",
       "      <td>-0.767702</td>\n",
       "      <td>-1.832432</td>\n",
       "      <td>-1.358718</td>\n",
       "      <td>0.263126</td>\n",
       "      <td>0.485981</td>\n",
       "      <td>...</td>\n",
       "      <td>0.0</td>\n",
       "      <td>0.0</td>\n",
       "      <td>0.0</td>\n",
       "      <td>1.0</td>\n",
       "      <td>0.0</td>\n",
       "      <td>0.0</td>\n",
       "      <td>0.0</td>\n",
       "      <td>0.0</td>\n",
       "      <td>0.0</td>\n",
       "      <td>0.0</td>\n",
       "    </tr>\n",
       "    <tr>\n",
       "      <th>3</th>\n",
       "      <td>-0.190527</td>\n",
       "      <td>-0.576291</td>\n",
       "      <td>0.221597</td>\n",
       "      <td>-0.141398</td>\n",
       "      <td>6.529074</td>\n",
       "      <td>-1.397465</td>\n",
       "      <td>-1.933142</td>\n",
       "      <td>-0.933397</td>\n",
       "      <td>0.412656</td>\n",
       "      <td>0.193836</td>\n",
       "      <td>...</td>\n",
       "      <td>0.0</td>\n",
       "      <td>0.0</td>\n",
       "      <td>0.0</td>\n",
       "      <td>1.0</td>\n",
       "      <td>0.0</td>\n",
       "      <td>0.0</td>\n",
       "      <td>0.0</td>\n",
       "      <td>0.0</td>\n",
       "      <td>0.0</td>\n",
       "      <td>0.0</td>\n",
       "    </tr>\n",
       "    <tr>\n",
       "      <th>4</th>\n",
       "      <td>-7.541962</td>\n",
       "      <td>-12.285155</td>\n",
       "      <td>3.777634</td>\n",
       "      <td>-0.060691</td>\n",
       "      <td>7.390618</td>\n",
       "      <td>-1.288160</td>\n",
       "      <td>0.345524</td>\n",
       "      <td>0.642983</td>\n",
       "      <td>-0.215664</td>\n",
       "      <td>0.465190</td>\n",
       "      <td>...</td>\n",
       "      <td>0.0</td>\n",
       "      <td>1.0</td>\n",
       "      <td>0.0</td>\n",
       "      <td>1.0</td>\n",
       "      <td>0.0</td>\n",
       "      <td>0.0</td>\n",
       "      <td>0.0</td>\n",
       "      <td>0.0</td>\n",
       "      <td>0.0</td>\n",
       "      <td>0.0</td>\n",
       "    </tr>\n",
       "  </tbody>\n",
       "</table>\n",
       "<p>5 rows × 57 columns</p>\n",
       "</div>"
      ],
      "text/plain": [
       "          0          1         2         3         4         5         6  \\\n",
       "0 -5.686480  -9.318260  2.859732  0.046361  4.610109 -0.831687 -1.758245   \n",
       "1 -0.190354  -0.536630  0.216537 -0.110050  5.618105 -1.156996 -1.671289   \n",
       "2 -6.205912 -10.159002  3.107096  0.062724  4.401179 -0.767702 -1.832432   \n",
       "3 -0.190527  -0.576291  0.221597 -0.141398  6.529074 -1.397465 -1.933142   \n",
       "4 -7.541962 -12.285155  3.777634 -0.060691  7.390618 -1.288160  0.345524   \n",
       "\n",
       "          7         8         9        ...          data_channel_is_socmed  \\\n",
       "0 -1.115568  0.275839  0.298734        ...                             0.0   \n",
       "1 -0.699136  0.102430  0.614461        ...                             0.0   \n",
       "2 -1.358718  0.263126  0.485981        ...                             0.0   \n",
       "3 -0.933397  0.412656  0.193836        ...                             0.0   \n",
       "4  0.642983 -0.215664  0.465190        ...                             0.0   \n",
       "\n",
       "   data_channel_is_tech  data_channel_is_world  weekday_is_monday  \\\n",
       "0                   0.0                    0.0                1.0   \n",
       "1                   0.0                    0.0                1.0   \n",
       "2                   0.0                    0.0                1.0   \n",
       "3                   0.0                    0.0                1.0   \n",
       "4                   1.0                    0.0                1.0   \n",
       "\n",
       "   weekday_is_tuesday  weekday_is_wednesday  weekday_is_thursday  \\\n",
       "0                 0.0                   0.0                  0.0   \n",
       "1                 0.0                   0.0                  0.0   \n",
       "2                 0.0                   0.0                  0.0   \n",
       "3                 0.0                   0.0                  0.0   \n",
       "4                 0.0                   0.0                  0.0   \n",
       "\n",
       "   weekday_is_friday  weekday_is_saturday  weekday_is_sunday  \n",
       "0                0.0                  0.0                0.0  \n",
       "1                0.0                  0.0                0.0  \n",
       "2                0.0                  0.0                0.0  \n",
       "3                0.0                  0.0                0.0  \n",
       "4                0.0                  0.0                0.0  \n",
       "\n",
       "[5 rows x 57 columns]"
      ]
     },
     "execution_count": 73,
     "metadata": {},
     "output_type": "execute_result"
    }
   ],
   "source": [
    "dataAfterPCA=pd.concat([dataAfterPCA,datac[cols]],axis=1)\n",
    "dataAfterPCA.head()"
   ]
  },
  {
   "cell_type": "code",
   "execution_count": 74,
   "metadata": {},
   "outputs": [
    {
     "data": {
      "text/plain": [
       "(39644, 57)"
      ]
     },
     "execution_count": 74,
     "metadata": {},
     "output_type": "execute_result"
    }
   ],
   "source": [
    "dataAfterPCA.shape"
   ]
  },
  {
   "cell_type": "code",
   "execution_count": 78,
   "metadata": {},
   "outputs": [
    {
     "data": {
      "text/plain": [
       "TruncatedSVD(algorithm='randomized', n_components=20, n_iter=5,\n",
       "       random_state=None, tol=0.0)"
      ]
     },
     "execution_count": 78,
     "metadata": {},
     "output_type": "execute_result"
    }
   ],
   "source": [
    "checktruncatedSVD=TruncatedSVD(n_components=20)\n",
    "checktruncatedSVD.fit(datac.drop(cols,axis=1))"
   ]
  },
  {
   "cell_type": "code",
   "execution_count": 79,
   "metadata": {},
   "outputs": [
    {
     "data": {
      "text/plain": [
       "(45, 20)"
      ]
     },
     "execution_count": 79,
     "metadata": {},
     "output_type": "execute_result"
    }
   ],
   "source": [
    "dataSVD=pd.DataFrame(checktruncatedSVD.components_.T,columns=[\"%d\"%(i) for i in range(len(checktruncatedSVD.components_))])\n",
    "dataSVD.shape"
   ]
  },
  {
   "cell_type": "code",
   "execution_count": 80,
   "metadata": {},
   "outputs": [
    {
     "data": {
      "text/html": [
       "<div>\n",
       "<style scoped>\n",
       "    .dataframe tbody tr th:only-of-type {\n",
       "        vertical-align: middle;\n",
       "    }\n",
       "\n",
       "    .dataframe tbody tr th {\n",
       "        vertical-align: top;\n",
       "    }\n",
       "\n",
       "    .dataframe thead th {\n",
       "        text-align: right;\n",
       "    }\n",
       "</style>\n",
       "<table border=\"1\" class=\"dataframe\">\n",
       "  <thead>\n",
       "    <tr style=\"text-align: right;\">\n",
       "      <th></th>\n",
       "      <th>0</th>\n",
       "      <th>1</th>\n",
       "      <th>2</th>\n",
       "      <th>3</th>\n",
       "      <th>4</th>\n",
       "      <th>5</th>\n",
       "      <th>6</th>\n",
       "      <th>7</th>\n",
       "      <th>8</th>\n",
       "      <th>9</th>\n",
       "      <th>10</th>\n",
       "      <th>11</th>\n",
       "      <th>12</th>\n",
       "      <th>13</th>\n",
       "      <th>14</th>\n",
       "      <th>15</th>\n",
       "      <th>16</th>\n",
       "      <th>17</th>\n",
       "      <th>18</th>\n",
       "      <th>19</th>\n",
       "    </tr>\n",
       "  </thead>\n",
       "  <tbody>\n",
       "    <tr>\n",
       "      <th>0</th>\n",
       "      <td>6.466530</td>\n",
       "      <td>-3.211009</td>\n",
       "      <td>-7.943147</td>\n",
       "      <td>3.895224</td>\n",
       "      <td>0.542789</td>\n",
       "      <td>4.548158</td>\n",
       "      <td>-1.730448</td>\n",
       "      <td>-1.065840</td>\n",
       "      <td>0.275832</td>\n",
       "      <td>0.347240</td>\n",
       "      <td>0.267277</td>\n",
       "      <td>0.592122</td>\n",
       "      <td>0.081599</td>\n",
       "      <td>0.655210</td>\n",
       "      <td>0.864078</td>\n",
       "      <td>-0.263198</td>\n",
       "      <td>0.747527</td>\n",
       "      <td>-0.725974</td>\n",
       "      <td>1.441709</td>\n",
       "      <td>1.840679</td>\n",
       "    </tr>\n",
       "    <tr>\n",
       "      <th>1</th>\n",
       "      <td>1.850226</td>\n",
       "      <td>-0.664150</td>\n",
       "      <td>0.515449</td>\n",
       "      <td>0.016866</td>\n",
       "      <td>0.847365</td>\n",
       "      <td>5.531356</td>\n",
       "      <td>-1.624389</td>\n",
       "      <td>-0.639681</td>\n",
       "      <td>0.102535</td>\n",
       "      <td>0.660528</td>\n",
       "      <td>-0.022816</td>\n",
       "      <td>0.637355</td>\n",
       "      <td>0.101212</td>\n",
       "      <td>0.848845</td>\n",
       "      <td>0.283162</td>\n",
       "      <td>-0.494308</td>\n",
       "      <td>1.001028</td>\n",
       "      <td>-0.353569</td>\n",
       "      <td>1.420783</td>\n",
       "      <td>1.547350</td>\n",
       "    </tr>\n",
       "    <tr>\n",
       "      <th>2</th>\n",
       "      <td>6.876396</td>\n",
       "      <td>-3.452095</td>\n",
       "      <td>-8.766760</td>\n",
       "      <td>4.264833</td>\n",
       "      <td>0.497332</td>\n",
       "      <td>4.343456</td>\n",
       "      <td>-1.810392</td>\n",
       "      <td>-1.310114</td>\n",
       "      <td>0.263228</td>\n",
       "      <td>0.535845</td>\n",
       "      <td>0.028667</td>\n",
       "      <td>0.734967</td>\n",
       "      <td>0.090048</td>\n",
       "      <td>0.354436</td>\n",
       "      <td>0.322574</td>\n",
       "      <td>-0.407062</td>\n",
       "      <td>0.918312</td>\n",
       "      <td>-0.876247</td>\n",
       "      <td>0.986749</td>\n",
       "      <td>1.970456</td>\n",
       "    </tr>\n",
       "    <tr>\n",
       "      <th>3</th>\n",
       "      <td>2.086823</td>\n",
       "      <td>-0.749849</td>\n",
       "      <td>0.623565</td>\n",
       "      <td>-0.011880</td>\n",
       "      <td>0.965353</td>\n",
       "      <td>6.427127</td>\n",
       "      <td>-1.871000</td>\n",
       "      <td>-0.851111</td>\n",
       "      <td>0.417680</td>\n",
       "      <td>0.229733</td>\n",
       "      <td>0.070695</td>\n",
       "      <td>0.651693</td>\n",
       "      <td>0.135798</td>\n",
       "      <td>0.080534</td>\n",
       "      <td>0.244390</td>\n",
       "      <td>-0.431212</td>\n",
       "      <td>0.847407</td>\n",
       "      <td>-1.035047</td>\n",
       "      <td>1.438722</td>\n",
       "      <td>1.748990</td>\n",
       "    </tr>\n",
       "    <tr>\n",
       "      <th>4</th>\n",
       "      <td>8.486463</td>\n",
       "      <td>-4.191425</td>\n",
       "      <td>-10.520080</td>\n",
       "      <td>5.153200</td>\n",
       "      <td>0.594077</td>\n",
       "      <td>7.306116</td>\n",
       "      <td>0.421197</td>\n",
       "      <td>0.686956</td>\n",
       "      <td>-0.218556</td>\n",
       "      <td>0.514653</td>\n",
       "      <td>-0.075804</td>\n",
       "      <td>0.589713</td>\n",
       "      <td>-0.074860</td>\n",
       "      <td>1.201807</td>\n",
       "      <td>0.776899</td>\n",
       "      <td>-0.232926</td>\n",
       "      <td>1.103443</td>\n",
       "      <td>-0.836380</td>\n",
       "      <td>1.390811</td>\n",
       "      <td>1.631403</td>\n",
       "    </tr>\n",
       "  </tbody>\n",
       "</table>\n",
       "</div>"
      ],
      "text/plain": [
       "         0         1          2         3         4         5         6   \\\n",
       "0  6.466530 -3.211009  -7.943147  3.895224  0.542789  4.548158 -1.730448   \n",
       "1  1.850226 -0.664150   0.515449  0.016866  0.847365  5.531356 -1.624389   \n",
       "2  6.876396 -3.452095  -8.766760  4.264833  0.497332  4.343456 -1.810392   \n",
       "3  2.086823 -0.749849   0.623565 -0.011880  0.965353  6.427127 -1.871000   \n",
       "4  8.486463 -4.191425 -10.520080  5.153200  0.594077  7.306116  0.421197   \n",
       "\n",
       "         7         8         9         10        11        12        13  \\\n",
       "0 -1.065840  0.275832  0.347240  0.267277  0.592122  0.081599  0.655210   \n",
       "1 -0.639681  0.102535  0.660528 -0.022816  0.637355  0.101212  0.848845   \n",
       "2 -1.310114  0.263228  0.535845  0.028667  0.734967  0.090048  0.354436   \n",
       "3 -0.851111  0.417680  0.229733  0.070695  0.651693  0.135798  0.080534   \n",
       "4  0.686956 -0.218556  0.514653 -0.075804  0.589713 -0.074860  1.201807   \n",
       "\n",
       "         14        15        16        17        18        19  \n",
       "0  0.864078 -0.263198  0.747527 -0.725974  1.441709  1.840679  \n",
       "1  0.283162 -0.494308  1.001028 -0.353569  1.420783  1.547350  \n",
       "2  0.322574 -0.407062  0.918312 -0.876247  0.986749  1.970456  \n",
       "3  0.244390 -0.431212  0.847407 -1.035047  1.438722  1.748990  \n",
       "4  0.776899 -0.232926  1.103443 -0.836380  1.390811  1.631403  "
      ]
     },
     "execution_count": 80,
     "metadata": {},
     "output_type": "execute_result"
    }
   ],
   "source": [
    "dataAfterSVD=pd.DataFrame(np.dot(datac.drop(cols,axis=1),dataSVD))\n",
    "dataAfterSVD.head()"
   ]
  },
  {
   "cell_type": "code",
   "execution_count": 81,
   "metadata": {},
   "outputs": [
    {
     "data": {
      "text/html": [
       "<div>\n",
       "<style scoped>\n",
       "    .dataframe tbody tr th:only-of-type {\n",
       "        vertical-align: middle;\n",
       "    }\n",
       "\n",
       "    .dataframe tbody tr th {\n",
       "        vertical-align: top;\n",
       "    }\n",
       "\n",
       "    .dataframe thead th {\n",
       "        text-align: right;\n",
       "    }\n",
       "</style>\n",
       "<table border=\"1\" class=\"dataframe\">\n",
       "  <thead>\n",
       "    <tr style=\"text-align: right;\">\n",
       "      <th></th>\n",
       "      <th>0</th>\n",
       "      <th>1</th>\n",
       "      <th>2</th>\n",
       "      <th>3</th>\n",
       "      <th>4</th>\n",
       "      <th>5</th>\n",
       "      <th>6</th>\n",
       "      <th>7</th>\n",
       "      <th>8</th>\n",
       "      <th>9</th>\n",
       "      <th>...</th>\n",
       "      <th>data_channel_is_socmed</th>\n",
       "      <th>data_channel_is_tech</th>\n",
       "      <th>data_channel_is_world</th>\n",
       "      <th>weekday_is_monday</th>\n",
       "      <th>weekday_is_tuesday</th>\n",
       "      <th>weekday_is_wednesday</th>\n",
       "      <th>weekday_is_thursday</th>\n",
       "      <th>weekday_is_friday</th>\n",
       "      <th>weekday_is_saturday</th>\n",
       "      <th>weekday_is_sunday</th>\n",
       "    </tr>\n",
       "  </thead>\n",
       "  <tbody>\n",
       "    <tr>\n",
       "      <th>0</th>\n",
       "      <td>6.466530</td>\n",
       "      <td>-3.211009</td>\n",
       "      <td>-7.943147</td>\n",
       "      <td>3.895224</td>\n",
       "      <td>0.542789</td>\n",
       "      <td>4.548158</td>\n",
       "      <td>-1.730448</td>\n",
       "      <td>-1.065840</td>\n",
       "      <td>0.275832</td>\n",
       "      <td>0.347240</td>\n",
       "      <td>...</td>\n",
       "      <td>0.0</td>\n",
       "      <td>0.0</td>\n",
       "      <td>0.0</td>\n",
       "      <td>1.0</td>\n",
       "      <td>0.0</td>\n",
       "      <td>0.0</td>\n",
       "      <td>0.0</td>\n",
       "      <td>0.0</td>\n",
       "      <td>0.0</td>\n",
       "      <td>0.0</td>\n",
       "    </tr>\n",
       "    <tr>\n",
       "      <th>1</th>\n",
       "      <td>1.850226</td>\n",
       "      <td>-0.664150</td>\n",
       "      <td>0.515449</td>\n",
       "      <td>0.016866</td>\n",
       "      <td>0.847365</td>\n",
       "      <td>5.531356</td>\n",
       "      <td>-1.624389</td>\n",
       "      <td>-0.639681</td>\n",
       "      <td>0.102535</td>\n",
       "      <td>0.660528</td>\n",
       "      <td>...</td>\n",
       "      <td>0.0</td>\n",
       "      <td>0.0</td>\n",
       "      <td>0.0</td>\n",
       "      <td>1.0</td>\n",
       "      <td>0.0</td>\n",
       "      <td>0.0</td>\n",
       "      <td>0.0</td>\n",
       "      <td>0.0</td>\n",
       "      <td>0.0</td>\n",
       "      <td>0.0</td>\n",
       "    </tr>\n",
       "    <tr>\n",
       "      <th>2</th>\n",
       "      <td>6.876396</td>\n",
       "      <td>-3.452095</td>\n",
       "      <td>-8.766760</td>\n",
       "      <td>4.264833</td>\n",
       "      <td>0.497332</td>\n",
       "      <td>4.343456</td>\n",
       "      <td>-1.810392</td>\n",
       "      <td>-1.310114</td>\n",
       "      <td>0.263228</td>\n",
       "      <td>0.535845</td>\n",
       "      <td>...</td>\n",
       "      <td>0.0</td>\n",
       "      <td>0.0</td>\n",
       "      <td>0.0</td>\n",
       "      <td>1.0</td>\n",
       "      <td>0.0</td>\n",
       "      <td>0.0</td>\n",
       "      <td>0.0</td>\n",
       "      <td>0.0</td>\n",
       "      <td>0.0</td>\n",
       "      <td>0.0</td>\n",
       "    </tr>\n",
       "    <tr>\n",
       "      <th>3</th>\n",
       "      <td>2.086823</td>\n",
       "      <td>-0.749849</td>\n",
       "      <td>0.623565</td>\n",
       "      <td>-0.011880</td>\n",
       "      <td>0.965353</td>\n",
       "      <td>6.427127</td>\n",
       "      <td>-1.871000</td>\n",
       "      <td>-0.851111</td>\n",
       "      <td>0.417680</td>\n",
       "      <td>0.229733</td>\n",
       "      <td>...</td>\n",
       "      <td>0.0</td>\n",
       "      <td>0.0</td>\n",
       "      <td>0.0</td>\n",
       "      <td>1.0</td>\n",
       "      <td>0.0</td>\n",
       "      <td>0.0</td>\n",
       "      <td>0.0</td>\n",
       "      <td>0.0</td>\n",
       "      <td>0.0</td>\n",
       "      <td>0.0</td>\n",
       "    </tr>\n",
       "    <tr>\n",
       "      <th>4</th>\n",
       "      <td>8.486463</td>\n",
       "      <td>-4.191425</td>\n",
       "      <td>-10.520080</td>\n",
       "      <td>5.153200</td>\n",
       "      <td>0.594077</td>\n",
       "      <td>7.306116</td>\n",
       "      <td>0.421197</td>\n",
       "      <td>0.686956</td>\n",
       "      <td>-0.218556</td>\n",
       "      <td>0.514653</td>\n",
       "      <td>...</td>\n",
       "      <td>0.0</td>\n",
       "      <td>1.0</td>\n",
       "      <td>0.0</td>\n",
       "      <td>1.0</td>\n",
       "      <td>0.0</td>\n",
       "      <td>0.0</td>\n",
       "      <td>0.0</td>\n",
       "      <td>0.0</td>\n",
       "      <td>0.0</td>\n",
       "      <td>0.0</td>\n",
       "    </tr>\n",
       "  </tbody>\n",
       "</table>\n",
       "<p>5 rows × 33 columns</p>\n",
       "</div>"
      ],
      "text/plain": [
       "          0         1          2         3         4         5         6  \\\n",
       "0  6.466530 -3.211009  -7.943147  3.895224  0.542789  4.548158 -1.730448   \n",
       "1  1.850226 -0.664150   0.515449  0.016866  0.847365  5.531356 -1.624389   \n",
       "2  6.876396 -3.452095  -8.766760  4.264833  0.497332  4.343456 -1.810392   \n",
       "3  2.086823 -0.749849   0.623565 -0.011880  0.965353  6.427127 -1.871000   \n",
       "4  8.486463 -4.191425 -10.520080  5.153200  0.594077  7.306116  0.421197   \n",
       "\n",
       "          7         8         9        ...          data_channel_is_socmed  \\\n",
       "0 -1.065840  0.275832  0.347240        ...                             0.0   \n",
       "1 -0.639681  0.102535  0.660528        ...                             0.0   \n",
       "2 -1.310114  0.263228  0.535845        ...                             0.0   \n",
       "3 -0.851111  0.417680  0.229733        ...                             0.0   \n",
       "4  0.686956 -0.218556  0.514653        ...                             0.0   \n",
       "\n",
       "   data_channel_is_tech  data_channel_is_world  weekday_is_monday  \\\n",
       "0                   0.0                    0.0                1.0   \n",
       "1                   0.0                    0.0                1.0   \n",
       "2                   0.0                    0.0                1.0   \n",
       "3                   0.0                    0.0                1.0   \n",
       "4                   1.0                    0.0                1.0   \n",
       "\n",
       "   weekday_is_tuesday  weekday_is_wednesday  weekday_is_thursday  \\\n",
       "0                 0.0                   0.0                  0.0   \n",
       "1                 0.0                   0.0                  0.0   \n",
       "2                 0.0                   0.0                  0.0   \n",
       "3                 0.0                   0.0                  0.0   \n",
       "4                 0.0                   0.0                  0.0   \n",
       "\n",
       "   weekday_is_friday  weekday_is_saturday  weekday_is_sunday  \n",
       "0                0.0                  0.0                0.0  \n",
       "1                0.0                  0.0                0.0  \n",
       "2                0.0                  0.0                0.0  \n",
       "3                0.0                  0.0                0.0  \n",
       "4                0.0                  0.0                0.0  \n",
       "\n",
       "[5 rows x 33 columns]"
      ]
     },
     "execution_count": 81,
     "metadata": {},
     "output_type": "execute_result"
    }
   ],
   "source": [
    "dataAfterSVD=pd.concat([dataAfterSVD,datac[cols]],axis=1)\n",
    "dataAfterSVD.head()"
   ]
  },
  {
   "cell_type": "code",
   "execution_count": 82,
   "metadata": {},
   "outputs": [
    {
     "data": {
      "text/plain": [
       "(39644, 33)"
      ]
     },
     "execution_count": 82,
     "metadata": {},
     "output_type": "execute_result"
    }
   ],
   "source": [
    "dataAfterSVD.shape"
   ]
  },
  {
   "cell_type": "code",
   "execution_count": 102,
   "metadata": {},
   "outputs": [
    {
     "data": {
      "text/plain": [
       "GridSearchCV(cv=5, error_score='raise',\n",
       "       estimator=GradientBoostingClassifier(criterion='friedman_mse', init=None,\n",
       "              learning_rate=0.05, loss='deviance', max_depth=8,\n",
       "              max_features='sqrt', max_leaf_nodes=None,\n",
       "              min_impurity_decrease=0.0, min_impurity_split=None,\n",
       "              min_samples_leaf=50, min_samples_split=400,\n",
       "              min_weight_fraction_leaf=0.0, n_estimators=100,\n",
       "              presort='auto', random_state=10, subsample=0.8, verbose=0,\n",
       "              warm_start=False),\n",
       "       fit_params={}, iid=False, n_jobs=4,\n",
       "       param_grid={'n_estimators': [20, 30, 40, 50, 60, 70, 80]},\n",
       "       pre_dispatch='2*n_jobs', refit=True, scoring='roc_auc', verbose=0)"
      ]
     },
     "execution_count": 102,
     "metadata": {},
     "output_type": "execute_result"
    }
   ],
   "source": [
    "predictors=[x for x in datac.columns]\n",
    "paramTest1={'n_estimators':list(range(20,81,10))}\n",
    "gsearch1=GridSearchCV(\n",
    "        estimator=GradientBoostingClassifier(\n",
    "                    learning_rate=0.05,\n",
    "                    min_samples_split=400,\n",
    "                    min_samples_leaf=50,\n",
    "                    max_depth=8,\n",
    "                    max_features='sqrt',\n",
    "                    subsample=0.8,\n",
    "                    random_state=10),\n",
    "        param_grid=paramTest1,scoring='roc_auc',n_jobs=4,iid=False,cv=5)\n",
    "gsearch1.fit(datac,target.sharesB)\n"
   ]
  },
  {
   "cell_type": "code",
   "execution_count": 103,
   "metadata": {},
   "outputs": [
    {
     "data": {
      "text/plain": [
       "([mean: 0.70554, std: 0.03846, params: {'n_estimators': 20},\n",
       "  mean: 0.70798, std: 0.03923, params: {'n_estimators': 30},\n",
       "  mean: 0.70923, std: 0.03884, params: {'n_estimators': 40},\n",
       "  mean: 0.70928, std: 0.04010, params: {'n_estimators': 50},\n",
       "  mean: 0.71016, std: 0.03969, params: {'n_estimators': 60},\n",
       "  mean: 0.70979, std: 0.04036, params: {'n_estimators': 70},\n",
       "  mean: 0.70943, std: 0.04181, params: {'n_estimators': 80}],\n",
       " {'n_estimators': 60},\n",
       " 0.7101632041769274)"
      ]
     },
     "execution_count": 103,
     "metadata": {},
     "output_type": "execute_result"
    }
   ],
   "source": [
    "gsearch1.grid_scores_,gsearch1.best_params_,gsearch1.best_score_"
   ]
  },
  {
   "cell_type": "code",
   "execution_count": 106,
   "metadata": {},
   "outputs": [
    {
     "data": {
      "text/plain": [
       "GridSearchCV(cv=5, error_score='raise',\n",
       "       estimator=GradientBoostingClassifier(criterion='friedman_mse', init=None,\n",
       "              learning_rate=0.05, loss='deviance', max_depth=3,\n",
       "              max_features='sqrt', max_leaf_nodes=None,\n",
       "              min_impurity_decrease=0.0, min_impurity_split=None,\n",
       "              min_samples_leaf=50, min_samples_split=2,\n",
       "              min_weight_fraction_leaf=0.0, n_estimators=60,\n",
       "              presort='auto', random_state=10, subsample=0.8, verbose=0,\n",
       "              warm_start=False),\n",
       "       fit_params={}, iid=False, n_jobs=4,\n",
       "       param_grid={'max_depth': [5, 7, 9, 11, 13, 15], 'min_samples_split': [200, 400, 600, 800, 1000]},\n",
       "       pre_dispatch='2*n_jobs', refit=True, scoring='roc_auc', verbose=0)"
      ]
     },
     "execution_count": 106,
     "metadata": {},
     "output_type": "execute_result"
    }
   ],
   "source": [
    "paramTest2={'max_depth':list(range(5,16,2)),\n",
    "            'min_samples_split':list(range(200,1001,200))}\n",
    "gsearch2=GridSearchCV(estimator=\n",
    "                     GradientBoostingClassifier(learning_rate=0.05,\n",
    "                                               n_estimators=60,\n",
    "                                               max_features='sqrt',\n",
    "                                                min_samples_leaf=50,\n",
    "                                               subsample=0.8,\n",
    "                                               random_state=10),\n",
    "                     param_grid=paramTest2,scoring='roc_auc',\n",
    "                     n_jobs=4,iid=False,cv=5)\n",
    "gsearch2.fit(datac,target.sharesB)"
   ]
  },
  {
   "cell_type": "code",
   "execution_count": 107,
   "metadata": {},
   "outputs": [
    {
     "data": {
      "text/plain": [
       "([mean: 0.70787, std: 0.03987, params: {'max_depth': 5, 'min_samples_split': 200},\n",
       "  mean: 0.70914, std: 0.03953, params: {'max_depth': 5, 'min_samples_split': 400},\n",
       "  mean: 0.70754, std: 0.04069, params: {'max_depth': 5, 'min_samples_split': 600},\n",
       "  mean: 0.70805, std: 0.03910, params: {'max_depth': 5, 'min_samples_split': 800},\n",
       "  mean: 0.70920, std: 0.03607, params: {'max_depth': 5, 'min_samples_split': 1000},\n",
       "  mean: 0.70905, std: 0.04013, params: {'max_depth': 7, 'min_samples_split': 200},\n",
       "  mean: 0.70929, std: 0.04087, params: {'max_depth': 7, 'min_samples_split': 400},\n",
       "  mean: 0.70784, std: 0.04135, params: {'max_depth': 7, 'min_samples_split': 600},\n",
       "  mean: 0.70903, std: 0.03953, params: {'max_depth': 7, 'min_samples_split': 800},\n",
       "  mean: 0.70848, std: 0.03659, params: {'max_depth': 7, 'min_samples_split': 1000},\n",
       "  mean: 0.70888, std: 0.04148, params: {'max_depth': 9, 'min_samples_split': 200},\n",
       "  mean: 0.71153, std: 0.03999, params: {'max_depth': 9, 'min_samples_split': 400},\n",
       "  mean: 0.70969, std: 0.04133, params: {'max_depth': 9, 'min_samples_split': 600},\n",
       "  mean: 0.70903, std: 0.04015, params: {'max_depth': 9, 'min_samples_split': 800},\n",
       "  mean: 0.71179, std: 0.03664, params: {'max_depth': 9, 'min_samples_split': 1000},\n",
       "  mean: 0.70898, std: 0.04219, params: {'max_depth': 11, 'min_samples_split': 200},\n",
       "  mean: 0.70990, std: 0.03909, params: {'max_depth': 11, 'min_samples_split': 400},\n",
       "  mean: 0.70985, std: 0.04199, params: {'max_depth': 11, 'min_samples_split': 600},\n",
       "  mean: 0.70890, std: 0.04120, params: {'max_depth': 11, 'min_samples_split': 800},\n",
       "  mean: 0.71134, std: 0.03636, params: {'max_depth': 11, 'min_samples_split': 1000},\n",
       "  mean: 0.70817, std: 0.04179, params: {'max_depth': 13, 'min_samples_split': 200},\n",
       "  mean: 0.70954, std: 0.04262, params: {'max_depth': 13, 'min_samples_split': 400},\n",
       "  mean: 0.71151, std: 0.03880, params: {'max_depth': 13, 'min_samples_split': 600},\n",
       "  mean: 0.71118, std: 0.03961, params: {'max_depth': 13, 'min_samples_split': 800},\n",
       "  mean: 0.71097, std: 0.03643, params: {'max_depth': 13, 'min_samples_split': 1000},\n",
       "  mean: 0.70727, std: 0.04094, params: {'max_depth': 15, 'min_samples_split': 200},\n",
       "  mean: 0.70949, std: 0.04152, params: {'max_depth': 15, 'min_samples_split': 400},\n",
       "  mean: 0.70995, std: 0.04080, params: {'max_depth': 15, 'min_samples_split': 600},\n",
       "  mean: 0.70947, std: 0.04255, params: {'max_depth': 15, 'min_samples_split': 800},\n",
       "  mean: 0.71045, std: 0.03775, params: {'max_depth': 15, 'min_samples_split': 1000}],\n",
       " {'max_depth': 9, 'min_samples_split': 1000},\n",
       " 0.7117908579035709)"
      ]
     },
     "execution_count": 107,
     "metadata": {},
     "output_type": "execute_result"
    }
   ],
   "source": [
    "gsearch2.grid_scores_,gsearch2.best_params_,gsearch2.best_score_"
   ]
  },
  {
   "cell_type": "code",
   "execution_count": 108,
   "metadata": {},
   "outputs": [
    {
     "data": {
      "text/plain": [
       "GridSearchCV(cv=5, error_score='raise',\n",
       "       estimator=GradientBoostingClassifier(criterion='friedman_mse', init=None,\n",
       "              learning_rate=0.05, loss='deviance', max_depth=9,\n",
       "              max_features='sqrt', max_leaf_nodes=None,\n",
       "              min_impurity_decrease=0.0, min_impurity_split=None,\n",
       "              min_samples_leaf=1, min_samples_split=2,\n",
       "              min_weight_fraction_leaf=0.0, n_estimators=60,\n",
       "              presort='auto', random_state=10, subsample=0.8, verbose=0,\n",
       "              warm_start=False),\n",
       "       fit_params={}, iid=False, n_jobs=4,\n",
       "       param_grid={'min_samples_split': [1000, 1200, 1400, 1600, 1800, 2000], 'min_samples_leaf': [30, 40, 50, 60, 70]},\n",
       "       pre_dispatch='2*n_jobs', refit=True, scoring='roc_auc', verbose=0)"
      ]
     },
     "execution_count": 108,
     "metadata": {},
     "output_type": "execute_result"
    }
   ],
   "source": [
    "paramTest3={'min_samples_split':list(range(1000,2100,200)),\n",
    "            'min_samples_leaf':list(range(30,71,10))}\n",
    "gsearch3=GridSearchCV(estimator=GradientBoostingClassifier(learning_rate=0.05,\n",
    "                                                          n_estimators=60,\n",
    "                                                          max_depth=9,\n",
    "                                                          max_features='sqrt',\n",
    "                                                          subsample=0.8,\n",
    "                                                          random_state=10),\n",
    "                     param_grid=paramTest3,scoring='roc_auc',n_jobs=4,\n",
    "                     iid=False,cv=5)\n",
    "gsearch3.fit(datac,target.sharesB)"
   ]
  },
  {
   "cell_type": "code",
   "execution_count": 109,
   "metadata": {},
   "outputs": [
    {
     "data": {
      "text/plain": [
       "([mean: 0.70743, std: 0.04058, params: {'min_samples_leaf': 30, 'min_samples_split': 1000},\n",
       "  mean: 0.70851, std: 0.04055, params: {'min_samples_leaf': 30, 'min_samples_split': 1200},\n",
       "  mean: 0.71018, std: 0.03876, params: {'min_samples_leaf': 30, 'min_samples_split': 1400},\n",
       "  mean: 0.71121, std: 0.03763, params: {'min_samples_leaf': 30, 'min_samples_split': 1600},\n",
       "  mean: 0.70946, std: 0.03866, params: {'min_samples_leaf': 30, 'min_samples_split': 1800},\n",
       "  mean: 0.71008, std: 0.03682, params: {'min_samples_leaf': 30, 'min_samples_split': 2000},\n",
       "  mean: 0.70921, std: 0.03920, params: {'min_samples_leaf': 40, 'min_samples_split': 1000},\n",
       "  mean: 0.70985, std: 0.03792, params: {'min_samples_leaf': 40, 'min_samples_split': 1200},\n",
       "  mean: 0.71019, std: 0.03868, params: {'min_samples_leaf': 40, 'min_samples_split': 1400},\n",
       "  mean: 0.70938, std: 0.03841, params: {'min_samples_leaf': 40, 'min_samples_split': 1600},\n",
       "  mean: 0.70840, std: 0.04106, params: {'min_samples_leaf': 40, 'min_samples_split': 1800},\n",
       "  mean: 0.71084, std: 0.03590, params: {'min_samples_leaf': 40, 'min_samples_split': 2000},\n",
       "  mean: 0.71179, std: 0.03664, params: {'min_samples_leaf': 50, 'min_samples_split': 1000},\n",
       "  mean: 0.71104, std: 0.03646, params: {'min_samples_leaf': 50, 'min_samples_split': 1200},\n",
       "  mean: 0.71034, std: 0.03788, params: {'min_samples_leaf': 50, 'min_samples_split': 1400},\n",
       "  mean: 0.71065, std: 0.03817, params: {'min_samples_leaf': 50, 'min_samples_split': 1600},\n",
       "  mean: 0.71009, std: 0.03738, params: {'min_samples_leaf': 50, 'min_samples_split': 1800},\n",
       "  mean: 0.71060, std: 0.03629, params: {'min_samples_leaf': 50, 'min_samples_split': 2000},\n",
       "  mean: 0.71207, std: 0.03621, params: {'min_samples_leaf': 60, 'min_samples_split': 1000},\n",
       "  mean: 0.71080, std: 0.03787, params: {'min_samples_leaf': 60, 'min_samples_split': 1200},\n",
       "  mean: 0.71010, std: 0.03698, params: {'min_samples_leaf': 60, 'min_samples_split': 1400},\n",
       "  mean: 0.71099, std: 0.03605, params: {'min_samples_leaf': 60, 'min_samples_split': 1600},\n",
       "  mean: 0.71028, std: 0.03793, params: {'min_samples_leaf': 60, 'min_samples_split': 1800},\n",
       "  mean: 0.71157, std: 0.03431, params: {'min_samples_leaf': 60, 'min_samples_split': 2000},\n",
       "  mean: 0.71144, std: 0.03574, params: {'min_samples_leaf': 70, 'min_samples_split': 1000},\n",
       "  mean: 0.71107, std: 0.03652, params: {'min_samples_leaf': 70, 'min_samples_split': 1200},\n",
       "  mean: 0.71128, std: 0.03507, params: {'min_samples_leaf': 70, 'min_samples_split': 1400},\n",
       "  mean: 0.71089, std: 0.03573, params: {'min_samples_leaf': 70, 'min_samples_split': 1600},\n",
       "  mean: 0.70967, std: 0.03758, params: {'min_samples_leaf': 70, 'min_samples_split': 1800},\n",
       "  mean: 0.71103, std: 0.03551, params: {'min_samples_leaf': 70, 'min_samples_split': 2000}],\n",
       " {'min_samples_leaf': 60, 'min_samples_split': 1000},\n",
       " 0.7120710591953633)"
      ]
     },
     "execution_count": 109,
     "metadata": {},
     "output_type": "execute_result"
    }
   ],
   "source": [
    "gsearch3.grid_scores_,gsearch3.best_params_,gsearch3.best_score_"
   ]
  },
  {
   "cell_type": "code",
   "execution_count": 110,
   "metadata": {},
   "outputs": [
    {
     "data": {
      "text/plain": [
       "GradientBoostingClassifier(criterion='friedman_mse', init=None,\n",
       "              learning_rate=0.05, loss='deviance', max_depth=9,\n",
       "              max_features='sqrt', max_leaf_nodes=None,\n",
       "              min_impurity_decrease=0.0, min_impurity_split=None,\n",
       "              min_samples_leaf=60, min_samples_split=1000,\n",
       "              min_weight_fraction_leaf=0.0, n_estimators=60,\n",
       "              presort='auto', random_state=10, subsample=0.8, verbose=0,\n",
       "              warm_start=False)"
      ]
     },
     "execution_count": 110,
     "metadata": {},
     "output_type": "execute_result"
    }
   ],
   "source": [
    "gsearch3.best_estimator_"
   ]
  },
  {
   "cell_type": "code",
   "execution_count": 120,
   "metadata": {},
   "outputs": [
    {
     "name": "stdout",
     "output_type": "stream",
     "text": [
      "CV Score : Mean - 0.7120711 | Std - 0.0362127 | Min - 0.6440833 | Max - 0.7443357\n"
     ]
    },
    {
     "data": {
      "image/png": "[encoded data removed]",
      "text/plain": [
       "<matplotlib.figure.Figure at 0x1ee5fd88b70>"
      ]
     },
     "metadata": {},
     "output_type": "display_data"
    }
   ],
   "source": [
    "get_accuracy_clf(gsearch3.best_estimator_,datac,target.sharesB)"
   ]
  },
  {
   "cell_type": "code",
   "execution_count": 125,
   "metadata": {},
   "outputs": [
    {
     "data": {
      "text/plain": [
       "GridSearchCV(cv=5, error_score='raise',\n",
       "       estimator=GradientBoostingClassifier(criterion='friedman_mse', init=None,\n",
       "              learning_rate=0.05, loss='deviance', max_depth=9,\n",
       "              max_features=None, max_leaf_nodes=None,\n",
       "              min_impurity_decrease=0.0, min_impurity_split=None,\n",
       "              min_samples_leaf=60, min_samples_split=1000,\n",
       "              min_weight_fraction_leaf=0.0, n_estimators=60,\n",
       "              presort='auto', random_state=10, subsample=0.8, verbose=0,\n",
       "              warm_start=False),\n",
       "       fit_params={}, iid=False, n_jobs=4,\n",
       "       param_grid={'max_features': [1, 3, 5, 7, 9, 11, 13, 15, 17, 19]},\n",
       "       pre_dispatch='2*n_jobs', refit=True, scoring='roc_auc', verbose=0)"
      ]
     },
     "execution_count": 125,
     "metadata": {},
     "output_type": "execute_result"
    }
   ],
   "source": [
    "paramTest4={'max_features':list(range(1,20,2))}\n",
    "gsearch4=GridSearchCV(\n",
    "    estimator=GradientBoostingClassifier(learning_rate=0.05,\n",
    "                                         n_estimators=60,\n",
    "                                         max_depth=9,\n",
    "                                         min_samples_split=1000,\n",
    "                                         min_samples_leaf=60,\n",
    "                                        subsample=0.8,\n",
    "                                        random_state=10),\n",
    "    param_grid=paramTest4,scoring='roc_auc',n_jobs=4,iid=False,cv=5)\n",
    "gsearch4.fit(datac,target.sharesB)"
   ]
  },
  {
   "cell_type": "code",
   "execution_count": 126,
   "metadata": {},
   "outputs": [
    {
     "data": {
      "text/plain": [
       "([mean: 0.70990, std: 0.03086, params: {'max_features': 1},\n",
       "  mean: 0.71386, std: 0.02963, params: {'max_features': 3},\n",
       "  mean: 0.71279, std: 0.03717, params: {'max_features': 5},\n",
       "  mean: 0.71207, std: 0.03621, params: {'max_features': 7},\n",
       "  mean: 0.70844, std: 0.04141, params: {'max_features': 9},\n",
       "  mean: 0.70807, std: 0.04221, params: {'max_features': 11},\n",
       "  mean: 0.70685, std: 0.04450, params: {'max_features': 13},\n",
       "  mean: 0.70613, std: 0.04335, params: {'max_features': 15},\n",
       "  mean: 0.70705, std: 0.04499, params: {'max_features': 17},\n",
       "  mean: 0.70589, std: 0.04672, params: {'max_features': 19}],\n",
       " {'max_features': 3},\n",
       " 0.7138589510508598)"
      ]
     },
     "execution_count": 126,
     "metadata": {},
     "output_type": "execute_result"
    }
   ],
   "source": [
    "gsearch4.grid_scores_,gsearch4.best_params_,gsearch4.best_score_"
   ]
  },
  {
   "cell_type": "code",
   "execution_count": 128,
   "metadata": {},
   "outputs": [
    {
     "data": {
      "text/plain": [
       "GridSearchCV(cv=5, error_score='raise',\n",
       "       estimator=GradientBoostingClassifier(criterion='friedman_mse', init=None,\n",
       "              learning_rate=0.05, loss='deviance', max_depth=9,\n",
       "              max_features=3, max_leaf_nodes=None,\n",
       "              min_impurity_decrease=0.0, min_impurity_split=None,\n",
       "              min_samples_leaf=60, min_samples_split=1000,\n",
       "              min_weight_fraction_leaf=0.0, n_estimators=60,\n",
       "              presort='auto', random_state=10, subsample=1.0, verbose=0,\n",
       "              warm_start=False),\n",
       "       fit_params={}, iid=False, n_jobs=4,\n",
       "       param_grid={'subsample': [0.6, 0.7, 0.75, 0.8, 0.85, 0.9]},\n",
       "       pre_dispatch='2*n_jobs', refit=True, scoring='roc_auc', verbose=0)"
      ]
     },
     "execution_count": 128,
     "metadata": {},
     "output_type": "execute_result"
    }
   ],
   "source": [
    "paramTest5={'subsample':[0.6,0.7,0.75,0.8,0.85,0.9]}\n",
    "gsearch5=GridSearchCV(estimator= \n",
    "                      GradientBoostingClassifier(learning_rate=0.05,\n",
    "                                                max_depth=9,\n",
    "                                                max_features=3,\n",
    "                                                n_estimators=60,\n",
    "                                                min_samples_split=1000,\n",
    "                                                min_samples_leaf=60,\n",
    "                                                random_state=10),\n",
    "                     param_grid=paramTest5,scoring='roc_auc',n_jobs=4,\n",
    "                     iid=False,cv=5)\n",
    "gsearch5.fit(datac,target.sharesB)"
   ]
  },
  {
   "cell_type": "code",
   "execution_count": 129,
   "metadata": {},
   "outputs": [
    {
     "data": {
      "text/plain": [
       "([mean: 0.71383, std: 0.03013, params: {'subsample': 0.6},\n",
       "  mean: 0.71390, std: 0.03030, params: {'subsample': 0.7},\n",
       "  mean: 0.71416, std: 0.03047, params: {'subsample': 0.75},\n",
       "  mean: 0.71386, std: 0.02963, params: {'subsample': 0.8},\n",
       "  mean: 0.71508, std: 0.02819, params: {'subsample': 0.85},\n",
       "  mean: 0.71511, std: 0.02874, params: {'subsample': 0.9}],\n",
       " {'subsample': 0.9},\n",
       " 0.7151118094948385)"
      ]
     },
     "execution_count": 129,
     "metadata": {},
     "output_type": "execute_result"
    }
   ],
   "source": [
    "gsearch5.grid_scores_,gsearch5.best_params_,gsearch5.best_score_"
   ]
  },
  {
   "cell_type": "code",
   "execution_count": 132,
   "metadata": {},
   "outputs": [
    {
     "name": "stdout",
     "output_type": "stream",
     "text": [
      "CV Score : Mean - 0.7151118 | Std - 0.02873665 | Min - 0.6653418 | Max - 0.743185\n"
     ]
    },
    {
     "data": {
      "image/png": "[encoded data removed]",
      "text/plain": [
       "<matplotlib.figure.Figure at 0x1ee5f58ae10>"
      ]
     },
     "metadata": {},
     "output_type": "display_data"
    }
   ],
   "source": [
    "gbm_tuned_1=GradientBoostingClassifier(learning_rate=0.05,\n",
    "                                                max_depth=9,\n",
    "                                                max_features=3,\n",
    "                                                n_estimators=60,\n",
    "                                                min_samples_split=1000,\n",
    "                                                min_samples_leaf=60,\n",
    "                                                random_state=10,\n",
    "                                      subsample=0.9)\n",
    "get_accuracy_clf(gbm_tuned_1,datac,target.sharesB)"
   ]
  },
  {
   "cell_type": "code",
   "execution_count": 133,
   "metadata": {},
   "outputs": [
    {
     "name": "stdout",
     "output_type": "stream",
     "text": [
      "CV Score : Mean - 0.7078251 | Std - 0.03224191 | Min - 0.6494208 | Max - 0.7401695\n"
     ]
    },
    {
     "data": {
      "image/png": "[encoded data removed]",
      "text/plain": [
       "<matplotlib.figure.Figure at 0x1ee5c5c83c8>"
      ]
     },
     "metadata": {},
     "output_type": "display_data"
    }
   ],
   "source": [
    "gbm_tuned_1=GradientBoostingClassifier(learning_rate=0.005,\n",
    "                                                max_depth=9,\n",
    "                                                max_features=3,\n",
    "                                                n_estimators=60,\n",
    "                                                min_samples_split=1000,\n",
    "                                                min_samples_leaf=60,\n",
    "                                                random_state=10,\n",
    "                                      subsample=0.9)\n",
    "get_accuracy_clf(gbm_tuned_1,datac,target.sharesB)"
   ]
  },
  {
   "cell_type": "code",
   "execution_count": 134,
   "metadata": {},
   "outputs": [
    {
     "name": "stdout",
     "output_type": "stream",
     "text": [
      "CV Score : Mean - 0.7064491 | Std - 0.03321407 | Min - 0.6463646 | Max - 0.7408587\n"
     ]
    },
    {
     "data": {
      "image/png": "[encoded data removed]",
      "text/plain": [
       "<matplotlib.figure.Figure at 0x1ee5fd11b00>"
      ]
     },
     "metadata": {},
     "output_type": "display_data"
    }
   ],
   "source": [
    "gbm_tuned_1=GradientBoostingClassifier(learning_rate=0.001,\n",
    "                                                max_depth=9,\n",
    "                                                max_features=3,\n",
    "                                                n_estimators=60,\n",
    "                                                min_samples_split=1000,\n",
    "                                                min_samples_leaf=60,\n",
    "                                                random_state=10,\n",
    "                                      subsample=0.9)\n",
    "get_accuracy_clf(gbm_tuned_1,datac,target.sharesB)"
   ]
  },
  {
   "cell_type": "markdown",
   "metadata": {},
   "source": [
    "## Classification"
   ]
  },
  {
   "cell_type": "code",
   "execution_count": 2,
   "metadata": {},
   "outputs": [],
   "source": [
    "def get_accuracy_clf(clf,X,y,kf=None,dokf=False):\n",
    "    tprs = []\n",
    "    aucs = []\n",
    "    mean_fpr = np.linspace(0, 1, 100)\n",
    "    i=0\n",
    "    if dokf:\n",
    "        for train_index,test_index in kf.split(X):\n",
    "            print(\"iteration : \",i+1)\n",
    "            xTrain,xTest=X.loc[train_index,:],X.loc[test_index,:]\n",
    "            yTrain,yTest=y.loc[train_index],y.loc[test_index]\n",
    "    #         print(xTest[xTest.isin([np.nan,-np.inf,np.inf]).any(1)])\n",
    "    #         print(xTrain[0])\n",
    "    #         print(yTrain[yTrain.isin([np.nan,-np.inf,np.inf])])\n",
    "    #         df[~df.isin([np.nan, np.inf, -np.inf]).any(1)]\n",
    "            clf.fit(xTrain,yTrain)\n",
    "            prediction=clf.predict(xTest)\n",
    "    #         print(\"prediction\",prediction)\n",
    "    #         print(yTest)\n",
    "            fpr,tpr,thresholds=roc_curve(yTest,prediction)\n",
    "            tprs.append(np.interp(mean_fpr, fpr, tpr))\n",
    "            tprs[-1][0] = 0.0\n",
    "            roc_auc = auc(fpr, tpr)\n",
    "            aucs.append(roc_auc)\n",
    "            i=i+1\n",
    "            featImp=pd.Series(clf.feature_importances_,[x for x in xTrain.columns]).sort_values(ascending=False)\n",
    "            featImp.plot(kind=\"bar\",title=\"feature importance\")\n",
    "    clf.fit(X,y)\n",
    "    cv_score=cross_val_score(clf,X,y,cv=5,scoring='roc_auc')\n",
    "    print (\"CV Score : Mean - %.7g | Std - %.7g | Min - %.7g | Max - %.7g\" \n",
    "           % (np.mean(cv_score),\n",
    "              np.std(cv_score),\n",
    "              np.min(cv_score),\n",
    "              np.max(cv_score)))\n",
    "    featImp=pd.Series(clf.feature_importances_,[x for x in X.columns]).sort_values(ascending=False)\n",
    "    featImp.plot(kind=\"bar\",title=\"feature importance\")\n",
    "    if dokf:\n",
    "        mean_tpr = np.mean(tprs, axis=0)\n",
    "        mean_tpr[-1] = 1.0\n",
    "        mean_auc = auc(mean_fpr, mean_tpr)\n",
    "        return mean_auc,mean_tpr,mean_fpr\n",
    "    return\n",
    "    \n",
    "\n",
    "        "
   ]
  },
  {
   "cell_type": "markdown",
   "metadata": {},
   "source": [
    "## Gradient Boost Machine"
   ]
  },
  {
   "cell_type": "code",
   "execution_count": 11,
   "metadata": {},
   "outputs": [
    {
     "name": "stdout",
     "output_type": "stream",
     "text": [
      "iteration :  1\n",
      "iteration :  2\n",
      "iteration :  3\n",
      "iteration :  4\n",
      "iteration :  5\n",
      "CV Score : Mean - 0.6950432 | Std - 0.05569304 | Min - 0.5904393 | Max - 0.7442719\n",
      "The ROC area under curve is :  0.656782336375\n"
     ]
    },
    {
     "data": {
      "image/png": "[encoded data removed]",
      "text/plain": [
       "<matplotlib.figure.Figure at 0x29c315d57f0>"
      ]
     },
     "metadata": {},
     "output_type": "display_data"
    }
   ],
   "source": [
    "gbm=GradientBoostingClassifier()\n",
    "kf=KFold(n_splits=5)\n",
    "auc_mean,tpr,fpr=get_accuracy_clf(gbm,datac,target.sharesB,kf,dokf=True)\n",
    "print(\"The ROC area under curve is : \",auc_mean)"
   ]
  },
  {
   "cell_type": "markdown",
   "metadata": {},
   "source": [
    "## Random Forest Classifier"
   ]
  },
  {
   "cell_type": "code",
   "execution_count": 13,
   "metadata": {},
   "outputs": [
    {
     "name": "stdout",
     "output_type": "stream",
     "text": [
      "iteration :  1\n",
      "iteration :  2\n",
      "iteration :  3\n",
      "iteration :  4\n",
      "iteration :  5\n",
      "CV Score : Mean - 0.6490133 | Std - 0.04325671 | Min - 0.5656774 | Max - 0.6827727\n",
      "The ROC area under curve is :  0.617114563616\n"
     ]
    },
    {
     "data": {
      "image/png": "[encoded data removed]",
      "text/plain": [
       "<matplotlib.figure.Figure at 0x29c31688d30>"
      ]
     },
     "metadata": {},
     "output_type": "display_data"
    }
   ],
   "source": [
    "rfClf=RandomForestClassifier()\n",
    "auc_mean2,tpr2,fpr2=get_accuracy_clf(rfClf,datac,target.sharesB,kf,dokf=True)\n",
    "print(\"The ROC area under curve is : \",auc_mean2)"
   ]
  },
  {
   "cell_type": "markdown",
   "metadata": {},
   "source": [
    "## Plotting the ROC curve"
   ]
  },
  {
   "cell_type": "code",
   "execution_count": 66,
   "metadata": {},
   "outputs": [
    {
     "data": {
      "image/png": "[encoded data removed]",
      "text/plain": [
       "<matplotlib.figure.Figure at 0x1ee57ff4ac8>"
      ]
     },
     "metadata": {},
     "output_type": "display_data"
    }
   ],
   "source": [
    "plt.plot(fpr,tpr,'b',label='AUC = %0.2f' % (auc_mean))\n",
    "plt.plot(fpr2,tpr2,'r',label='AUCRF = %0.2f' % (auc_mean2))\n",
    "plt.xlim([-0.05, 1.05])\n",
    "plt.ylim([-0.05, 1.05])\n",
    "plt.xlabel('False Positive Rate')\n",
    "plt.ylabel('True Positive Rate')\n",
    "plt.legend(loc=\"lower right\")\n",
    "plt.show()"
   ]
  },
  {
   "cell_type": "markdown",
   "metadata": {},
   "source": [
    "## Regression"
   ]
  },
  {
   "cell_type": "code",
   "execution_count": 39,
   "metadata": {},
   "outputs": [],
   "source": [
    "def mean_absolute_percentage_error(y_true, y_pred): \n",
    "    y_true, y_pred = np.array(y_true), np.array(y_pred)\n",
    "    return np.mean(np.abs((y_true - y_pred) / y_true)) * 100"
   ]
  },
  {
   "cell_type": "code",
   "execution_count": 88,
   "metadata": {},
   "outputs": [],
   "source": [
    "def get_accuracy_reg(reg,data,target,kf):\n",
    "#     print(data.index)\n",
    "    score=[]\n",
    "    score2=[]\n",
    "    i=0\n",
    "    targetl=np.log(1+target)\n",
    "    for train_index,test_index in kf.split(data):\n",
    "        print(\"iteration : \",i)\n",
    "        xTrain,xTest=data.loc[train_index,:],data.loc[test_index,:]\n",
    "        yTrain,yTest=targetl.loc[train_index],targetl.loc[test_index]\n",
    "        yCheckTrain,yCheckTest=target.loc[train_index],target.loc[test_index]\n",
    "#         print(xTest[xTest.isin([np.nan,-np.inf,np.inf]).any(1)])\n",
    "#         print(xTrain[0])\n",
    "#         print(yTrain[yTrain.isin([np.nan,-np.inf,np.inf])])\n",
    "#         df[~df.isin([np.nan, np.inf, -np.inf]).any(1)]\n",
    "        reg.fit(xTrain,yTrain)\n",
    "        prediction=reg.predict(xTest)\n",
    "#         print(\"prediction\",prediction)\n",
    "#         print(yTest)\n",
    "        score.append(mean_absolute_percentage_error(yTest,prediction))\n",
    "        score2.append(mean_absolute_percentage_error(yCheckTest,np.exp(prediction)))\n",
    "        i+=1\n",
    "        featImp=pd.Series(reg.feature_importances_,[x for x in xTrain.columns]).sort_values(ascending=False)\n",
    "        featImp.plot(kind=\"bar\",title=\"feature importance\")\n",
    "#     print(\"mean absolute percentage error is \",score)\n",
    "    return score,score2\n",
    "    "
   ]
  },
  {
   "cell_type": "markdown",
   "metadata": {},
   "source": [
    "## Gradient Boost Regressor"
   ]
  },
  {
   "cell_type": "code",
   "execution_count": 89,
   "metadata": {},
   "outputs": [
    {
     "name": "stdout",
     "output_type": "stream",
     "text": [
      "iteration :  0\n",
      "iteration :  1\n",
      "iteration :  2\n",
      "iteration :  3\n",
      "iteration :  4\n",
      "MAPE_LOG:  8.776427356021646\n",
      "MAPE:  88.58837393273453\n"
     ]
    },
    {
     "data": {
      "image/png": "[encoded data removed]",
      "text/plain": [
       "<matplotlib.figure.Figure at 0x1ee57ffb978>"
      ]
     },
     "metadata": {},
     "output_type": "display_data"
    }
   ],
   "source": [
    "gbr=GradientBoostingRegressor()\n",
    "regscore,regscore2=get_accuracy_reg(gbr,dataAfterPCA,target.shares,kf)\n",
    "print(\"MAPE_LOG: \",sum(regscore)/len(regscore))\n",
    "print(\"MAPE: \",sum(regscore2)/len(regscore2))"
   ]
  },
  {
   "cell_type": "markdown",
   "metadata": {},
   "source": [
    "## Random Forest Regressor"
   ]
  },
  {
   "cell_type": "code",
   "execution_count": 44,
   "metadata": {},
   "outputs": [
    {
     "name": "stdout",
     "output_type": "stream",
     "text": [
      "iteration :  0\n",
      "iteration :  1\n",
      "iteration :  2\n",
      "iteration :  3\n",
      "iteration :  4\n",
      "MAPE_LOG:  9.61910020982126\n",
      "MAPE:  101.41666714017234\n"
     ]
    }
   ],
   "source": [
    "rfr=RandomForestRegressor()\n",
    "rfrRegScore,rfrRegScore2=get_accuracy_reg(rfr,dataAfterPCA,target.shares,kf)\n",
    "print(\"MAPE_LOG: \",sum(rfrRegScore)/len(rfrRegScore))\n",
    "print(\"MAPE: \",sum(rfrRegScore2)/len(rfrRegScore2))"
   ]
  }
 ],
 "metadata": {
  "kernelspec": {
   "display_name": "Python 3",
   "language": "python",
   "name": "python3"
  },
  "language_info": {
   "codemirror_mode": {
    "name": "ipython",
    "version": 3
   },
   "file_extension": ".py",
   "mimetype": "text/x-python",
   "name": "python",
   "nbconvert_exporter": "python",
   "pygments_lexer": "ipython3",
   "version": "3.6.4"
  }
 },
 "nbformat": 4,
 "nbformat_minor": 2
}
