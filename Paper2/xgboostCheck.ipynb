{
 "cells": [
  {
   "cell_type": "code",
   "execution_count": 77,
   "metadata": {},
   "outputs": [],
   "source": [
    "from sklearn.cross_validation import cross_val_score\n",
    "from sklearn.grid_search import GridSearchCV\n",
    "import xgboost as xgb\n",
    "import pandas as pd\n",
    "import numpy as np\n",
    "import matplotlib.pyplot as plt\n",
    "from xgboost.sklearn import XGBClassifier\n",
    "from sklearn import metrics\n",
    "from sklearn.model_selection import train_test_split"
   ]
  },
  {
   "cell_type": "code",
   "execution_count": 2,
   "metadata": {},
   "outputs": [],
   "source": [
    "data=pd.read_csv(\"data.csv\")\n",
    "target=pd.read_csv(\"target.csv\")"
   ]
  },
  {
   "cell_type": "code",
   "execution_count": 3,
   "metadata": {},
   "outputs": [
    {
     "data": {
      "text/html": [
       "<div>\n",
       "<style scoped>\n",
       "    .dataframe tbody tr th:only-of-type {\n",
       "        vertical-align: middle;\n",
       "    }\n",
       "\n",
       "    .dataframe tbody tr th {\n",
       "        vertical-align: top;\n",
       "    }\n",
       "\n",
       "    .dataframe thead th {\n",
       "        text-align: right;\n",
       "    }\n",
       "</style>\n",
       "<table border=\"1\" class=\"dataframe\">\n",
       "  <thead>\n",
       "    <tr style=\"text-align: right;\">\n",
       "      <th></th>\n",
       "      <th>n_tokens_title</th>\n",
       "      <th>n_tokens_content</th>\n",
       "      <th>n_unique_tokens</th>\n",
       "      <th>n_non_stop_words</th>\n",
       "      <th>n_non_stop_unique_tokens</th>\n",
       "      <th>num_hrefs</th>\n",
       "      <th>num_self_hrefs</th>\n",
       "      <th>num_imgs</th>\n",
       "      <th>num_videos</th>\n",
       "      <th>average_token_length</th>\n",
       "      <th>...</th>\n",
       "      <th>avg_positive_polarity</th>\n",
       "      <th>min_positive_polarity</th>\n",
       "      <th>max_positive_polarity</th>\n",
       "      <th>avg_negative_polarity</th>\n",
       "      <th>min_negative_polarity</th>\n",
       "      <th>max_negative_polarity</th>\n",
       "      <th>title_subjectivity</th>\n",
       "      <th>title_sentiment_polarity</th>\n",
       "      <th>abs_title_subjectivity</th>\n",
       "      <th>abs_title_sentiment_polarity</th>\n",
       "    </tr>\n",
       "  </thead>\n",
       "  <tbody>\n",
       "    <tr>\n",
       "      <th>0</th>\n",
       "      <td>2.565026</td>\n",
       "      <td>5.393632</td>\n",
       "      <td>0.509582</td>\n",
       "      <td>0.693647</td>\n",
       "      <td>0.596848</td>\n",
       "      <td>1.609638</td>\n",
       "      <td>1.098946</td>\n",
       "      <td>0.693647</td>\n",
       "      <td>0.001</td>\n",
       "      <td>1.737192</td>\n",
       "      <td>...</td>\n",
       "      <td>0.378636</td>\n",
       "      <td>0.100000</td>\n",
       "      <td>0.7</td>\n",
       "      <td>-0.350000</td>\n",
       "      <td>-0.600</td>\n",
       "      <td>-0.200000</td>\n",
       "      <td>0.500000</td>\n",
       "      <td>-0.206409</td>\n",
       "      <td>0.001000</td>\n",
       "      <td>0.187500</td>\n",
       "    </tr>\n",
       "    <tr>\n",
       "      <th>1</th>\n",
       "      <td>2.302685</td>\n",
       "      <td>5.545181</td>\n",
       "      <td>0.473587</td>\n",
       "      <td>0.693647</td>\n",
       "      <td>0.583860</td>\n",
       "      <td>1.386544</td>\n",
       "      <td>0.693647</td>\n",
       "      <td>0.693647</td>\n",
       "      <td>0.001</td>\n",
       "      <td>1.777445</td>\n",
       "      <td>...</td>\n",
       "      <td>0.286915</td>\n",
       "      <td>0.033333</td>\n",
       "      <td>0.7</td>\n",
       "      <td>-0.118750</td>\n",
       "      <td>-0.125</td>\n",
       "      <td>-0.100000</td>\n",
       "      <td>0.000000</td>\n",
       "      <td>0.001000</td>\n",
       "      <td>0.406132</td>\n",
       "      <td>0.000000</td>\n",
       "    </tr>\n",
       "    <tr>\n",
       "      <th>2</th>\n",
       "      <td>2.302685</td>\n",
       "      <td>5.356591</td>\n",
       "      <td>0.454972</td>\n",
       "      <td>0.693647</td>\n",
       "      <td>0.509744</td>\n",
       "      <td>1.386544</td>\n",
       "      <td>0.693647</td>\n",
       "      <td>0.693647</td>\n",
       "      <td>0.001</td>\n",
       "      <td>1.685355</td>\n",
       "      <td>...</td>\n",
       "      <td>0.495833</td>\n",
       "      <td>0.100000</td>\n",
       "      <td>1.0</td>\n",
       "      <td>-0.466667</td>\n",
       "      <td>-0.800</td>\n",
       "      <td>-0.133333</td>\n",
       "      <td>0.000000</td>\n",
       "      <td>0.001000</td>\n",
       "      <td>0.406132</td>\n",
       "      <td>0.000000</td>\n",
       "    </tr>\n",
       "    <tr>\n",
       "      <th>3</th>\n",
       "      <td>2.302685</td>\n",
       "      <td>6.276645</td>\n",
       "      <td>0.408652</td>\n",
       "      <td>0.693647</td>\n",
       "      <td>0.510806</td>\n",
       "      <td>2.302685</td>\n",
       "      <td>0.001000</td>\n",
       "      <td>0.693647</td>\n",
       "      <td>0.001</td>\n",
       "      <td>1.687490</td>\n",
       "      <td>...</td>\n",
       "      <td>0.385965</td>\n",
       "      <td>0.136364</td>\n",
       "      <td>0.8</td>\n",
       "      <td>-0.369697</td>\n",
       "      <td>-0.600</td>\n",
       "      <td>-0.166667</td>\n",
       "      <td>0.000000</td>\n",
       "      <td>0.001000</td>\n",
       "      <td>0.406132</td>\n",
       "      <td>0.000000</td>\n",
       "    </tr>\n",
       "    <tr>\n",
       "      <th>4</th>\n",
       "      <td>2.639129</td>\n",
       "      <td>6.978215</td>\n",
       "      <td>0.348292</td>\n",
       "      <td>0.693647</td>\n",
       "      <td>0.433009</td>\n",
       "      <td>2.995782</td>\n",
       "      <td>2.995782</td>\n",
       "      <td>3.044570</td>\n",
       "      <td>0.001</td>\n",
       "      <td>1.737626</td>\n",
       "      <td>...</td>\n",
       "      <td>0.411127</td>\n",
       "      <td>0.033333</td>\n",
       "      <td>1.0</td>\n",
       "      <td>-0.220192</td>\n",
       "      <td>-0.500</td>\n",
       "      <td>-0.050000</td>\n",
       "      <td>0.454545</td>\n",
       "      <td>0.128713</td>\n",
       "      <td>0.045408</td>\n",
       "      <td>0.136364</td>\n",
       "    </tr>\n",
       "  </tbody>\n",
       "</table>\n",
       "<p>5 rows × 58 columns</p>\n",
       "</div>"
      ],
      "text/plain": [
       "   n_tokens_title  n_tokens_content  n_unique_tokens  n_non_stop_words  \\\n",
       "0        2.565026          5.393632         0.509582          0.693647   \n",
       "1        2.302685          5.545181         0.473587          0.693647   \n",
       "2        2.302685          5.356591         0.454972          0.693647   \n",
       "3        2.302685          6.276645         0.408652          0.693647   \n",
       "4        2.639129          6.978215         0.348292          0.693647   \n",
       "\n",
       "   n_non_stop_unique_tokens  num_hrefs  num_self_hrefs  num_imgs  num_videos  \\\n",
       "0                  0.596848   1.609638        1.098946  0.693647       0.001   \n",
       "1                  0.583860   1.386544        0.693647  0.693647       0.001   \n",
       "2                  0.509744   1.386544        0.693647  0.693647       0.001   \n",
       "3                  0.510806   2.302685        0.001000  0.693647       0.001   \n",
       "4                  0.433009   2.995782        2.995782  3.044570       0.001   \n",
       "\n",
       "   average_token_length              ...               avg_positive_polarity  \\\n",
       "0              1.737192              ...                            0.378636   \n",
       "1              1.777445              ...                            0.286915   \n",
       "2              1.685355              ...                            0.495833   \n",
       "3              1.687490              ...                            0.385965   \n",
       "4              1.737626              ...                            0.411127   \n",
       "\n",
       "   min_positive_polarity  max_positive_polarity  avg_negative_polarity  \\\n",
       "0               0.100000                    0.7              -0.350000   \n",
       "1               0.033333                    0.7              -0.118750   \n",
       "2               0.100000                    1.0              -0.466667   \n",
       "3               0.136364                    0.8              -0.369697   \n",
       "4               0.033333                    1.0              -0.220192   \n",
       "\n",
       "   min_negative_polarity  max_negative_polarity  title_subjectivity  \\\n",
       "0                 -0.600              -0.200000            0.500000   \n",
       "1                 -0.125              -0.100000            0.000000   \n",
       "2                 -0.800              -0.133333            0.000000   \n",
       "3                 -0.600              -0.166667            0.000000   \n",
       "4                 -0.500              -0.050000            0.454545   \n",
       "\n",
       "   title_sentiment_polarity  abs_title_subjectivity  \\\n",
       "0                 -0.206409                0.001000   \n",
       "1                  0.001000                0.406132   \n",
       "2                  0.001000                0.406132   \n",
       "3                  0.001000                0.406132   \n",
       "4                  0.128713                0.045408   \n",
       "\n",
       "   abs_title_sentiment_polarity  \n",
       "0                      0.187500  \n",
       "1                      0.000000  \n",
       "2                      0.000000  \n",
       "3                      0.000000  \n",
       "4                      0.136364  \n",
       "\n",
       "[5 rows x 58 columns]"
      ]
     },
     "execution_count": 3,
     "metadata": {},
     "output_type": "execute_result"
    }
   ],
   "source": [
    "data.head()"
   ]
  },
  {
   "cell_type": "code",
   "execution_count": 4,
   "metadata": {},
   "outputs": [
    {
     "data": {
      "text/html": [
       "<div>\n",
       "<style scoped>\n",
       "    .dataframe tbody tr th:only-of-type {\n",
       "        vertical-align: middle;\n",
       "    }\n",
       "\n",
       "    .dataframe tbody tr th {\n",
       "        vertical-align: top;\n",
       "    }\n",
       "\n",
       "    .dataframe thead th {\n",
       "        text-align: right;\n",
       "    }\n",
       "</style>\n",
       "<table border=\"1\" class=\"dataframe\">\n",
       "  <thead>\n",
       "    <tr style=\"text-align: right;\">\n",
       "      <th></th>\n",
       "      <th>shares</th>\n",
       "      <th>sharesB</th>\n",
       "      <th>sharesLog</th>\n",
       "    </tr>\n",
       "  </thead>\n",
       "  <tbody>\n",
       "    <tr>\n",
       "      <th>0</th>\n",
       "      <td>593</td>\n",
       "      <td>0</td>\n",
       "      <td>6.385194</td>\n",
       "    </tr>\n",
       "    <tr>\n",
       "      <th>1</th>\n",
       "      <td>711</td>\n",
       "      <td>0</td>\n",
       "      <td>6.566672</td>\n",
       "    </tr>\n",
       "    <tr>\n",
       "      <th>2</th>\n",
       "      <td>1500</td>\n",
       "      <td>1</td>\n",
       "      <td>7.313220</td>\n",
       "    </tr>\n",
       "    <tr>\n",
       "      <th>3</th>\n",
       "      <td>1200</td>\n",
       "      <td>0</td>\n",
       "      <td>7.090077</td>\n",
       "    </tr>\n",
       "    <tr>\n",
       "      <th>4</th>\n",
       "      <td>505</td>\n",
       "      <td>0</td>\n",
       "      <td>6.224558</td>\n",
       "    </tr>\n",
       "  </tbody>\n",
       "</table>\n",
       "</div>"
      ],
      "text/plain": [
       "   shares  sharesB  sharesLog\n",
       "0     593        0   6.385194\n",
       "1     711        0   6.566672\n",
       "2    1500        1   7.313220\n",
       "3    1200        0   7.090077\n",
       "4     505        0   6.224558"
      ]
     },
     "execution_count": 4,
     "metadata": {},
     "output_type": "execute_result"
    }
   ],
   "source": [
    "target.head()"
   ]
  },
  {
   "cell_type": "code",
   "execution_count": 5,
   "metadata": {},
   "outputs": [
    {
     "name": "stdout",
     "output_type": "stream",
     "text": [
      "0.695892527108\n"
     ]
    }
   ],
   "source": [
    "xgbClassifier=xgb.XGBClassifier()\n",
    "score=cross_val_score(xgbClassifier,X=data,y=target.sharesB,scoring='roc_auc',cv=5)\n",
    "print(np.mean(score))"
   ]
  },
  {
   "cell_type": "code",
   "execution_count": 13,
   "metadata": {},
   "outputs": [
    {
     "data": {
      "text/plain": [
       "GridSearchCV(cv=5, error_score='raise',\n",
       "       estimator=XGBClassifier(base_score=0.5, colsample_bylevel=1, colsample_bytree=1,\n",
       "       gamma=0, learning_rate=0.05, max_delta_step=0, max_depth=3,\n",
       "       min_child_weight=1, missing=None, n_estimators=100, nthread=-1,\n",
       "       objective='binary:logistic', reg_alpha=0, reg_lambda=1,\n",
       "       scale_pos_weight=1, seed=0, silent=True, subsample=1),\n",
       "       fit_params={}, iid=False, n_jobs=4,\n",
       "       param_grid={'n_estimators': [150, 170, 190, 210, 230, 250]},\n",
       "       pre_dispatch='2*n_jobs', refit=True, scoring='roc_auc', verbose=0)"
      ]
     },
     "execution_count": 13,
     "metadata": {},
     "output_type": "execute_result"
    }
   ],
   "source": [
    "paramTest1={'n_estimators':list(range(150,251,20))}\n",
    "gridSearch1=GridSearchCV(estimator= xgb.XGBClassifier(learning_rate=0.05),\n",
    "                         param_grid=paramTest1,scoring='roc_auc',n_jobs=4,iid=False,cv=5)\n",
    "gridSearch1.fit(data,target.sharesB)\n"
   ]
  },
  {
   "cell_type": "code",
   "execution_count": 12,
   "metadata": {},
   "outputs": [
    {
     "data": {
      "text/plain": [
       "([mean: 0.70071, std: 0.05013, params: {'n_estimators': 151},\n",
       "  mean: 0.69935, std: 0.05079, params: {'n_estimators': 171},\n",
       "  mean: 0.69656, std: 0.05385, params: {'n_estimators': 191},\n",
       "  mean: 0.69378, std: 0.05713, params: {'n_estimators': 211},\n",
       "  mean: 0.69301, std: 0.05804, params: {'n_estimators': 231}],\n",
       " {'n_estimators': 151},\n",
       " 0.700709053221675)"
      ]
     },
     "execution_count": 12,
     "metadata": {},
     "output_type": "execute_result"
    }
   ],
   "source": [
    "gridSearch1.grid_scores_,gridSearch1.best_params_,gridSearch1.best_score_"
   ]
  },
  {
   "cell_type": "code",
   "execution_count": 19,
   "metadata": {},
   "outputs": [
    {
     "data": {
      "text/plain": [
       "GridSearchCV(cv=5, error_score='raise',\n",
       "       estimator=XGBClassifier(base_score=0.5, colsample_bylevel=1, colsample_bytree=1,\n",
       "       gamma=0, learning_rate=0.05, max_delta_step=0, max_depth=3,\n",
       "       min_child_weight=1, missing=None, n_estimators=150, nthread=-1,\n",
       "       objective='binary:logistic', reg_alpha=0, reg_lambda=1,\n",
       "       scale_pos_weight=1, seed=0, silent=True, subsample=1),\n",
       "       fit_params={}, iid=False, n_jobs=4,\n",
       "       param_grid={'max_depth': [1, 2, 3, 4, 5, 6, 7]},\n",
       "       pre_dispatch='2*n_jobs', refit=True, scoring='roc_auc', verbose=0)"
      ]
     },
     "execution_count": 19,
     "metadata": {},
     "output_type": "execute_result"
    }
   ],
   "source": [
    "paramTest2={\"max_depth\":list(range(1,8,1))}\n",
    "gridSearch2=GridSearchCV(estimator=xgb.XGBClassifier(learning_rate=0.05,n_estimators=150),\n",
    "                         param_grid=paramTest2,scoring='roc_auc',n_jobs=4,iid=False,cv=5)\n",
    "gridSearch2.fit(data,target.sharesB)"
   ]
  },
  {
   "cell_type": "code",
   "execution_count": 20,
   "metadata": {},
   "outputs": [
    {
     "data": {
      "text/plain": [
       "([mean: 0.69950, std: 0.03114, params: {'max_depth': 1},\n",
       "  mean: 0.70177, std: 0.04211, params: {'max_depth': 2},\n",
       "  mean: 0.70114, std: 0.05013, params: {'max_depth': 3},\n",
       "  mean: 0.69293, std: 0.05797, params: {'max_depth': 4},\n",
       "  mean: 0.68626, std: 0.06637, params: {'max_depth': 5},\n",
       "  mean: 0.68127, std: 0.06858, params: {'max_depth': 6},\n",
       "  mean: 0.67482, std: 0.07108, params: {'max_depth': 7}],\n",
       " {'max_depth': 2},\n",
       " 0.7017726779338945)"
      ]
     },
     "execution_count": 20,
     "metadata": {},
     "output_type": "execute_result"
    }
   ],
   "source": [
    "gridSearch2.grid_scores_,gridSearch2.best_params_,gridSearch2.best_score_"
   ]
  },
  {
   "cell_type": "code",
   "execution_count": 21,
   "metadata": {},
   "outputs": [
    {
     "data": {
      "text/plain": [
       "GridSearchCV(cv=5, error_score='raise',\n",
       "       estimator=XGBClassifier(base_score=0.5, colsample_bylevel=1, colsample_bytree=1,\n",
       "       gamma=0, learning_rate=0.05, max_delta_step=0, max_depth=2,\n",
       "       min_child_weight=1, missing=None, n_estimators=150, nthread=-1,\n",
       "       objective='binary:logistic', reg_alpha=0, reg_lambda=1,\n",
       "       scale_pos_weight=1, seed=0, silent=True, subsample=1),\n",
       "       fit_params={}, iid=False, n_jobs=4,\n",
       "       param_grid={'gamma': [0, 1, 2, 3, 4, 5, 6, 7, 8]},\n",
       "       pre_dispatch='2*n_jobs', refit=True, scoring='roc_auc', verbose=0)"
      ]
     },
     "execution_count": 21,
     "metadata": {},
     "output_type": "execute_result"
    }
   ],
   "source": [
    "paramTest3={\"gamma\":list(range(0,9,1))}\n",
    "gridSearch3=GridSearchCV(estimator=xgb.XGBClassifier(max_depth=2,n_estimators=150,learning_rate=0.05),\n",
    "                        param_grid=paramTest3,scoring='roc_auc',n_jobs=4,iid=False,cv=5)\n",
    "gridSearch3.fit(data,target.sharesB)"
   ]
  },
  {
   "cell_type": "code",
   "execution_count": 22,
   "metadata": {},
   "outputs": [
    {
     "data": {
      "text/plain": [
       "([mean: 0.70177, std: 0.04211, params: {'gamma': 0},\n",
       "  mean: 0.70177, std: 0.04211, params: {'gamma': 1},\n",
       "  mean: 0.70177, std: 0.04211, params: {'gamma': 2},\n",
       "  mean: 0.70177, std: 0.04211, params: {'gamma': 3},\n",
       "  mean: 0.70177, std: 0.04211, params: {'gamma': 4},\n",
       "  mean: 0.70177, std: 0.04211, params: {'gamma': 5},\n",
       "  mean: 0.70177, std: 0.04211, params: {'gamma': 6},\n",
       "  mean: 0.70177, std: 0.04211, params: {'gamma': 7},\n",
       "  mean: 0.70177, std: 0.04211, params: {'gamma': 8}],\n",
       " {'gamma': 0},\n",
       " 0.7017726779338945)"
      ]
     },
     "execution_count": 22,
     "metadata": {},
     "output_type": "execute_result"
    }
   ],
   "source": [
    "gridSearch3.grid_scores_,gridSearch3.best_params_,gridSearch3.best_score_"
   ]
  },
  {
   "cell_type": "code",
   "execution_count": 47,
   "metadata": {},
   "outputs": [
    {
     "data": {
      "text/plain": [
       "GridSearchCV(cv=5, error_score='raise',\n",
       "       estimator=XGBClassifier(base_score=0.5, colsample_bylevel=1, colsample_bytree=1,\n",
       "       gamma=7, learning_rate=0.1, max_delta_step=0, max_depth=3,\n",
       "       min_child_weight=1, missing=None, n_estimators=40, nthread=-1,\n",
       "       objective='binary:logistic', reg_alpha=0, reg_lambda=1,\n",
       "       scale_pos_weight=1, seed=0, silent=True, subsample=1),\n",
       "       fit_params={}, iid=False, n_jobs=4,\n",
       "       param_grid={'min_child_weight': [0, 1, 2, 3, 4, 5, 6, 7, 8, 9, 10]},\n",
       "       pre_dispatch='2*n_jobs', refit=True, scoring='roc_auc', verbose=0)"
      ]
     },
     "execution_count": 47,
     "metadata": {},
     "output_type": "execute_result"
    }
   ],
   "source": [
    "paramTest4={\"min_child_weight\":list(range(0,11,1))}\n",
    "gridSearch4=GridSearchCV(estimator=xgb.XGBClassifier(max_depth=3,n_estimators=40,gamma=7),\n",
    "                        param_grid=paramTest4,scoring='roc_auc',iid=False,cv=5,n_jobs=4)\n",
    "gridSearch4.fit(data,target.sharesB)"
   ]
  },
  {
   "cell_type": "code",
   "execution_count": 48,
   "metadata": {},
   "outputs": [
    {
     "data": {
      "text/plain": [
       "([mean: 0.69849, std: 0.04751, params: {'min_child_weight': 0},\n",
       "  mean: 0.69849, std: 0.04751, params: {'min_child_weight': 1},\n",
       "  mean: 0.69849, std: 0.04751, params: {'min_child_weight': 2},\n",
       "  mean: 0.69853, std: 0.04758, params: {'min_child_weight': 3},\n",
       "  mean: 0.69853, std: 0.04758, params: {'min_child_weight': 4},\n",
       "  mean: 0.69847, std: 0.04770, params: {'min_child_weight': 5},\n",
       "  mean: 0.69827, std: 0.04757, params: {'min_child_weight': 6},\n",
       "  mean: 0.69826, std: 0.04748, params: {'min_child_weight': 7},\n",
       "  mean: 0.69824, std: 0.04730, params: {'min_child_weight': 8},\n",
       "  mean: 0.69816, std: 0.04742, params: {'min_child_weight': 9},\n",
       "  mean: 0.69825, std: 0.04733, params: {'min_child_weight': 10}],\n",
       " {'min_child_weight': 3},\n",
       " 0.6985299485492951)"
      ]
     },
     "execution_count": 48,
     "metadata": {},
     "output_type": "execute_result"
    }
   ],
   "source": [
    "gridSearch4.grid_scores_,gridSearch4.best_params_,gridSearch4.best_score_"
   ]
  },
  {
   "cell_type": "code",
   "execution_count": 49,
   "metadata": {},
   "outputs": [
    {
     "ename": "KeyboardInterrupt",
     "evalue": "",
     "output_type": "error",
     "traceback": [
      "\u001b[1;31m---------------------------------------------------------------------------\u001b[0m",
      "\u001b[1;31mKeyboardInterrupt\u001b[0m                         Traceback (most recent call last)",
      "\u001b[1;32m<ipython-input-49-39ecbf15f471>\u001b[0m in \u001b[0;36m<module>\u001b[1;34m()\u001b[0m\n\u001b[0;32m      2\u001b[0m gridSearch5=GridSearchCV(estimator=xgb.XGBClassifier(max_depth=3,n_estimators=40,gamma=7,min_child_weight=3),\n\u001b[0;32m      3\u001b[0m                         param_grid=paramTest5,scoring='roc_auc',iid=False,cv=5,n_jobs=4)\n\u001b[1;32m----> 4\u001b[1;33m \u001b[0mgridSearch5\u001b[0m\u001b[1;33m.\u001b[0m\u001b[0mfit\u001b[0m\u001b[1;33m(\u001b[0m\u001b[0mdata\u001b[0m\u001b[1;33m,\u001b[0m\u001b[0mtarget\u001b[0m\u001b[1;33m.\u001b[0m\u001b[0msharesB\u001b[0m\u001b[1;33m)\u001b[0m\u001b[1;33m\u001b[0m\u001b[0m\n\u001b[0m",
      "\u001b[1;32m~\\Anaconda3\\envs\\env_full\\lib\\site-packages\\sklearn\\grid_search.py\u001b[0m in \u001b[0;36mfit\u001b[1;34m(self, X, y)\u001b[0m\n\u001b[0;32m    836\u001b[0m \u001b[1;33m\u001b[0m\u001b[0m\n\u001b[0;32m    837\u001b[0m         \"\"\"\n\u001b[1;32m--> 838\u001b[1;33m         \u001b[1;32mreturn\u001b[0m \u001b[0mself\u001b[0m\u001b[1;33m.\u001b[0m\u001b[0m_fit\u001b[0m\u001b[1;33m(\u001b[0m\u001b[0mX\u001b[0m\u001b[1;33m,\u001b[0m \u001b[0my\u001b[0m\u001b[1;33m,\u001b[0m \u001b[0mParameterGrid\u001b[0m\u001b[1;33m(\u001b[0m\u001b[0mself\u001b[0m\u001b[1;33m.\u001b[0m\u001b[0mparam_grid\u001b[0m\u001b[1;33m)\u001b[0m\u001b[1;33m)\u001b[0m\u001b[1;33m\u001b[0m\u001b[0m\n\u001b[0m\u001b[0;32m    839\u001b[0m \u001b[1;33m\u001b[0m\u001b[0m\n\u001b[0;32m    840\u001b[0m \u001b[1;33m\u001b[0m\u001b[0m\n",
      "\u001b[1;32m~\\Anaconda3\\envs\\env_full\\lib\\site-packages\\sklearn\\grid_search.py\u001b[0m in \u001b[0;36m_fit\u001b[1;34m(self, X, y, parameter_iterable)\u001b[0m\n\u001b[0;32m    572\u001b[0m                                     \u001b[0mself\u001b[0m\u001b[1;33m.\u001b[0m\u001b[0mfit_params\u001b[0m\u001b[1;33m,\u001b[0m \u001b[0mreturn_parameters\u001b[0m\u001b[1;33m=\u001b[0m\u001b[1;32mTrue\u001b[0m\u001b[1;33m,\u001b[0m\u001b[1;33m\u001b[0m\u001b[0m\n\u001b[0;32m    573\u001b[0m                                     error_score=self.error_score)\n\u001b[1;32m--> 574\u001b[1;33m                 \u001b[1;32mfor\u001b[0m \u001b[0mparameters\u001b[0m \u001b[1;32min\u001b[0m \u001b[0mparameter_iterable\u001b[0m\u001b[1;33m\u001b[0m\u001b[0m\n\u001b[0m\u001b[0;32m    575\u001b[0m                 for train, test in cv)\n\u001b[0;32m    576\u001b[0m \u001b[1;33m\u001b[0m\u001b[0m\n",
      "\u001b[1;32m~\\Anaconda3\\envs\\env_full\\lib\\site-packages\\sklearn\\externals\\joblib\\parallel.py\u001b[0m in \u001b[0;36m__call__\u001b[1;34m(self, iterable)\u001b[0m\n\u001b[0;32m    787\u001b[0m                 \u001b[1;31m# consumption.\u001b[0m\u001b[1;33m\u001b[0m\u001b[1;33m\u001b[0m\u001b[0m\n\u001b[0;32m    788\u001b[0m                 \u001b[0mself\u001b[0m\u001b[1;33m.\u001b[0m\u001b[0m_iterating\u001b[0m \u001b[1;33m=\u001b[0m \u001b[1;32mFalse\u001b[0m\u001b[1;33m\u001b[0m\u001b[0m\n\u001b[1;32m--> 789\u001b[1;33m             \u001b[0mself\u001b[0m\u001b[1;33m.\u001b[0m\u001b[0mretrieve\u001b[0m\u001b[1;33m(\u001b[0m\u001b[1;33m)\u001b[0m\u001b[1;33m\u001b[0m\u001b[0m\n\u001b[0m\u001b[0;32m    790\u001b[0m             \u001b[1;31m# Make sure that we get a last message telling us we are done\u001b[0m\u001b[1;33m\u001b[0m\u001b[1;33m\u001b[0m\u001b[0m\n\u001b[0;32m    791\u001b[0m             \u001b[0melapsed_time\u001b[0m \u001b[1;33m=\u001b[0m \u001b[0mtime\u001b[0m\u001b[1;33m.\u001b[0m\u001b[0mtime\u001b[0m\u001b[1;33m(\u001b[0m\u001b[1;33m)\u001b[0m \u001b[1;33m-\u001b[0m \u001b[0mself\u001b[0m\u001b[1;33m.\u001b[0m\u001b[0m_start_time\u001b[0m\u001b[1;33m\u001b[0m\u001b[0m\n",
      "\u001b[1;32m~\\Anaconda3\\envs\\env_full\\lib\\site-packages\\sklearn\\externals\\joblib\\parallel.py\u001b[0m in \u001b[0;36mretrieve\u001b[1;34m(self)\u001b[0m\n\u001b[0;32m    697\u001b[0m             \u001b[1;32mtry\u001b[0m\u001b[1;33m:\u001b[0m\u001b[1;33m\u001b[0m\u001b[0m\n\u001b[0;32m    698\u001b[0m                 \u001b[1;32mif\u001b[0m \u001b[0mgetattr\u001b[0m\u001b[1;33m(\u001b[0m\u001b[0mself\u001b[0m\u001b[1;33m.\u001b[0m\u001b[0m_backend\u001b[0m\u001b[1;33m,\u001b[0m \u001b[1;34m'supports_timeout'\u001b[0m\u001b[1;33m,\u001b[0m \u001b[1;32mFalse\u001b[0m\u001b[1;33m)\u001b[0m\u001b[1;33m:\u001b[0m\u001b[1;33m\u001b[0m\u001b[0m\n\u001b[1;32m--> 699\u001b[1;33m                     \u001b[0mself\u001b[0m\u001b[1;33m.\u001b[0m\u001b[0m_output\u001b[0m\u001b[1;33m.\u001b[0m\u001b[0mextend\u001b[0m\u001b[1;33m(\u001b[0m\u001b[0mjob\u001b[0m\u001b[1;33m.\u001b[0m\u001b[0mget\u001b[0m\u001b[1;33m(\u001b[0m\u001b[0mtimeout\u001b[0m\u001b[1;33m=\u001b[0m\u001b[0mself\u001b[0m\u001b[1;33m.\u001b[0m\u001b[0mtimeout\u001b[0m\u001b[1;33m)\u001b[0m\u001b[1;33m)\u001b[0m\u001b[1;33m\u001b[0m\u001b[0m\n\u001b[0m\u001b[0;32m    700\u001b[0m                 \u001b[1;32melse\u001b[0m\u001b[1;33m:\u001b[0m\u001b[1;33m\u001b[0m\u001b[0m\n\u001b[0;32m    701\u001b[0m                     \u001b[0mself\u001b[0m\u001b[1;33m.\u001b[0m\u001b[0m_output\u001b[0m\u001b[1;33m.\u001b[0m\u001b[0mextend\u001b[0m\u001b[1;33m(\u001b[0m\u001b[0mjob\u001b[0m\u001b[1;33m.\u001b[0m\u001b[0mget\u001b[0m\u001b[1;33m(\u001b[0m\u001b[1;33m)\u001b[0m\u001b[1;33m)\u001b[0m\u001b[1;33m\u001b[0m\u001b[0m\n",
      "\u001b[1;32m~\\Anaconda3\\envs\\env_full\\lib\\multiprocessing\\pool.py\u001b[0m in \u001b[0;36mget\u001b[1;34m(self, timeout)\u001b[0m\n\u001b[0;32m    636\u001b[0m \u001b[1;33m\u001b[0m\u001b[0m\n\u001b[0;32m    637\u001b[0m     \u001b[1;32mdef\u001b[0m \u001b[0mget\u001b[0m\u001b[1;33m(\u001b[0m\u001b[0mself\u001b[0m\u001b[1;33m,\u001b[0m \u001b[0mtimeout\u001b[0m\u001b[1;33m=\u001b[0m\u001b[1;32mNone\u001b[0m\u001b[1;33m)\u001b[0m\u001b[1;33m:\u001b[0m\u001b[1;33m\u001b[0m\u001b[0m\n\u001b[1;32m--> 638\u001b[1;33m         \u001b[0mself\u001b[0m\u001b[1;33m.\u001b[0m\u001b[0mwait\u001b[0m\u001b[1;33m(\u001b[0m\u001b[0mtimeout\u001b[0m\u001b[1;33m)\u001b[0m\u001b[1;33m\u001b[0m\u001b[0m\n\u001b[0m\u001b[0;32m    639\u001b[0m         \u001b[1;32mif\u001b[0m \u001b[1;32mnot\u001b[0m \u001b[0mself\u001b[0m\u001b[1;33m.\u001b[0m\u001b[0mready\u001b[0m\u001b[1;33m(\u001b[0m\u001b[1;33m)\u001b[0m\u001b[1;33m:\u001b[0m\u001b[1;33m\u001b[0m\u001b[0m\n\u001b[0;32m    640\u001b[0m             \u001b[1;32mraise\u001b[0m \u001b[0mTimeoutError\u001b[0m\u001b[1;33m\u001b[0m\u001b[0m\n",
      "\u001b[1;32m~\\Anaconda3\\envs\\env_full\\lib\\multiprocessing\\pool.py\u001b[0m in \u001b[0;36mwait\u001b[1;34m(self, timeout)\u001b[0m\n\u001b[0;32m    633\u001b[0m \u001b[1;33m\u001b[0m\u001b[0m\n\u001b[0;32m    634\u001b[0m     \u001b[1;32mdef\u001b[0m \u001b[0mwait\u001b[0m\u001b[1;33m(\u001b[0m\u001b[0mself\u001b[0m\u001b[1;33m,\u001b[0m \u001b[0mtimeout\u001b[0m\u001b[1;33m=\u001b[0m\u001b[1;32mNone\u001b[0m\u001b[1;33m)\u001b[0m\u001b[1;33m:\u001b[0m\u001b[1;33m\u001b[0m\u001b[0m\n\u001b[1;32m--> 635\u001b[1;33m         \u001b[0mself\u001b[0m\u001b[1;33m.\u001b[0m\u001b[0m_event\u001b[0m\u001b[1;33m.\u001b[0m\u001b[0mwait\u001b[0m\u001b[1;33m(\u001b[0m\u001b[0mtimeout\u001b[0m\u001b[1;33m)\u001b[0m\u001b[1;33m\u001b[0m\u001b[0m\n\u001b[0m\u001b[0;32m    636\u001b[0m \u001b[1;33m\u001b[0m\u001b[0m\n\u001b[0;32m    637\u001b[0m     \u001b[1;32mdef\u001b[0m \u001b[0mget\u001b[0m\u001b[1;33m(\u001b[0m\u001b[0mself\u001b[0m\u001b[1;33m,\u001b[0m \u001b[0mtimeout\u001b[0m\u001b[1;33m=\u001b[0m\u001b[1;32mNone\u001b[0m\u001b[1;33m)\u001b[0m\u001b[1;33m:\u001b[0m\u001b[1;33m\u001b[0m\u001b[0m\n",
      "\u001b[1;32m~\\Anaconda3\\envs\\env_full\\lib\\threading.py\u001b[0m in \u001b[0;36mwait\u001b[1;34m(self, timeout)\u001b[0m\n\u001b[0;32m    549\u001b[0m             \u001b[0msignaled\u001b[0m \u001b[1;33m=\u001b[0m \u001b[0mself\u001b[0m\u001b[1;33m.\u001b[0m\u001b[0m_flag\u001b[0m\u001b[1;33m\u001b[0m\u001b[0m\n\u001b[0;32m    550\u001b[0m             \u001b[1;32mif\u001b[0m \u001b[1;32mnot\u001b[0m \u001b[0msignaled\u001b[0m\u001b[1;33m:\u001b[0m\u001b[1;33m\u001b[0m\u001b[0m\n\u001b[1;32m--> 551\u001b[1;33m                 \u001b[0msignaled\u001b[0m \u001b[1;33m=\u001b[0m \u001b[0mself\u001b[0m\u001b[1;33m.\u001b[0m\u001b[0m_cond\u001b[0m\u001b[1;33m.\u001b[0m\u001b[0mwait\u001b[0m\u001b[1;33m(\u001b[0m\u001b[0mtimeout\u001b[0m\u001b[1;33m)\u001b[0m\u001b[1;33m\u001b[0m\u001b[0m\n\u001b[0m\u001b[0;32m    552\u001b[0m             \u001b[1;32mreturn\u001b[0m \u001b[0msignaled\u001b[0m\u001b[1;33m\u001b[0m\u001b[0m\n\u001b[0;32m    553\u001b[0m \u001b[1;33m\u001b[0m\u001b[0m\n",
      "\u001b[1;32m~\\Anaconda3\\envs\\env_full\\lib\\threading.py\u001b[0m in \u001b[0;36mwait\u001b[1;34m(self, timeout)\u001b[0m\n\u001b[0;32m    293\u001b[0m         \u001b[1;32mtry\u001b[0m\u001b[1;33m:\u001b[0m    \u001b[1;31m# restore state no matter what (e.g., KeyboardInterrupt)\u001b[0m\u001b[1;33m\u001b[0m\u001b[0m\n\u001b[0;32m    294\u001b[0m             \u001b[1;32mif\u001b[0m \u001b[0mtimeout\u001b[0m \u001b[1;32mis\u001b[0m \u001b[1;32mNone\u001b[0m\u001b[1;33m:\u001b[0m\u001b[1;33m\u001b[0m\u001b[0m\n\u001b[1;32m--> 295\u001b[1;33m                 \u001b[0mwaiter\u001b[0m\u001b[1;33m.\u001b[0m\u001b[0macquire\u001b[0m\u001b[1;33m(\u001b[0m\u001b[1;33m)\u001b[0m\u001b[1;33m\u001b[0m\u001b[0m\n\u001b[0m\u001b[0;32m    296\u001b[0m                 \u001b[0mgotit\u001b[0m \u001b[1;33m=\u001b[0m \u001b[1;32mTrue\u001b[0m\u001b[1;33m\u001b[0m\u001b[0m\n\u001b[0;32m    297\u001b[0m             \u001b[1;32melse\u001b[0m\u001b[1;33m:\u001b[0m\u001b[1;33m\u001b[0m\u001b[0m\n",
      "\u001b[1;31mKeyboardInterrupt\u001b[0m: "
     ]
    }
   ],
   "source": [
    "paramTest5={\"max_delta_step\":list(range(0,11,1))}\n",
    "gridSearch5=GridSearchCV(estimator=xgb.XGBClassifier(max_depth=3,n_estimators=40,gamma=7,min_child_weight=3),\n",
    "                        param_grid=paramTest5,scoring='roc_auc',iid=False,cv=5,n_jobs=4)\n",
    "gridSearch5.fit(data,target.sharesB)"
   ]
  },
  {
   "cell_type": "code",
   "execution_count": 33,
   "metadata": {},
   "outputs": [
    {
     "data": {
      "text/plain": [
       "([mean: 0.69853, std: 0.04758, params: {'max_delta_step': 0},\n",
       "  mean: 0.69973, std: 0.04800, params: {'max_delta_step': 1},\n",
       "  mean: 0.69853, std: 0.04758, params: {'max_delta_step': 2},\n",
       "  mean: 0.69853, std: 0.04758, params: {'max_delta_step': 3},\n",
       "  mean: 0.69853, std: 0.04758, params: {'max_delta_step': 4},\n",
       "  mean: 0.69853, std: 0.04758, params: {'max_delta_step': 5},\n",
       "  mean: 0.69853, std: 0.04758, params: {'max_delta_step': 6},\n",
       "  mean: 0.69853, std: 0.04758, params: {'max_delta_step': 7},\n",
       "  mean: 0.69853, std: 0.04758, params: {'max_delta_step': 8},\n",
       "  mean: 0.69853, std: 0.04758, params: {'max_delta_step': 9},\n",
       "  mean: 0.69853, std: 0.04758, params: {'max_delta_step': 10}],\n",
       " {'max_delta_step': 1},\n",
       " 0.6997329861349246)"
      ]
     },
     "execution_count": 33,
     "metadata": {},
     "output_type": "execute_result"
    }
   ],
   "source": [
    "gridSearch5.grid_scores_,gridSearch5.best_params_,gridSearch5.best_score_"
   ]
  },
  {
   "cell_type": "code",
   "execution_count": 23,
   "metadata": {},
   "outputs": [
    {
     "data": {
      "text/plain": [
       "GridSearchCV(cv=5, error_score='raise',\n",
       "       estimator=XGBClassifier(base_score=0.5, colsample_bylevel=1, colsample_bytree=1,\n",
       "       gamma=0, learning_rate=0.05, max_delta_step=0, max_depth=2,\n",
       "       min_child_weight=1, missing=None, n_estimators=150, nthread=-1,\n",
       "       objective='binary:logistic', reg_alpha=0, reg_lambda=1,\n",
       "       scale_pos_weight=1, seed=0, silent=True, subsample=1),\n",
       "       fit_params={}, iid=False, n_jobs=1,\n",
       "       param_grid={'max_delta_step': [0, 1, 2, 3, 4, 5, 6, 7, 8, 9, 10], 'min_child_weight': [0, 1, 2, 3, 4, 5, 6, 7, 8, 9, 10]},\n",
       "       pre_dispatch='2*n_jobs', refit=True, scoring='roc_auc', verbose=0)"
      ]
     },
     "execution_count": 23,
     "metadata": {},
     "output_type": "execute_result"
    }
   ],
   "source": [
    "paramTest6={\"max_delta_step\":list(range(0,11,1)),\"min_child_weight\":list(range(0,11,1))}\n",
    "gridSearch6=GridSearchCV(estimator=xgb.XGBClassifier(max_depth=2,n_estimators=150,learning_rate=0.05),\n",
    "                        param_grid=paramTest6,scoring='roc_auc',iid=False,cv=5)\n",
    "gridSearch6.fit(data,target.sharesB)"
   ]
  },
  {
   "cell_type": "code",
   "execution_count": 24,
   "metadata": {},
   "outputs": [
    {
     "data": {
      "text/plain": [
       "([mean: 0.70177, std: 0.04211, params: {'max_delta_step': 0, 'min_child_weight': 0},\n",
       "  mean: 0.70177, std: 0.04211, params: {'max_delta_step': 0, 'min_child_weight': 1},\n",
       "  mean: 0.70177, std: 0.04211, params: {'max_delta_step': 0, 'min_child_weight': 2},\n",
       "  mean: 0.70177, std: 0.04211, params: {'max_delta_step': 0, 'min_child_weight': 3},\n",
       "  mean: 0.70177, std: 0.04211, params: {'max_delta_step': 0, 'min_child_weight': 4},\n",
       "  mean: 0.70177, std: 0.04211, params: {'max_delta_step': 0, 'min_child_weight': 5},\n",
       "  mean: 0.70177, std: 0.04211, params: {'max_delta_step': 0, 'min_child_weight': 6},\n",
       "  mean: 0.70182, std: 0.04212, params: {'max_delta_step': 0, 'min_child_weight': 7},\n",
       "  mean: 0.70182, std: 0.04212, params: {'max_delta_step': 0, 'min_child_weight': 8},\n",
       "  mean: 0.70182, std: 0.04212, params: {'max_delta_step': 0, 'min_child_weight': 9},\n",
       "  mean: 0.70182, std: 0.04212, params: {'max_delta_step': 0, 'min_child_weight': 10},\n",
       "  mean: 0.70196, std: 0.04198, params: {'max_delta_step': 1, 'min_child_weight': 0},\n",
       "  mean: 0.70196, std: 0.04198, params: {'max_delta_step': 1, 'min_child_weight': 1},\n",
       "  mean: 0.70196, std: 0.04198, params: {'max_delta_step': 1, 'min_child_weight': 2},\n",
       "  mean: 0.70196, std: 0.04198, params: {'max_delta_step': 1, 'min_child_weight': 3},\n",
       "  mean: 0.70196, std: 0.04198, params: {'max_delta_step': 1, 'min_child_weight': 4},\n",
       "  mean: 0.70196, std: 0.04198, params: {'max_delta_step': 1, 'min_child_weight': 5},\n",
       "  mean: 0.70196, std: 0.04198, params: {'max_delta_step': 1, 'min_child_weight': 6},\n",
       "  mean: 0.70196, std: 0.04198, params: {'max_delta_step': 1, 'min_child_weight': 7},\n",
       "  mean: 0.70202, std: 0.04200, params: {'max_delta_step': 1, 'min_child_weight': 8},\n",
       "  mean: 0.70202, std: 0.04200, params: {'max_delta_step': 1, 'min_child_weight': 9},\n",
       "  mean: 0.70202, std: 0.04200, params: {'max_delta_step': 1, 'min_child_weight': 10},\n",
       "  mean: 0.70177, std: 0.04211, params: {'max_delta_step': 2, 'min_child_weight': 0},\n",
       "  mean: 0.70177, std: 0.04211, params: {'max_delta_step': 2, 'min_child_weight': 1},\n",
       "  mean: 0.70177, std: 0.04211, params: {'max_delta_step': 2, 'min_child_weight': 2},\n",
       "  mean: 0.70177, std: 0.04211, params: {'max_delta_step': 2, 'min_child_weight': 3},\n",
       "  mean: 0.70177, std: 0.04211, params: {'max_delta_step': 2, 'min_child_weight': 4},\n",
       "  mean: 0.70177, std: 0.04211, params: {'max_delta_step': 2, 'min_child_weight': 5},\n",
       "  mean: 0.70177, std: 0.04211, params: {'max_delta_step': 2, 'min_child_weight': 6},\n",
       "  mean: 0.70182, std: 0.04212, params: {'max_delta_step': 2, 'min_child_weight': 7},\n",
       "  mean: 0.70182, std: 0.04212, params: {'max_delta_step': 2, 'min_child_weight': 8},\n",
       "  mean: 0.70182, std: 0.04212, params: {'max_delta_step': 2, 'min_child_weight': 9},\n",
       "  mean: 0.70182, std: 0.04212, params: {'max_delta_step': 2, 'min_child_weight': 10},\n",
       "  mean: 0.70177, std: 0.04211, params: {'max_delta_step': 3, 'min_child_weight': 0},\n",
       "  mean: 0.70177, std: 0.04211, params: {'max_delta_step': 3, 'min_child_weight': 1},\n",
       "  mean: 0.70177, std: 0.04211, params: {'max_delta_step': 3, 'min_child_weight': 2},\n",
       "  mean: 0.70177, std: 0.04211, params: {'max_delta_step': 3, 'min_child_weight': 3},\n",
       "  mean: 0.70177, std: 0.04211, params: {'max_delta_step': 3, 'min_child_weight': 4},\n",
       "  mean: 0.70177, std: 0.04211, params: {'max_delta_step': 3, 'min_child_weight': 5},\n",
       "  mean: 0.70177, std: 0.04211, params: {'max_delta_step': 3, 'min_child_weight': 6},\n",
       "  mean: 0.70182, std: 0.04212, params: {'max_delta_step': 3, 'min_child_weight': 7},\n",
       "  mean: 0.70182, std: 0.04212, params: {'max_delta_step': 3, 'min_child_weight': 8},\n",
       "  mean: 0.70182, std: 0.04212, params: {'max_delta_step': 3, 'min_child_weight': 9},\n",
       "  mean: 0.70182, std: 0.04212, params: {'max_delta_step': 3, 'min_child_weight': 10},\n",
       "  mean: 0.70177, std: 0.04211, params: {'max_delta_step': 4, 'min_child_weight': 0},\n",
       "  mean: 0.70177, std: 0.04211, params: {'max_delta_step': 4, 'min_child_weight': 1},\n",
       "  mean: 0.70177, std: 0.04211, params: {'max_delta_step': 4, 'min_child_weight': 2},\n",
       "  mean: 0.70177, std: 0.04211, params: {'max_delta_step': 4, 'min_child_weight': 3},\n",
       "  mean: 0.70177, std: 0.04211, params: {'max_delta_step': 4, 'min_child_weight': 4},\n",
       "  mean: 0.70177, std: 0.04211, params: {'max_delta_step': 4, 'min_child_weight': 5},\n",
       "  mean: 0.70177, std: 0.04211, params: {'max_delta_step': 4, 'min_child_weight': 6},\n",
       "  mean: 0.70182, std: 0.04212, params: {'max_delta_step': 4, 'min_child_weight': 7},\n",
       "  mean: 0.70182, std: 0.04212, params: {'max_delta_step': 4, 'min_child_weight': 8},\n",
       "  mean: 0.70182, std: 0.04212, params: {'max_delta_step': 4, 'min_child_weight': 9},\n",
       "  mean: 0.70182, std: 0.04212, params: {'max_delta_step': 4, 'min_child_weight': 10},\n",
       "  mean: 0.70177, std: 0.04211, params: {'max_delta_step': 5, 'min_child_weight': 0},\n",
       "  mean: 0.70177, std: 0.04211, params: {'max_delta_step': 5, 'min_child_weight': 1},\n",
       "  mean: 0.70177, std: 0.04211, params: {'max_delta_step': 5, 'min_child_weight': 2},\n",
       "  mean: 0.70177, std: 0.04211, params: {'max_delta_step': 5, 'min_child_weight': 3},\n",
       "  mean: 0.70177, std: 0.04211, params: {'max_delta_step': 5, 'min_child_weight': 4},\n",
       "  mean: 0.70177, std: 0.04211, params: {'max_delta_step': 5, 'min_child_weight': 5},\n",
       "  mean: 0.70177, std: 0.04211, params: {'max_delta_step': 5, 'min_child_weight': 6},\n",
       "  mean: 0.70182, std: 0.04212, params: {'max_delta_step': 5, 'min_child_weight': 7},\n",
       "  mean: 0.70182, std: 0.04212, params: {'max_delta_step': 5, 'min_child_weight': 8},\n",
       "  mean: 0.70182, std: 0.04212, params: {'max_delta_step': 5, 'min_child_weight': 9},\n",
       "  mean: 0.70182, std: 0.04212, params: {'max_delta_step': 5, 'min_child_weight': 10},\n",
       "  mean: 0.70177, std: 0.04211, params: {'max_delta_step': 6, 'min_child_weight': 0},\n",
       "  mean: 0.70177, std: 0.04211, params: {'max_delta_step': 6, 'min_child_weight': 1},\n",
       "  mean: 0.70177, std: 0.04211, params: {'max_delta_step': 6, 'min_child_weight': 2},\n",
       "  mean: 0.70177, std: 0.04211, params: {'max_delta_step': 6, 'min_child_weight': 3},\n",
       "  mean: 0.70177, std: 0.04211, params: {'max_delta_step': 6, 'min_child_weight': 4},\n",
       "  mean: 0.70177, std: 0.04211, params: {'max_delta_step': 6, 'min_child_weight': 5},\n",
       "  mean: 0.70177, std: 0.04211, params: {'max_delta_step': 6, 'min_child_weight': 6},\n",
       "  mean: 0.70182, std: 0.04212, params: {'max_delta_step': 6, 'min_child_weight': 7},\n",
       "  mean: 0.70182, std: 0.04212, params: {'max_delta_step': 6, 'min_child_weight': 8},\n",
       "  mean: 0.70182, std: 0.04212, params: {'max_delta_step': 6, 'min_child_weight': 9},\n",
       "  mean: 0.70182, std: 0.04212, params: {'max_delta_step': 6, 'min_child_weight': 10},\n",
       "  mean: 0.70177, std: 0.04211, params: {'max_delta_step': 7, 'min_child_weight': 0},\n",
       "  mean: 0.70177, std: 0.04211, params: {'max_delta_step': 7, 'min_child_weight': 1},\n",
       "  mean: 0.70177, std: 0.04211, params: {'max_delta_step': 7, 'min_child_weight': 2},\n",
       "  mean: 0.70177, std: 0.04211, params: {'max_delta_step': 7, 'min_child_weight': 3},\n",
       "  mean: 0.70177, std: 0.04211, params: {'max_delta_step': 7, 'min_child_weight': 4},\n",
       "  mean: 0.70177, std: 0.04211, params: {'max_delta_step': 7, 'min_child_weight': 5},\n",
       "  mean: 0.70177, std: 0.04211, params: {'max_delta_step': 7, 'min_child_weight': 6},\n",
       "  mean: 0.70182, std: 0.04212, params: {'max_delta_step': 7, 'min_child_weight': 7},\n",
       "  mean: 0.70182, std: 0.04212, params: {'max_delta_step': 7, 'min_child_weight': 8},\n",
       "  mean: 0.70182, std: 0.04212, params: {'max_delta_step': 7, 'min_child_weight': 9},\n",
       "  mean: 0.70182, std: 0.04212, params: {'max_delta_step': 7, 'min_child_weight': 10},\n",
       "  mean: 0.70177, std: 0.04211, params: {'max_delta_step': 8, 'min_child_weight': 0},\n",
       "  mean: 0.70177, std: 0.04211, params: {'max_delta_step': 8, 'min_child_weight': 1},\n",
       "  mean: 0.70177, std: 0.04211, params: {'max_delta_step': 8, 'min_child_weight': 2},\n",
       "  mean: 0.70177, std: 0.04211, params: {'max_delta_step': 8, 'min_child_weight': 3},\n",
       "  mean: 0.70177, std: 0.04211, params: {'max_delta_step': 8, 'min_child_weight': 4},\n",
       "  mean: 0.70177, std: 0.04211, params: {'max_delta_step': 8, 'min_child_weight': 5},\n",
       "  mean: 0.70177, std: 0.04211, params: {'max_delta_step': 8, 'min_child_weight': 6},\n",
       "  mean: 0.70182, std: 0.04212, params: {'max_delta_step': 8, 'min_child_weight': 7},\n",
       "  mean: 0.70182, std: 0.04212, params: {'max_delta_step': 8, 'min_child_weight': 8},\n",
       "  mean: 0.70182, std: 0.04212, params: {'max_delta_step': 8, 'min_child_weight': 9},\n",
       "  mean: 0.70182, std: 0.04212, params: {'max_delta_step': 8, 'min_child_weight': 10},\n",
       "  mean: 0.70177, std: 0.04211, params: {'max_delta_step': 9, 'min_child_weight': 0},\n",
       "  mean: 0.70177, std: 0.04211, params: {'max_delta_step': 9, 'min_child_weight': 1},\n",
       "  mean: 0.70177, std: 0.04211, params: {'max_delta_step': 9, 'min_child_weight': 2},\n",
       "  mean: 0.70177, std: 0.04211, params: {'max_delta_step': 9, 'min_child_weight': 3},\n",
       "  mean: 0.70177, std: 0.04211, params: {'max_delta_step': 9, 'min_child_weight': 4},\n",
       "  mean: 0.70177, std: 0.04211, params: {'max_delta_step': 9, 'min_child_weight': 5},\n",
       "  mean: 0.70177, std: 0.04211, params: {'max_delta_step': 9, 'min_child_weight': 6},\n",
       "  mean: 0.70182, std: 0.04212, params: {'max_delta_step': 9, 'min_child_weight': 7},\n",
       "  mean: 0.70182, std: 0.04212, params: {'max_delta_step': 9, 'min_child_weight': 8},\n",
       "  mean: 0.70182, std: 0.04212, params: {'max_delta_step': 9, 'min_child_weight': 9},\n",
       "  mean: 0.70182, std: 0.04212, params: {'max_delta_step': 9, 'min_child_weight': 10},\n",
       "  mean: 0.70177, std: 0.04211, params: {'max_delta_step': 10, 'min_child_weight': 0},\n",
       "  mean: 0.70177, std: 0.04211, params: {'max_delta_step': 10, 'min_child_weight': 1},\n",
       "  mean: 0.70177, std: 0.04211, params: {'max_delta_step': 10, 'min_child_weight': 2},\n",
       "  mean: 0.70177, std: 0.04211, params: {'max_delta_step': 10, 'min_child_weight': 3},\n",
       "  mean: 0.70177, std: 0.04211, params: {'max_delta_step': 10, 'min_child_weight': 4},\n",
       "  mean: 0.70177, std: 0.04211, params: {'max_delta_step': 10, 'min_child_weight': 5},\n",
       "  mean: 0.70177, std: 0.04211, params: {'max_delta_step': 10, 'min_child_weight': 6},\n",
       "  mean: 0.70182, std: 0.04212, params: {'max_delta_step': 10, 'min_child_weight': 7},\n",
       "  mean: 0.70182, std: 0.04212, params: {'max_delta_step': 10, 'min_child_weight': 8},\n",
       "  mean: 0.70182, std: 0.04212, params: {'max_delta_step': 10, 'min_child_weight': 9},\n",
       "  mean: 0.70182, std: 0.04212, params: {'max_delta_step': 10, 'min_child_weight': 10}],\n",
       " {'max_delta_step': 1, 'min_child_weight': 8},\n",
       " 0.7020155377786345)"
      ]
     },
     "execution_count": 24,
     "metadata": {},
     "output_type": "execute_result"
    }
   ],
   "source": [
    "gridSearch6.grid_scores_,gridSearch6.best_params_,gridSearch6.best_score_"
   ]
  },
  {
   "cell_type": "code",
   "execution_count": 25,
   "metadata": {},
   "outputs": [
    {
     "data": {
      "text/plain": [
       "GridSearchCV(cv=5, error_score='raise',\n",
       "       estimator=XGBClassifier(base_score=0.5, colsample_bylevel=1, colsample_bytree=1,\n",
       "       gamma=0, learning_rate=0.05, max_delta_step=1, max_depth=2,\n",
       "       min_child_weight=8, missing=None, n_estimators=150, nthread=-1,\n",
       "       objective='binary:logistic', reg_alpha=0, reg_lambda=1,\n",
       "       scale_pos_weight=1, seed=0, silent=True, subsample=1),\n",
       "       fit_params={}, iid=False, n_jobs=1,\n",
       "       param_grid={'subsample': [0.6, 0.7, 0.75, 0.8, 0.85, 0.9, 1]},\n",
       "       pre_dispatch='2*n_jobs', refit=True, scoring='roc_auc', verbose=0)"
      ]
     },
     "execution_count": 25,
     "metadata": {},
     "output_type": "execute_result"
    }
   ],
   "source": [
    "paramTest7={\"subsample\":[0.6,0.7,0.75,0.8,0.85,0.9,1]}\n",
    "gridSearch7=GridSearchCV(estimator= \n",
    "                         xgb.XGBClassifier(learning_rate=0.05,max_depth=2,n_estimators=150,min_child_weight=8,max_delta_step=1),\n",
    "                        param_grid=paramTest7,scoring='roc_auc',iid=False,cv=5)\n",
    "gridSearch7.fit(data,target.sharesB)"
   ]
  },
  {
   "cell_type": "code",
   "execution_count": 26,
   "metadata": {},
   "outputs": [
    {
     "data": {
      "text/plain": [
       "([mean: 0.70255, std: 0.04248, params: {'subsample': 0.6},\n",
       "  mean: 0.70287, std: 0.04278, params: {'subsample': 0.7},\n",
       "  mean: 0.70321, std: 0.04201, params: {'subsample': 0.75},\n",
       "  mean: 0.70344, std: 0.04223, params: {'subsample': 0.8},\n",
       "  mean: 0.70421, std: 0.04231, params: {'subsample': 0.85},\n",
       "  mean: 0.70350, std: 0.04223, params: {'subsample': 0.9},\n",
       "  mean: 0.70202, std: 0.04200, params: {'subsample': 1}],\n",
       " {'subsample': 0.85},\n",
       " 0.7042126292187108)"
      ]
     },
     "execution_count": 26,
     "metadata": {},
     "output_type": "execute_result"
    }
   ],
   "source": [
    "gridSearch7.grid_scores_,gridSearch7.best_params_,gridSearch7.best_score_"
   ]
  },
  {
   "cell_type": "code",
   "execution_count": 27,
   "metadata": {},
   "outputs": [
    {
     "data": {
      "text/plain": [
       "GridSearchCV(cv=5, error_score='raise',\n",
       "       estimator=XGBClassifier(base_score=0.5, colsample_bylevel=1, colsample_bytree=1,\n",
       "       gamma=0, learning_rate=0.05, max_delta_step=1, max_depth=2,\n",
       "       min_child_weight=8, missing=None, n_estimators=150, nthread=-1,\n",
       "       objective='binary:logistic', reg_alpha=0, reg_lambda=1,\n",
       "       scale_pos_weight=1, seed=0, silent=True, subsample=1),\n",
       "       fit_params={}, iid=False, n_jobs=4,\n",
       "       param_grid={'subsample': [0.6, 0.7, 0.75, 0.8, 0.85, 0.9, 1], 'colsample_bylevel': [0.6, 0.7, 0.75, 0.8, 0.85, 0.9, 1], 'colsample_bytree': [0.6, 0.7, 0.75, 0.8, 0.85, 0.9, 1]},\n",
       "       pre_dispatch='2*n_jobs', refit=True, scoring='roc_auc', verbose=0)"
      ]
     },
     "execution_count": 27,
     "metadata": {},
     "output_type": "execute_result"
    }
   ],
   "source": [
    "paramTest8={\"subsample\":[0.6,0.7,0.75,0.8,0.85,0.9,1],\n",
    "           \"colsample_bylevel\":[0.6,0.7,0.75,0.8,0.85,0.9,1],\n",
    "           \"colsample_bytree\":[0.6,0.7,0.75,0.8,0.85,0.9,1]}\n",
    "gridSearch8=GridSearchCV(estimator= \n",
    "                         xgb.XGBClassifier(learning_rate=0.05,max_depth=2,\n",
    "                                           n_estimators=150,min_child_weight=8,max_delta_step=1),\n",
    "                        scoring='roc_auc',\n",
    "                        param_grid=paramTest8,\n",
    "                        iid=False,\n",
    "                        n_jobs=4,\n",
    "                        cv=5)\n",
    "gridSearch8.fit(data,target.sharesB)"
   ]
  },
  {
   "cell_type": "code",
   "execution_count": 28,
   "metadata": {},
   "outputs": [
    {
     "data": {
      "text/plain": [
       "([mean: 0.70469, std: 0.03944, params: {'colsample_bylevel': 0.6, 'colsample_bytree': 0.6, 'subsample': 0.6},\n",
       "  mean: 0.70277, std: 0.04042, params: {'colsample_bylevel': 0.6, 'colsample_bytree': 0.6, 'subsample': 0.7},\n",
       "  mean: 0.70405, std: 0.03943, params: {'colsample_bylevel': 0.6, 'colsample_bytree': 0.6, 'subsample': 0.75},\n",
       "  mean: 0.70335, std: 0.04135, params: {'colsample_bylevel': 0.6, 'colsample_bytree': 0.6, 'subsample': 0.8},\n",
       "  mean: 0.70247, std: 0.04086, params: {'colsample_bylevel': 0.6, 'colsample_bytree': 0.6, 'subsample': 0.85},\n",
       "  mean: 0.70370, std: 0.03958, params: {'colsample_bylevel': 0.6, 'colsample_bytree': 0.6, 'subsample': 0.9},\n",
       "  mean: 0.70165, std: 0.04114, params: {'colsample_bylevel': 0.6, 'colsample_bytree': 0.6, 'subsample': 1},\n",
       "  mean: 0.70544, std: 0.03646, params: {'colsample_bylevel': 0.6, 'colsample_bytree': 0.7, 'subsample': 0.6},\n",
       "  mean: 0.70575, std: 0.03781, params: {'colsample_bylevel': 0.6, 'colsample_bytree': 0.7, 'subsample': 0.7},\n",
       "  mean: 0.70411, std: 0.03891, params: {'colsample_bylevel': 0.6, 'colsample_bytree': 0.7, 'subsample': 0.75},\n",
       "  mean: 0.70289, std: 0.04119, params: {'colsample_bylevel': 0.6, 'colsample_bytree': 0.7, 'subsample': 0.8},\n",
       "  mean: 0.70380, std: 0.03915, params: {'colsample_bylevel': 0.6, 'colsample_bytree': 0.7, 'subsample': 0.85},\n",
       "  mean: 0.70376, std: 0.03825, params: {'colsample_bylevel': 0.6, 'colsample_bytree': 0.7, 'subsample': 0.9},\n",
       "  mean: 0.70175, std: 0.04232, params: {'colsample_bylevel': 0.6, 'colsample_bytree': 0.7, 'subsample': 1},\n",
       "  mean: 0.70387, std: 0.04106, params: {'colsample_bylevel': 0.6, 'colsample_bytree': 0.75, 'subsample': 0.6},\n",
       "  mean: 0.70326, std: 0.03992, params: {'colsample_bylevel': 0.6, 'colsample_bytree': 0.75, 'subsample': 0.7},\n",
       "  mean: 0.70340, std: 0.04063, params: {'colsample_bylevel': 0.6, 'colsample_bytree': 0.75, 'subsample': 0.75},\n",
       "  mean: 0.70291, std: 0.04055, params: {'colsample_bylevel': 0.6, 'colsample_bytree': 0.75, 'subsample': 0.8},\n",
       "  mean: 0.70247, std: 0.04178, params: {'colsample_bylevel': 0.6, 'colsample_bytree': 0.75, 'subsample': 0.85},\n",
       "  mean: 0.70200, std: 0.04168, params: {'colsample_bylevel': 0.6, 'colsample_bytree': 0.75, 'subsample': 0.9},\n",
       "  mean: 0.70218, std: 0.04182, params: {'colsample_bylevel': 0.6, 'colsample_bytree': 0.75, 'subsample': 1},\n",
       "  mean: 0.70462, std: 0.03935, params: {'colsample_bylevel': 0.6, 'colsample_bytree': 0.8, 'subsample': 0.6},\n",
       "  mean: 0.70564, std: 0.03875, params: {'colsample_bylevel': 0.6, 'colsample_bytree': 0.8, 'subsample': 0.7},\n",
       "  mean: 0.70419, std: 0.04008, params: {'colsample_bylevel': 0.6, 'colsample_bytree': 0.8, 'subsample': 0.75},\n",
       "  mean: 0.70325, std: 0.04129, params: {'colsample_bylevel': 0.6, 'colsample_bytree': 0.8, 'subsample': 0.8},\n",
       "  mean: 0.70320, std: 0.04082, params: {'colsample_bylevel': 0.6, 'colsample_bytree': 0.8, 'subsample': 0.85},\n",
       "  mean: 0.70360, std: 0.04065, params: {'colsample_bylevel': 0.6, 'colsample_bytree': 0.8, 'subsample': 0.9},\n",
       "  mean: 0.70237, std: 0.04201, params: {'colsample_bylevel': 0.6, 'colsample_bytree': 0.8, 'subsample': 1},\n",
       "  mean: 0.70471, std: 0.04037, params: {'colsample_bylevel': 0.6, 'colsample_bytree': 0.85, 'subsample': 0.6},\n",
       "  mean: 0.70489, std: 0.04011, params: {'colsample_bylevel': 0.6, 'colsample_bytree': 0.85, 'subsample': 0.7},\n",
       "  mean: 0.70385, std: 0.03965, params: {'colsample_bylevel': 0.6, 'colsample_bytree': 0.85, 'subsample': 0.75},\n",
       "  mean: 0.70438, std: 0.03993, params: {'colsample_bylevel': 0.6, 'colsample_bytree': 0.85, 'subsample': 0.8},\n",
       "  mean: 0.70459, std: 0.04077, params: {'colsample_bylevel': 0.6, 'colsample_bytree': 0.85, 'subsample': 0.85},\n",
       "  mean: 0.70357, std: 0.03903, params: {'colsample_bylevel': 0.6, 'colsample_bytree': 0.85, 'subsample': 0.9},\n",
       "  mean: 0.70545, std: 0.03795, params: {'colsample_bylevel': 0.6, 'colsample_bytree': 0.85, 'subsample': 1},\n",
       "  mean: 0.70351, std: 0.04031, params: {'colsample_bylevel': 0.6, 'colsample_bytree': 0.9, 'subsample': 0.6},\n",
       "  mean: 0.70481, std: 0.03899, params: {'colsample_bylevel': 0.6, 'colsample_bytree': 0.9, 'subsample': 0.7},\n",
       "  mean: 0.70434, std: 0.03896, params: {'colsample_bylevel': 0.6, 'colsample_bytree': 0.9, 'subsample': 0.75},\n",
       "  mean: 0.70435, std: 0.03891, params: {'colsample_bylevel': 0.6, 'colsample_bytree': 0.9, 'subsample': 0.8},\n",
       "  mean: 0.70246, std: 0.04090, params: {'colsample_bylevel': 0.6, 'colsample_bytree': 0.9, 'subsample': 0.85},\n",
       "  mean: 0.70318, std: 0.03976, params: {'colsample_bylevel': 0.6, 'colsample_bytree': 0.9, 'subsample': 0.9},\n",
       "  mean: 0.70372, std: 0.03907, params: {'colsample_bylevel': 0.6, 'colsample_bytree': 0.9, 'subsample': 1},\n",
       "  mean: 0.70679, std: 0.03935, params: {'colsample_bylevel': 0.6, 'colsample_bytree': 1, 'subsample': 0.6},\n",
       "  mean: 0.70424, std: 0.03910, params: {'colsample_bylevel': 0.6, 'colsample_bytree': 1, 'subsample': 0.7},\n",
       "  mean: 0.70403, std: 0.03984, params: {'colsample_bylevel': 0.6, 'colsample_bytree': 1, 'subsample': 0.75},\n",
       "  mean: 0.70392, std: 0.03978, params: {'colsample_bylevel': 0.6, 'colsample_bytree': 1, 'subsample': 0.8},\n",
       "  mean: 0.70345, std: 0.04165, params: {'colsample_bylevel': 0.6, 'colsample_bytree': 1, 'subsample': 0.85},\n",
       "  mean: 0.70286, std: 0.03870, params: {'colsample_bylevel': 0.6, 'colsample_bytree': 1, 'subsample': 0.9},\n",
       "  mean: 0.70278, std: 0.04154, params: {'colsample_bylevel': 0.6, 'colsample_bytree': 1, 'subsample': 1},\n",
       "  mean: 0.70380, std: 0.04064, params: {'colsample_bylevel': 0.7, 'colsample_bytree': 0.6, 'subsample': 0.6},\n",
       "  mean: 0.70274, std: 0.04067, params: {'colsample_bylevel': 0.7, 'colsample_bytree': 0.6, 'subsample': 0.7},\n",
       "  mean: 0.70381, std: 0.03961, params: {'colsample_bylevel': 0.7, 'colsample_bytree': 0.6, 'subsample': 0.75},\n",
       "  mean: 0.70360, std: 0.04118, params: {'colsample_bylevel': 0.7, 'colsample_bytree': 0.6, 'subsample': 0.8},\n",
       "  mean: 0.70208, std: 0.04216, params: {'colsample_bylevel': 0.7, 'colsample_bytree': 0.6, 'subsample': 0.85},\n",
       "  mean: 0.70394, std: 0.04042, params: {'colsample_bylevel': 0.7, 'colsample_bytree': 0.6, 'subsample': 0.9},\n",
       "  mean: 0.70201, std: 0.04058, params: {'colsample_bylevel': 0.7, 'colsample_bytree': 0.6, 'subsample': 1},\n",
       "  mean: 0.70561, std: 0.03731, params: {'colsample_bylevel': 0.7, 'colsample_bytree': 0.7, 'subsample': 0.6},\n",
       "  mean: 0.70535, std: 0.03636, params: {'colsample_bylevel': 0.7, 'colsample_bytree': 0.7, 'subsample': 0.7},\n",
       "  mean: 0.70463, std: 0.03882, params: {'colsample_bylevel': 0.7, 'colsample_bytree': 0.7, 'subsample': 0.75},\n",
       "  mean: 0.70367, std: 0.03950, params: {'colsample_bylevel': 0.7, 'colsample_bytree': 0.7, 'subsample': 0.8},\n",
       "  mean: 0.70410, std: 0.04014, params: {'colsample_bylevel': 0.7, 'colsample_bytree': 0.7, 'subsample': 0.85},\n",
       "  mean: 0.70364, std: 0.03999, params: {'colsample_bylevel': 0.7, 'colsample_bytree': 0.7, 'subsample': 0.9},\n",
       "  mean: 0.70253, std: 0.04203, params: {'colsample_bylevel': 0.7, 'colsample_bytree': 0.7, 'subsample': 1},\n",
       "  mean: 0.70246, std: 0.04051, params: {'colsample_bylevel': 0.7, 'colsample_bytree': 0.75, 'subsample': 0.6},\n",
       "  mean: 0.70384, std: 0.03927, params: {'colsample_bylevel': 0.7, 'colsample_bytree': 0.75, 'subsample': 0.7},\n",
       "  mean: 0.70442, std: 0.03922, params: {'colsample_bylevel': 0.7, 'colsample_bytree': 0.75, 'subsample': 0.75},\n",
       "  mean: 0.70290, std: 0.04041, params: {'colsample_bylevel': 0.7, 'colsample_bytree': 0.75, 'subsample': 0.8},\n",
       "  mean: 0.70272, std: 0.04203, params: {'colsample_bylevel': 0.7, 'colsample_bytree': 0.75, 'subsample': 0.85},\n",
       "  mean: 0.70308, std: 0.03902, params: {'colsample_bylevel': 0.7, 'colsample_bytree': 0.75, 'subsample': 0.9},\n",
       "  mean: 0.70142, std: 0.04185, params: {'colsample_bylevel': 0.7, 'colsample_bytree': 0.75, 'subsample': 1},\n",
       "  mean: 0.70478, std: 0.04041, params: {'colsample_bylevel': 0.7, 'colsample_bytree': 0.8, 'subsample': 0.6},\n",
       "  mean: 0.70564, std: 0.04100, params: {'colsample_bylevel': 0.7, 'colsample_bytree': 0.8, 'subsample': 0.7},\n",
       "  mean: 0.70363, std: 0.04063, params: {'colsample_bylevel': 0.7, 'colsample_bytree': 0.8, 'subsample': 0.75},\n",
       "  mean: 0.70417, std: 0.03936, params: {'colsample_bylevel': 0.7, 'colsample_bytree': 0.8, 'subsample': 0.8},\n",
       "  mean: 0.70453, std: 0.03928, params: {'colsample_bylevel': 0.7, 'colsample_bytree': 0.8, 'subsample': 0.85},\n",
       "  mean: 0.70211, std: 0.04100, params: {'colsample_bylevel': 0.7, 'colsample_bytree': 0.8, 'subsample': 0.9},\n",
       "  mean: 0.70189, std: 0.04116, params: {'colsample_bylevel': 0.7, 'colsample_bytree': 0.8, 'subsample': 1},\n",
       "  mean: 0.70296, std: 0.04044, params: {'colsample_bylevel': 0.7, 'colsample_bytree': 0.85, 'subsample': 0.6},\n",
       "  mean: 0.70358, std: 0.04010, params: {'colsample_bylevel': 0.7, 'colsample_bytree': 0.85, 'subsample': 0.7},\n",
       "  mean: 0.70256, std: 0.04149, params: {'colsample_bylevel': 0.7, 'colsample_bytree': 0.85, 'subsample': 0.75},\n",
       "  mean: 0.70505, std: 0.03921, params: {'colsample_bylevel': 0.7, 'colsample_bytree': 0.85, 'subsample': 0.8},\n",
       "  mean: 0.70380, std: 0.03951, params: {'colsample_bylevel': 0.7, 'colsample_bytree': 0.85, 'subsample': 0.85},\n",
       "  mean: 0.70552, std: 0.03836, params: {'colsample_bylevel': 0.7, 'colsample_bytree': 0.85, 'subsample': 0.9},\n",
       "  mean: 0.70265, std: 0.04157, params: {'colsample_bylevel': 0.7, 'colsample_bytree': 0.85, 'subsample': 1},\n",
       "  mean: 0.70407, std: 0.04144, params: {'colsample_bylevel': 0.7, 'colsample_bytree': 0.9, 'subsample': 0.6},\n",
       "  mean: 0.70280, std: 0.04162, params: {'colsample_bylevel': 0.7, 'colsample_bytree': 0.9, 'subsample': 0.7},\n",
       "  mean: 0.70385, std: 0.04030, params: {'colsample_bylevel': 0.7, 'colsample_bytree': 0.9, 'subsample': 0.75},\n",
       "  mean: 0.70384, std: 0.04090, params: {'colsample_bylevel': 0.7, 'colsample_bytree': 0.9, 'subsample': 0.8},\n",
       "  mean: 0.70355, std: 0.03990, params: {'colsample_bylevel': 0.7, 'colsample_bytree': 0.9, 'subsample': 0.85},\n",
       "  mean: 0.70262, std: 0.04215, params: {'colsample_bylevel': 0.7, 'colsample_bytree': 0.9, 'subsample': 0.9},\n",
       "  mean: 0.70401, std: 0.03920, params: {'colsample_bylevel': 0.7, 'colsample_bytree': 0.9, 'subsample': 1},\n",
       "  mean: 0.70441, std: 0.04015, params: {'colsample_bylevel': 0.7, 'colsample_bytree': 1, 'subsample': 0.6},\n",
       "  mean: 0.70456, std: 0.03958, params: {'colsample_bylevel': 0.7, 'colsample_bytree': 1, 'subsample': 0.7},\n",
       "  mean: 0.70430, std: 0.03974, params: {'colsample_bylevel': 0.7, 'colsample_bytree': 1, 'subsample': 0.75},\n",
       "  mean: 0.70320, std: 0.04076, params: {'colsample_bylevel': 0.7, 'colsample_bytree': 1, 'subsample': 0.8},\n",
       "  mean: 0.70401, std: 0.04084, params: {'colsample_bylevel': 0.7, 'colsample_bytree': 1, 'subsample': 0.85},\n",
       "  mean: 0.70423, std: 0.03924, params: {'colsample_bylevel': 0.7, 'colsample_bytree': 1, 'subsample': 0.9},\n",
       "  mean: 0.70170, std: 0.04207, params: {'colsample_bylevel': 0.7, 'colsample_bytree': 1, 'subsample': 1},\n",
       "  mean: 0.70439, std: 0.04045, params: {'colsample_bylevel': 0.75, 'colsample_bytree': 0.6, 'subsample': 0.6},\n",
       "  mean: 0.70159, std: 0.04267, params: {'colsample_bylevel': 0.75, 'colsample_bytree': 0.6, 'subsample': 0.7},\n",
       "  mean: 0.70227, std: 0.04173, params: {'colsample_bylevel': 0.75, 'colsample_bytree': 0.6, 'subsample': 0.75},\n",
       "  mean: 0.70232, std: 0.04016, params: {'colsample_bylevel': 0.75, 'colsample_bytree': 0.6, 'subsample': 0.8},\n",
       "  mean: 0.70313, std: 0.04049, params: {'colsample_bylevel': 0.75, 'colsample_bytree': 0.6, 'subsample': 0.85},\n",
       "  mean: 0.70286, std: 0.04090, params: {'colsample_bylevel': 0.75, 'colsample_bytree': 0.6, 'subsample': 0.9},\n",
       "  mean: 0.70157, std: 0.04189, params: {'colsample_bylevel': 0.75, 'colsample_bytree': 0.6, 'subsample': 1},\n",
       "  mean: 0.70504, std: 0.03798, params: {'colsample_bylevel': 0.75, 'colsample_bytree': 0.7, 'subsample': 0.6},\n",
       "  mean: 0.70546, std: 0.03641, params: {'colsample_bylevel': 0.75, 'colsample_bytree': 0.7, 'subsample': 0.7},\n",
       "  mean: 0.70548, std: 0.03740, params: {'colsample_bylevel': 0.75, 'colsample_bytree': 0.7, 'subsample': 0.75},\n",
       "  mean: 0.70423, std: 0.03881, params: {'colsample_bylevel': 0.75, 'colsample_bytree': 0.7, 'subsample': 0.8},\n",
       "  mean: 0.70503, std: 0.03821, params: {'colsample_bylevel': 0.75, 'colsample_bytree': 0.7, 'subsample': 0.85},\n",
       "  mean: 0.70318, std: 0.04059, params: {'colsample_bylevel': 0.75, 'colsample_bytree': 0.7, 'subsample': 0.9},\n",
       "  mean: 0.70287, std: 0.04237, params: {'colsample_bylevel': 0.75, 'colsample_bytree': 0.7, 'subsample': 1},\n",
       "  mean: 0.70297, std: 0.04128, params: {'colsample_bylevel': 0.75, 'colsample_bytree': 0.75, 'subsample': 0.6},\n",
       "  mean: 0.70273, std: 0.04069, params: {'colsample_bylevel': 0.75, 'colsample_bytree': 0.75, 'subsample': 0.7},\n",
       "  mean: 0.70405, std: 0.04031, params: {'colsample_bylevel': 0.75, 'colsample_bytree': 0.75, 'subsample': 0.75},\n",
       "  mean: 0.70348, std: 0.04016, params: {'colsample_bylevel': 0.75, 'colsample_bytree': 0.75, 'subsample': 0.8},\n",
       "  mean: 0.70182, std: 0.04161, params: {'colsample_bylevel': 0.75, 'colsample_bytree': 0.75, 'subsample': 0.85},\n",
       "  mean: 0.70395, std: 0.03930, params: {'colsample_bylevel': 0.75, 'colsample_bytree': 0.75, 'subsample': 0.9},\n",
       "  mean: 0.70120, std: 0.04242, params: {'colsample_bylevel': 0.75, 'colsample_bytree': 0.75, 'subsample': 1},\n",
       "  mean: 0.70406, std: 0.04110, params: {'colsample_bylevel': 0.75, 'colsample_bytree': 0.8, 'subsample': 0.6},\n",
       "  mean: 0.70296, std: 0.04216, params: {'colsample_bylevel': 0.75, 'colsample_bytree': 0.8, 'subsample': 0.7},\n",
       "  mean: 0.70382, std: 0.04122, params: {'colsample_bylevel': 0.75, 'colsample_bytree': 0.8, 'subsample': 0.75},\n",
       "  mean: 0.70555, std: 0.03959, params: {'colsample_bylevel': 0.75, 'colsample_bytree': 0.8, 'subsample': 0.8},\n",
       "  mean: 0.70469, std: 0.04050, params: {'colsample_bylevel': 0.75, 'colsample_bytree': 0.8, 'subsample': 0.85},\n",
       "  mean: 0.70150, std: 0.04242, params: {'colsample_bylevel': 0.75, 'colsample_bytree': 0.8, 'subsample': 0.9},\n",
       "  mean: 0.70327, std: 0.04098, params: {'colsample_bylevel': 0.75, 'colsample_bytree': 0.8, 'subsample': 1},\n",
       "  mean: 0.70311, std: 0.04082, params: {'colsample_bylevel': 0.75, 'colsample_bytree': 0.85, 'subsample': 0.6},\n",
       "  mean: 0.70272, std: 0.04183, params: {'colsample_bylevel': 0.75, 'colsample_bytree': 0.85, 'subsample': 0.7},\n",
       "  mean: 0.70239, std: 0.04126, params: {'colsample_bylevel': 0.75, 'colsample_bytree': 0.85, 'subsample': 0.75},\n",
       "  mean: 0.70334, std: 0.04019, params: {'colsample_bylevel': 0.75, 'colsample_bytree': 0.85, 'subsample': 0.8},\n",
       "  mean: 0.70363, std: 0.04099, params: {'colsample_bylevel': 0.75, 'colsample_bytree': 0.85, 'subsample': 0.85},\n",
       "  mean: 0.70354, std: 0.03908, params: {'colsample_bylevel': 0.75, 'colsample_bytree': 0.85, 'subsample': 0.9},\n",
       "  mean: 0.70327, std: 0.03945, params: {'colsample_bylevel': 0.75, 'colsample_bytree': 0.85, 'subsample': 1},\n",
       "  mean: 0.70326, std: 0.04228, params: {'colsample_bylevel': 0.75, 'colsample_bytree': 0.9, 'subsample': 0.6},\n",
       "  mean: 0.70391, std: 0.04166, params: {'colsample_bylevel': 0.75, 'colsample_bytree': 0.9, 'subsample': 0.7},\n",
       "  mean: 0.70471, std: 0.03980, params: {'colsample_bylevel': 0.75, 'colsample_bytree': 0.9, 'subsample': 0.75},\n",
       "  mean: 0.70429, std: 0.04042, params: {'colsample_bylevel': 0.75, 'colsample_bytree': 0.9, 'subsample': 0.8},\n",
       "  mean: 0.70332, std: 0.04081, params: {'colsample_bylevel': 0.75, 'colsample_bytree': 0.9, 'subsample': 0.85},\n",
       "  mean: 0.70271, std: 0.04040, params: {'colsample_bylevel': 0.75, 'colsample_bytree': 0.9, 'subsample': 0.9},\n",
       "  mean: 0.70294, std: 0.04070, params: {'colsample_bylevel': 0.75, 'colsample_bytree': 0.9, 'subsample': 1},\n",
       "  mean: 0.70558, std: 0.04104, params: {'colsample_bylevel': 0.75, 'colsample_bytree': 1, 'subsample': 0.6},\n",
       "  mean: 0.70448, std: 0.03994, params: {'colsample_bylevel': 0.75, 'colsample_bytree': 1, 'subsample': 0.7},\n",
       "  mean: 0.70344, std: 0.03997, params: {'colsample_bylevel': 0.75, 'colsample_bytree': 1, 'subsample': 0.75},\n",
       "  mean: 0.70295, std: 0.04036, params: {'colsample_bylevel': 0.75, 'colsample_bytree': 1, 'subsample': 0.8},\n",
       "  mean: 0.70364, std: 0.04107, params: {'colsample_bylevel': 0.75, 'colsample_bytree': 1, 'subsample': 0.85},\n",
       "  mean: 0.70424, std: 0.04049, params: {'colsample_bylevel': 0.75, 'colsample_bytree': 1, 'subsample': 0.9},\n",
       "  mean: 0.70467, std: 0.03840, params: {'colsample_bylevel': 0.75, 'colsample_bytree': 1, 'subsample': 1},\n",
       "  mean: 0.70295, std: 0.04090, params: {'colsample_bylevel': 0.8, 'colsample_bytree': 0.6, 'subsample': 0.6},\n",
       "  mean: 0.70193, std: 0.04087, params: {'colsample_bylevel': 0.8, 'colsample_bytree': 0.6, 'subsample': 0.7},\n",
       "  mean: 0.70342, std: 0.04149, params: {'colsample_bylevel': 0.8, 'colsample_bytree': 0.6, 'subsample': 0.75},\n",
       "  mean: 0.70253, std: 0.04138, params: {'colsample_bylevel': 0.8, 'colsample_bytree': 0.6, 'subsample': 0.8},\n",
       "  mean: 0.70188, std: 0.04160, params: {'colsample_bylevel': 0.8, 'colsample_bytree': 0.6, 'subsample': 0.85},\n",
       "  mean: 0.70179, std: 0.04081, params: {'colsample_bylevel': 0.8, 'colsample_bytree': 0.6, 'subsample': 0.9},\n",
       "  mean: 0.70172, std: 0.04192, params: {'colsample_bylevel': 0.8, 'colsample_bytree': 0.6, 'subsample': 1},\n",
       "  mean: 0.70498, std: 0.03981, params: {'colsample_bylevel': 0.8, 'colsample_bytree': 0.7, 'subsample': 0.6},\n",
       "  mean: 0.70672, std: 0.03542, params: {'colsample_bylevel': 0.8, 'colsample_bytree': 0.7, 'subsample': 0.7},\n",
       "  mean: 0.70472, std: 0.03690, params: {'colsample_bylevel': 0.8, 'colsample_bytree': 0.7, 'subsample': 0.75},\n",
       "  mean: 0.70577, std: 0.03776, params: {'colsample_bylevel': 0.8, 'colsample_bytree': 0.7, 'subsample': 0.8},\n",
       "  mean: 0.70443, std: 0.03867, params: {'colsample_bylevel': 0.8, 'colsample_bytree': 0.7, 'subsample': 0.85},\n",
       "  mean: 0.70438, std: 0.03872, params: {'colsample_bylevel': 0.8, 'colsample_bytree': 0.7, 'subsample': 0.9},\n",
       "  mean: 0.70320, std: 0.04169, params: {'colsample_bylevel': 0.8, 'colsample_bytree': 0.7, 'subsample': 1},\n",
       "  mean: 0.70407, std: 0.04113, params: {'colsample_bylevel': 0.8, 'colsample_bytree': 0.75, 'subsample': 0.6},\n",
       "  mean: 0.70232, std: 0.04113, params: {'colsample_bylevel': 0.8, 'colsample_bytree': 0.75, 'subsample': 0.7},\n",
       "  mean: 0.70412, std: 0.03920, params: {'colsample_bylevel': 0.8, 'colsample_bytree': 0.75, 'subsample': 0.75},\n",
       "  mean: 0.70329, std: 0.04060, params: {'colsample_bylevel': 0.8, 'colsample_bytree': 0.75, 'subsample': 0.8},\n",
       "  mean: 0.70236, std: 0.04147, params: {'colsample_bylevel': 0.8, 'colsample_bytree': 0.75, 'subsample': 0.85},\n",
       "  mean: 0.70275, std: 0.04350, params: {'colsample_bylevel': 0.8, 'colsample_bytree': 0.75, 'subsample': 0.9},\n",
       "  mean: 0.70158, std: 0.04378, params: {'colsample_bylevel': 0.8, 'colsample_bytree': 0.75, 'subsample': 1},\n",
       "  mean: 0.70403, std: 0.04227, params: {'colsample_bylevel': 0.8, 'colsample_bytree': 0.8, 'subsample': 0.6},\n",
       "  mean: 0.70371, std: 0.04159, params: {'colsample_bylevel': 0.8, 'colsample_bytree': 0.8, 'subsample': 0.7},\n",
       "  mean: 0.70342, std: 0.04300, params: {'colsample_bylevel': 0.8, 'colsample_bytree': 0.8, 'subsample': 0.75},\n",
       "  mean: 0.70478, std: 0.04046, params: {'colsample_bylevel': 0.8, 'colsample_bytree': 0.8, 'subsample': 0.8},\n",
       "  mean: 0.70471, std: 0.03988, params: {'colsample_bylevel': 0.8, 'colsample_bytree': 0.8, 'subsample': 0.85},\n",
       "  mean: 0.70249, std: 0.04174, params: {'colsample_bylevel': 0.8, 'colsample_bytree': 0.8, 'subsample': 0.9},\n",
       "  mean: 0.70212, std: 0.04150, params: {'colsample_bylevel': 0.8, 'colsample_bytree': 0.8, 'subsample': 1},\n",
       "  mean: 0.70280, std: 0.04178, params: {'colsample_bylevel': 0.8, 'colsample_bytree': 0.85, 'subsample': 0.6},\n",
       "  mean: 0.70376, std: 0.04083, params: {'colsample_bylevel': 0.8, 'colsample_bytree': 0.85, 'subsample': 0.7},\n",
       "  mean: 0.70334, std: 0.04112, params: {'colsample_bylevel': 0.8, 'colsample_bytree': 0.85, 'subsample': 0.75},\n",
       "  mean: 0.70350, std: 0.04036, params: {'colsample_bylevel': 0.8, 'colsample_bytree': 0.85, 'subsample': 0.8},\n",
       "  mean: 0.70381, std: 0.04170, params: {'colsample_bylevel': 0.8, 'colsample_bytree': 0.85, 'subsample': 0.85},\n",
       "  mean: 0.70487, std: 0.03872, params: {'colsample_bylevel': 0.8, 'colsample_bytree': 0.85, 'subsample': 0.9},\n",
       "  mean: 0.70315, std: 0.04046, params: {'colsample_bylevel': 0.8, 'colsample_bytree': 0.85, 'subsample': 1},\n",
       "  mean: 0.70346, std: 0.04189, params: {'colsample_bylevel': 0.8, 'colsample_bytree': 0.9, 'subsample': 0.6},\n",
       "  mean: 0.70218, std: 0.04241, params: {'colsample_bylevel': 0.8, 'colsample_bytree': 0.9, 'subsample': 0.7},\n",
       "  mean: 0.70496, std: 0.04034, params: {'colsample_bylevel': 0.8, 'colsample_bytree': 0.9, 'subsample': 0.75},\n",
       "  mean: 0.70363, std: 0.04117, params: {'colsample_bylevel': 0.8, 'colsample_bytree': 0.9, 'subsample': 0.8},\n",
       "  mean: 0.70302, std: 0.04221, params: {'colsample_bylevel': 0.8, 'colsample_bytree': 0.9, 'subsample': 0.85},\n",
       "  mean: 0.70332, std: 0.04139, params: {'colsample_bylevel': 0.8, 'colsample_bytree': 0.9, 'subsample': 0.9},\n",
       "  mean: 0.70261, std: 0.04100, params: {'colsample_bylevel': 0.8, 'colsample_bytree': 0.9, 'subsample': 1},\n",
       "  mean: 0.70474, std: 0.04050, params: {'colsample_bylevel': 0.8, 'colsample_bytree': 1, 'subsample': 0.6},\n",
       "  mean: 0.70373, std: 0.04111, params: {'colsample_bylevel': 0.8, 'colsample_bytree': 1, 'subsample': 0.7},\n",
       "  mean: 0.70477, std: 0.03927, params: {'colsample_bylevel': 0.8, 'colsample_bytree': 1, 'subsample': 0.75},\n",
       "  mean: 0.70414, std: 0.04013, params: {'colsample_bylevel': 0.8, 'colsample_bytree': 1, 'subsample': 0.8},\n",
       "  mean: 0.70184, std: 0.04167, params: {'colsample_bylevel': 0.8, 'colsample_bytree': 1, 'subsample': 0.85},\n",
       "  mean: 0.70188, std: 0.04197, params: {'colsample_bylevel': 0.8, 'colsample_bytree': 1, 'subsample': 0.9},\n",
       "  mean: 0.70207, std: 0.04107, params: {'colsample_bylevel': 0.8, 'colsample_bytree': 1, 'subsample': 1},\n",
       "  mean: 0.70216, std: 0.04248, params: {'colsample_bylevel': 0.85, 'colsample_bytree': 0.6, 'subsample': 0.6},\n",
       "  mean: 0.70140, std: 0.04247, params: {'colsample_bylevel': 0.85, 'colsample_bytree': 0.6, 'subsample': 0.7},\n",
       "  mean: 0.70239, std: 0.04162, params: {'colsample_bylevel': 0.85, 'colsample_bytree': 0.6, 'subsample': 0.75},\n",
       "  mean: 0.70208, std: 0.04169, params: {'colsample_bylevel': 0.85, 'colsample_bytree': 0.6, 'subsample': 0.8},\n",
       "  mean: 0.70214, std: 0.04115, params: {'colsample_bylevel': 0.85, 'colsample_bytree': 0.6, 'subsample': 0.85},\n",
       "  mean: 0.70174, std: 0.04061, params: {'colsample_bylevel': 0.85, 'colsample_bytree': 0.6, 'subsample': 0.9},\n",
       "  mean: 0.70197, std: 0.04099, params: {'colsample_bylevel': 0.85, 'colsample_bytree': 0.6, 'subsample': 1},\n",
       "  mean: 0.70620, std: 0.03746, params: {'colsample_bylevel': 0.85, 'colsample_bytree': 0.7, 'subsample': 0.6},\n",
       "  mean: 0.70478, std: 0.03784, params: {'colsample_bylevel': 0.85, 'colsample_bytree': 0.7, 'subsample': 0.7},\n",
       "  mean: 0.70668, std: 0.03693, params: {'colsample_bylevel': 0.85, 'colsample_bytree': 0.7, 'subsample': 0.75},\n",
       "  mean: 0.70515, std: 0.03874, params: {'colsample_bylevel': 0.85, 'colsample_bytree': 0.7, 'subsample': 0.8},\n",
       "  mean: 0.70380, std: 0.03893, params: {'colsample_bylevel': 0.85, 'colsample_bytree': 0.7, 'subsample': 0.85},\n",
       "  mean: 0.70263, std: 0.04160, params: {'colsample_bylevel': 0.85, 'colsample_bytree': 0.7, 'subsample': 0.9},\n",
       "  mean: 0.70162, std: 0.04287, params: {'colsample_bylevel': 0.85, 'colsample_bytree': 0.7, 'subsample': 1},\n",
       "  mean: 0.70224, std: 0.04113, params: {'colsample_bylevel': 0.85, 'colsample_bytree': 0.75, 'subsample': 0.6},\n",
       "  mean: 0.70434, std: 0.04009, params: {'colsample_bylevel': 0.85, 'colsample_bytree': 0.75, 'subsample': 0.7},\n",
       "  mean: 0.70430, std: 0.04000, params: {'colsample_bylevel': 0.85, 'colsample_bytree': 0.75, 'subsample': 0.75},\n",
       "  mean: 0.70378, std: 0.04102, params: {'colsample_bylevel': 0.85, 'colsample_bytree': 0.75, 'subsample': 0.8},\n",
       "  mean: 0.70191, std: 0.04207, params: {'colsample_bylevel': 0.85, 'colsample_bytree': 0.75, 'subsample': 0.85},\n",
       "  mean: 0.70282, std: 0.04148, params: {'colsample_bylevel': 0.85, 'colsample_bytree': 0.75, 'subsample': 0.9},\n",
       "  mean: 0.70210, std: 0.04179, params: {'colsample_bylevel': 0.85, 'colsample_bytree': 0.75, 'subsample': 1},\n",
       "  mean: 0.70341, std: 0.04211, params: {'colsample_bylevel': 0.85, 'colsample_bytree': 0.8, 'subsample': 0.6},\n",
       "  mean: 0.70408, std: 0.04024, params: {'colsample_bylevel': 0.85, 'colsample_bytree': 0.8, 'subsample': 0.7},\n",
       "  mean: 0.70368, std: 0.04141, params: {'colsample_bylevel': 0.85, 'colsample_bytree': 0.8, 'subsample': 0.75},\n",
       "  mean: 0.70321, std: 0.04063, params: {'colsample_bylevel': 0.85, 'colsample_bytree': 0.8, 'subsample': 0.8},\n",
       "  mean: 0.70246, std: 0.04296, params: {'colsample_bylevel': 0.85, 'colsample_bytree': 0.8, 'subsample': 0.85},\n",
       "  mean: 0.70218, std: 0.04303, params: {'colsample_bylevel': 0.85, 'colsample_bytree': 0.8, 'subsample': 0.9},\n",
       "  mean: 0.70304, std: 0.04175, params: {'colsample_bylevel': 0.85, 'colsample_bytree': 0.8, 'subsample': 1},\n",
       "  mean: 0.70265, std: 0.04121, params: {'colsample_bylevel': 0.85, 'colsample_bytree': 0.85, 'subsample': 0.6},\n",
       "  mean: 0.70310, std: 0.04110, params: {'colsample_bylevel': 0.85, 'colsample_bytree': 0.85, 'subsample': 0.7},\n",
       "  mean: 0.70259, std: 0.04193, params: {'colsample_bylevel': 0.85, 'colsample_bytree': 0.85, 'subsample': 0.75},\n",
       "  mean: 0.70277, std: 0.04234, params: {'colsample_bylevel': 0.85, 'colsample_bytree': 0.85, 'subsample': 0.8},\n",
       "  mean: 0.70317, std: 0.04195, params: {'colsample_bylevel': 0.85, 'colsample_bytree': 0.85, 'subsample': 0.85},\n",
       "  mean: 0.70356, std: 0.04085, params: {'colsample_bylevel': 0.85, 'colsample_bytree': 0.85, 'subsample': 0.9},\n",
       "  mean: 0.70389, std: 0.04045, params: {'colsample_bylevel': 0.85, 'colsample_bytree': 0.85, 'subsample': 1},\n",
       "  mean: 0.70381, std: 0.04083, params: {'colsample_bylevel': 0.85, 'colsample_bytree': 0.9, 'subsample': 0.6},\n",
       "  mean: 0.70229, std: 0.04117, params: {'colsample_bylevel': 0.85, 'colsample_bytree': 0.9, 'subsample': 0.7},\n",
       "  mean: 0.70512, std: 0.03904, params: {'colsample_bylevel': 0.85, 'colsample_bytree': 0.9, 'subsample': 0.75},\n",
       "  mean: 0.70319, std: 0.04182, params: {'colsample_bylevel': 0.85, 'colsample_bytree': 0.9, 'subsample': 0.8},\n",
       "  mean: 0.70272, std: 0.04179, params: {'colsample_bylevel': 0.85, 'colsample_bytree': 0.9, 'subsample': 0.85},\n",
       "  mean: 0.70204, std: 0.04360, params: {'colsample_bylevel': 0.85, 'colsample_bytree': 0.9, 'subsample': 0.9},\n",
       "  mean: 0.70186, std: 0.04146, params: {'colsample_bylevel': 0.85, 'colsample_bytree': 0.9, 'subsample': 1},\n",
       "  mean: 0.70420, std: 0.04038, params: {'colsample_bylevel': 0.85, 'colsample_bytree': 1, 'subsample': 0.6},\n",
       "  mean: 0.70367, std: 0.04086, params: {'colsample_bylevel': 0.85, 'colsample_bytree': 1, 'subsample': 0.7},\n",
       "  mean: 0.70268, std: 0.04087, params: {'colsample_bylevel': 0.85, 'colsample_bytree': 1, 'subsample': 0.75},\n",
       "  mean: 0.70303, std: 0.04146, params: {'colsample_bylevel': 0.85, 'colsample_bytree': 1, 'subsample': 0.8},\n",
       "  mean: 0.70302, std: 0.04195, params: {'colsample_bylevel': 0.85, 'colsample_bytree': 1, 'subsample': 0.85},\n",
       "  mean: 0.70332, std: 0.04053, params: {'colsample_bylevel': 0.85, 'colsample_bytree': 1, 'subsample': 0.9},\n",
       "  mean: 0.70333, std: 0.04209, params: {'colsample_bylevel': 0.85, 'colsample_bytree': 1, 'subsample': 1},\n",
       "  mean: 0.70376, std: 0.04172, params: {'colsample_bylevel': 0.9, 'colsample_bytree': 0.6, 'subsample': 0.6},\n",
       "  mean: 0.70176, std: 0.04198, params: {'colsample_bylevel': 0.9, 'colsample_bytree': 0.6, 'subsample': 0.7},\n",
       "  mean: 0.70246, std: 0.04099, params: {'colsample_bylevel': 0.9, 'colsample_bytree': 0.6, 'subsample': 0.75},\n",
       "  mean: 0.70286, std: 0.04090, params: {'colsample_bylevel': 0.9, 'colsample_bytree': 0.6, 'subsample': 0.8},\n",
       "  mean: 0.70166, std: 0.04196, params: {'colsample_bylevel': 0.9, 'colsample_bytree': 0.6, 'subsample': 0.85},\n",
       "  mean: 0.70281, std: 0.04050, params: {'colsample_bylevel': 0.9, 'colsample_bytree': 0.6, 'subsample': 0.9},\n",
       "  mean: 0.70214, std: 0.04162, params: {'colsample_bylevel': 0.9, 'colsample_bytree': 0.6, 'subsample': 1},\n",
       "  mean: 0.70557, std: 0.03872, params: {'colsample_bylevel': 0.9, 'colsample_bytree': 0.7, 'subsample': 0.6},\n",
       "  mean: 0.70518, std: 0.03782, params: {'colsample_bylevel': 0.9, 'colsample_bytree': 0.7, 'subsample': 0.7},\n",
       "  mean: 0.70487, std: 0.04081, params: {'colsample_bylevel': 0.9, 'colsample_bytree': 0.7, 'subsample': 0.75},\n",
       "  mean: 0.70459, std: 0.03964, params: {'colsample_bylevel': 0.9, 'colsample_bytree': 0.7, 'subsample': 0.8},\n",
       "  mean: 0.70433, std: 0.03881, params: {'colsample_bylevel': 0.9, 'colsample_bytree': 0.7, 'subsample': 0.85},\n",
       "  mean: 0.70344, std: 0.04014, params: {'colsample_bylevel': 0.9, 'colsample_bytree': 0.7, 'subsample': 0.9},\n",
       "  mean: 0.70432, std: 0.04049, params: {'colsample_bylevel': 0.9, 'colsample_bytree': 0.7, 'subsample': 1},\n",
       "  mean: 0.70311, std: 0.04127, params: {'colsample_bylevel': 0.9, 'colsample_bytree': 0.75, 'subsample': 0.6},\n",
       "  mean: 0.70333, std: 0.03981, params: {'colsample_bylevel': 0.9, 'colsample_bytree': 0.75, 'subsample': 0.7},\n",
       "  mean: 0.70449, std: 0.04083, params: {'colsample_bylevel': 0.9, 'colsample_bytree': 0.75, 'subsample': 0.75},\n",
       "  mean: 0.70266, std: 0.04154, params: {'colsample_bylevel': 0.9, 'colsample_bytree': 0.75, 'subsample': 0.8},\n",
       "  mean: 0.70305, std: 0.04111, params: {'colsample_bylevel': 0.9, 'colsample_bytree': 0.75, 'subsample': 0.85},\n",
       "  mean: 0.70105, std: 0.04236, params: {'colsample_bylevel': 0.9, 'colsample_bytree': 0.75, 'subsample': 0.9},\n",
       "  mean: 0.70199, std: 0.04128, params: {'colsample_bylevel': 0.9, 'colsample_bytree': 0.75, 'subsample': 1},\n",
       "  mean: 0.70249, std: 0.04194, params: {'colsample_bylevel': 0.9, 'colsample_bytree': 0.8, 'subsample': 0.6},\n",
       "  mean: 0.70296, std: 0.04203, params: {'colsample_bylevel': 0.9, 'colsample_bytree': 0.8, 'subsample': 0.7},\n",
       "  mean: 0.70345, std: 0.04191, params: {'colsample_bylevel': 0.9, 'colsample_bytree': 0.8, 'subsample': 0.75},\n",
       "  mean: 0.70359, std: 0.04186, params: {'colsample_bylevel': 0.9, 'colsample_bytree': 0.8, 'subsample': 0.8},\n",
       "  mean: 0.70404, std: 0.04130, params: {'colsample_bylevel': 0.9, 'colsample_bytree': 0.8, 'subsample': 0.85},\n",
       "  mean: 0.70290, std: 0.04263, params: {'colsample_bylevel': 0.9, 'colsample_bytree': 0.8, 'subsample': 0.9},\n",
       "  mean: 0.70186, std: 0.04164, params: {'colsample_bylevel': 0.9, 'colsample_bytree': 0.8, 'subsample': 1},\n",
       "  mean: 0.70257, std: 0.04087, params: {'colsample_bylevel': 0.9, 'colsample_bytree': 0.85, 'subsample': 0.6},\n",
       "  mean: 0.70181, std: 0.04206, params: {'colsample_bylevel': 0.9, 'colsample_bytree': 0.85, 'subsample': 0.7},\n",
       "  mean: 0.70241, std: 0.04273, params: {'colsample_bylevel': 0.9, 'colsample_bytree': 0.85, 'subsample': 0.75},\n",
       "  mean: 0.70214, std: 0.04275, params: {'colsample_bylevel': 0.9, 'colsample_bytree': 0.85, 'subsample': 0.8},\n",
       "  mean: 0.70282, std: 0.04232, params: {'colsample_bylevel': 0.9, 'colsample_bytree': 0.85, 'subsample': 0.85},\n",
       "  mean: 0.70138, std: 0.04261, params: {'colsample_bylevel': 0.9, 'colsample_bytree': 0.85, 'subsample': 0.9},\n",
       "  mean: 0.70243, std: 0.04147, params: {'colsample_bylevel': 0.9, 'colsample_bytree': 0.85, 'subsample': 1},\n",
       "  mean: 0.70351, std: 0.04158, params: {'colsample_bylevel': 0.9, 'colsample_bytree': 0.9, 'subsample': 0.6},\n",
       "  mean: 0.70371, std: 0.04104, params: {'colsample_bylevel': 0.9, 'colsample_bytree': 0.9, 'subsample': 0.7},\n",
       "  mean: 0.70298, std: 0.04105, params: {'colsample_bylevel': 0.9, 'colsample_bytree': 0.9, 'subsample': 0.75},\n",
       "  mean: 0.70208, std: 0.04240, params: {'colsample_bylevel': 0.9, 'colsample_bytree': 0.9, 'subsample': 0.8},\n",
       "  mean: 0.70182, std: 0.04279, params: {'colsample_bylevel': 0.9, 'colsample_bytree': 0.9, 'subsample': 0.85},\n",
       "  mean: 0.70346, std: 0.04152, params: {'colsample_bylevel': 0.9, 'colsample_bytree': 0.9, 'subsample': 0.9},\n",
       "  mean: 0.70210, std: 0.04131, params: {'colsample_bylevel': 0.9, 'colsample_bytree': 0.9, 'subsample': 1},\n",
       "  mean: 0.70364, std: 0.04117, params: {'colsample_bylevel': 0.9, 'colsample_bytree': 1, 'subsample': 0.6},\n",
       "  mean: 0.70343, std: 0.04183, params: {'colsample_bylevel': 0.9, 'colsample_bytree': 1, 'subsample': 0.7},\n",
       "  mean: 0.70285, std: 0.04118, params: {'colsample_bylevel': 0.9, 'colsample_bytree': 1, 'subsample': 0.75},\n",
       "  mean: 0.70294, std: 0.04106, params: {'colsample_bylevel': 0.9, 'colsample_bytree': 1, 'subsample': 0.8},\n",
       "  mean: 0.70242, std: 0.04175, params: {'colsample_bylevel': 0.9, 'colsample_bytree': 1, 'subsample': 0.85},\n",
       "  mean: 0.70291, std: 0.04154, params: {'colsample_bylevel': 0.9, 'colsample_bytree': 1, 'subsample': 0.9},\n",
       "  mean: 0.70251, std: 0.04065, params: {'colsample_bylevel': 0.9, 'colsample_bytree': 1, 'subsample': 1},\n",
       "  mean: 0.70463, std: 0.03912, params: {'colsample_bylevel': 1, 'colsample_bytree': 0.6, 'subsample': 0.6},\n",
       "  mean: 0.70383, std: 0.03963, params: {'colsample_bylevel': 1, 'colsample_bytree': 0.6, 'subsample': 0.7},\n",
       "  mean: 0.70450, std: 0.03908, params: {'colsample_bylevel': 1, 'colsample_bytree': 0.6, 'subsample': 0.75},\n",
       "  mean: 0.70219, std: 0.04128, params: {'colsample_bylevel': 1, 'colsample_bytree': 0.6, 'subsample': 0.8},\n",
       "  mean: 0.70378, std: 0.04037, params: {'colsample_bylevel': 1, 'colsample_bytree': 0.6, 'subsample': 0.85},\n",
       "  mean: 0.70286, std: 0.04105, params: {'colsample_bylevel': 1, 'colsample_bytree': 0.6, 'subsample': 0.9},\n",
       "  mean: 0.70192, std: 0.04044, params: {'colsample_bylevel': 1, 'colsample_bytree': 0.6, 'subsample': 1},\n",
       "  mean: 0.70293, std: 0.04116, params: {'colsample_bylevel': 1, 'colsample_bytree': 0.7, 'subsample': 0.6},\n",
       "  mean: 0.70323, std: 0.04196, params: {'colsample_bylevel': 1, 'colsample_bytree': 0.7, 'subsample': 0.7},\n",
       "  mean: 0.70346, std: 0.03952, params: {'colsample_bylevel': 1, 'colsample_bytree': 0.7, 'subsample': 0.75},\n",
       "  mean: 0.70314, std: 0.04169, params: {'colsample_bylevel': 1, 'colsample_bytree': 0.7, 'subsample': 0.8},\n",
       "  mean: 0.70347, std: 0.04140, params: {'colsample_bylevel': 1, 'colsample_bytree': 0.7, 'subsample': 0.85},\n",
       "  mean: 0.70337, std: 0.04124, params: {'colsample_bylevel': 1, 'colsample_bytree': 0.7, 'subsample': 0.9},\n",
       "  mean: 0.70138, std: 0.04147, params: {'colsample_bylevel': 1, 'colsample_bytree': 0.7, 'subsample': 1},\n",
       "  mean: 0.70323, std: 0.04120, params: {'colsample_bylevel': 1, 'colsample_bytree': 0.75, 'subsample': 0.6},\n",
       "  mean: 0.70276, std: 0.04221, params: {'colsample_bylevel': 1, 'colsample_bytree': 0.75, 'subsample': 0.7},\n",
       "  mean: 0.70310, std: 0.04060, params: {'colsample_bylevel': 1, 'colsample_bytree': 0.75, 'subsample': 0.75},\n",
       "  mean: 0.70190, std: 0.04159, params: {'colsample_bylevel': 1, 'colsample_bytree': 0.75, 'subsample': 0.8},\n",
       "  mean: 0.70312, std: 0.04290, params: {'colsample_bylevel': 1, 'colsample_bytree': 0.75, 'subsample': 0.85},\n",
       "  mean: 0.70361, std: 0.04108, params: {'colsample_bylevel': 1, 'colsample_bytree': 0.75, 'subsample': 0.9},\n",
       "  mean: 0.70206, std: 0.04276, params: {'colsample_bylevel': 1, 'colsample_bytree': 0.75, 'subsample': 1},\n",
       "  mean: 0.70256, std: 0.04173, params: {'colsample_bylevel': 1, 'colsample_bytree': 0.8, 'subsample': 0.6},\n",
       "  mean: 0.70342, std: 0.04167, params: {'colsample_bylevel': 1, 'colsample_bytree': 0.8, 'subsample': 0.7},\n",
       "  mean: 0.70402, std: 0.04060, params: {'colsample_bylevel': 1, 'colsample_bytree': 0.8, 'subsample': 0.75},\n",
       "  mean: 0.70317, std: 0.04152, params: {'colsample_bylevel': 1, 'colsample_bytree': 0.8, 'subsample': 0.8},\n",
       "  mean: 0.70296, std: 0.04187, params: {'colsample_bylevel': 1, 'colsample_bytree': 0.8, 'subsample': 0.85},\n",
       "  mean: 0.70427, std: 0.04092, params: {'colsample_bylevel': 1, 'colsample_bytree': 0.8, 'subsample': 0.9},\n",
       "  mean: 0.70229, std: 0.04177, params: {'colsample_bylevel': 1, 'colsample_bytree': 0.8, 'subsample': 1},\n",
       "  mean: 0.70323, std: 0.04251, params: {'colsample_bylevel': 1, 'colsample_bytree': 0.85, 'subsample': 0.6},\n",
       "  mean: 0.70306, std: 0.04156, params: {'colsample_bylevel': 1, 'colsample_bytree': 0.85, 'subsample': 0.7},\n",
       "  mean: 0.70416, std: 0.04030, params: {'colsample_bylevel': 1, 'colsample_bytree': 0.85, 'subsample': 0.75},\n",
       "  mean: 0.70278, std: 0.04198, params: {'colsample_bylevel': 1, 'colsample_bytree': 0.85, 'subsample': 0.8},\n",
       "  mean: 0.70561, std: 0.03940, params: {'colsample_bylevel': 1, 'colsample_bytree': 0.85, 'subsample': 0.85},\n",
       "  mean: 0.70275, std: 0.04171, params: {'colsample_bylevel': 1, 'colsample_bytree': 0.85, 'subsample': 0.9},\n",
       "  mean: 0.70159, std: 0.04199, params: {'colsample_bylevel': 1, 'colsample_bytree': 0.85, 'subsample': 1},\n",
       "  mean: 0.70322, std: 0.04234, params: {'colsample_bylevel': 1, 'colsample_bytree': 0.9, 'subsample': 0.6},\n",
       "  mean: 0.70285, std: 0.04259, params: {'colsample_bylevel': 1, 'colsample_bytree': 0.9, 'subsample': 0.7},\n",
       "  mean: 0.70410, std: 0.04110, params: {'colsample_bylevel': 1, 'colsample_bytree': 0.9, 'subsample': 0.75},\n",
       "  mean: 0.70415, std: 0.04080, params: {'colsample_bylevel': 1, 'colsample_bytree': 0.9, 'subsample': 0.8},\n",
       "  mean: 0.70401, std: 0.04162, params: {'colsample_bylevel': 1, 'colsample_bytree': 0.9, 'subsample': 0.85},\n",
       "  mean: 0.70291, std: 0.04164, params: {'colsample_bylevel': 1, 'colsample_bytree': 0.9, 'subsample': 0.9},\n",
       "  mean: 0.70150, std: 0.04165, params: {'colsample_bylevel': 1, 'colsample_bytree': 0.9, 'subsample': 1},\n",
       "  mean: 0.70255, std: 0.04248, params: {'colsample_bylevel': 1, 'colsample_bytree': 1, 'subsample': 0.6},\n",
       "  mean: 0.70287, std: 0.04278, params: {'colsample_bylevel': 1, 'colsample_bytree': 1, 'subsample': 0.7},\n",
       "  mean: 0.70321, std: 0.04201, params: {'colsample_bylevel': 1, 'colsample_bytree': 1, 'subsample': 0.75},\n",
       "  mean: 0.70344, std: 0.04223, params: {'colsample_bylevel': 1, 'colsample_bytree': 1, 'subsample': 0.8},\n",
       "  mean: 0.70421, std: 0.04231, params: {'colsample_bylevel': 1, 'colsample_bytree': 1, 'subsample': 0.85},\n",
       "  mean: 0.70350, std: 0.04223, params: {'colsample_bylevel': 1, 'colsample_bytree': 1, 'subsample': 0.9},\n",
       "  mean: 0.70202, std: 0.04200, params: {'colsample_bylevel': 1, 'colsample_bytree': 1, 'subsample': 1}],\n",
       " {'colsample_bylevel': 0.6, 'colsample_bytree': 1, 'subsample': 0.6},\n",
       " 0.7067911952908462)"
      ]
     },
     "execution_count": 28,
     "metadata": {},
     "output_type": "execute_result"
    }
   ],
   "source": [
    "gridSearch8.grid_scores_,gridSearch8.best_params_,gridSearch8.best_score_"
   ]
  },
  {
   "cell_type": "code",
   "execution_count": 29,
   "metadata": {},
   "outputs": [
    {
     "data": {
      "text/plain": [
       "GridSearchCV(cv=5, error_score='raise',\n",
       "       estimator=XGBClassifier(base_score=0.5, colsample_bylevel=0.6, colsample_bytree=0.1,\n",
       "       gamma=0, learning_rate=0.05, max_delta_step=1, max_depth=2,\n",
       "       min_child_weight=8, missing=None, n_estimators=150, nthread=-1,\n",
       "       objective='binary:logistic', reg_alpha=0, reg_lambda=1,\n",
       "       scale_pos_weight=1, seed=0, silent=True, subsample=0.6),\n",
       "       fit_params={}, iid=False, n_jobs=4,\n",
       "       param_grid={'reg_alpha': [0.6, 0.7, 0.75, 0.8, 0.85, 0.9, 1]},\n",
       "       pre_dispatch='2*n_jobs', refit=True, scoring='roc_auc', verbose=0)"
      ]
     },
     "execution_count": 29,
     "metadata": {},
     "output_type": "execute_result"
    }
   ],
   "source": [
    "paramTest9={\"reg_alpha\":[0.6,0.7,0.75,0.8,0.85,0.9,1]}\n",
    "gridSearch9=GridSearchCV(estimator= \n",
    "                         xgb.XGBClassifier(learning_rate=0.05,max_depth=2,\n",
    "                                           n_estimators=150,min_child_weight=8,max_delta_step=1,\n",
    "                                          colsample_bylevel=0.6,colsample_bytree=0.1,subsample=0.6),\n",
    "                        scoring='roc_auc',\n",
    "                        param_grid=paramTest9,\n",
    "                        iid=False,\n",
    "                        n_jobs=4,\n",
    "                        cv=5)\n",
    "gridSearch9.fit(data,target.sharesB)"
   ]
  },
  {
   "cell_type": "code",
   "execution_count": 30,
   "metadata": {},
   "outputs": [
    {
     "data": {
      "text/plain": [
       "([mean: 0.70661, std: 0.03142, params: {'reg_alpha': 0.6},\n",
       "  mean: 0.70670, std: 0.03130, params: {'reg_alpha': 0.7},\n",
       "  mean: 0.70672, std: 0.03133, params: {'reg_alpha': 0.75},\n",
       "  mean: 0.70676, std: 0.03130, params: {'reg_alpha': 0.8},\n",
       "  mean: 0.70680, std: 0.03118, params: {'reg_alpha': 0.85},\n",
       "  mean: 0.70680, std: 0.03119, params: {'reg_alpha': 0.9},\n",
       "  mean: 0.70680, std: 0.03121, params: {'reg_alpha': 1}],\n",
       " {'reg_alpha': 0.85},\n",
       " 0.7067994949860887)"
      ]
     },
     "execution_count": 30,
     "metadata": {},
     "output_type": "execute_result"
    }
   ],
   "source": [
    "gridSearch9.grid_scores_,gridSearch9.best_params_,gridSearch9.best_score_"
   ]
  },
  {
   "cell_type": "code",
   "execution_count": 35,
   "metadata": {},
   "outputs": [
    {
     "data": {
      "text/plain": [
       "GridSearchCV(cv=5, error_score='raise',\n",
       "       estimator=XGBClassifier(base_score=0.5, colsample_bylevel=0.6, colsample_bytree=0.1,\n",
       "       gamma=0, learning_rate=0.05, max_delta_step=1, max_depth=2,\n",
       "       min_child_weight=8, missing=None, n_estimators=150, nthread=-1,\n",
       "       objective='binary:logistic', reg_alpha=0.85, reg_lambda=1,\n",
       "       scale_pos_weight=1, seed=0, silent=True, subsample=0.6),\n",
       "       fit_params={}, iid=False, n_jobs=4,\n",
       "       param_grid={'reg_lambda': [0.6, 0.7, 0.75, 0.8, 0.85, 0.9, 1, 1.2]},\n",
       "       pre_dispatch='2*n_jobs', refit=True, scoring='roc_auc', verbose=0)"
      ]
     },
     "execution_count": 35,
     "metadata": {},
     "output_type": "execute_result"
    }
   ],
   "source": [
    "paramTest10={\"reg_lambda\":[0.6,0.7,0.75,0.8,0.85,0.9,1,1.2]}\n",
    "gridSearch10=GridSearchCV(estimator= \n",
    "                         xgb.XGBClassifier(learning_rate=0.05,max_depth=2,reg_alpha=0.85,\n",
    "                                           n_estimators=150,min_child_weight=8,max_delta_step=1,\n",
    "                                          colsample_bylevel=0.6,colsample_bytree=0.1,subsample=0.6),\n",
    "                        scoring='roc_auc',\n",
    "                        param_grid=paramTest10,\n",
    "                        iid=False,\n",
    "                        n_jobs=4,\n",
    "                        cv=5)\n",
    "gridSearch10.fit(data,target.sharesB)"
   ]
  },
  {
   "cell_type": "code",
   "execution_count": 36,
   "metadata": {},
   "outputs": [
    {
     "data": {
      "text/plain": [
       "([mean: 0.70665, std: 0.03145, params: {'reg_lambda': 0.6},\n",
       "  mean: 0.70672, std: 0.03132, params: {'reg_lambda': 0.7},\n",
       "  mean: 0.70672, std: 0.03131, params: {'reg_lambda': 0.75},\n",
       "  mean: 0.70673, std: 0.03131, params: {'reg_lambda': 0.8},\n",
       "  mean: 0.70672, std: 0.03132, params: {'reg_lambda': 0.85},\n",
       "  mean: 0.70676, std: 0.03130, params: {'reg_lambda': 0.9},\n",
       "  mean: 0.70680, std: 0.03118, params: {'reg_lambda': 1},\n",
       "  mean: 0.70679, std: 0.03119, params: {'reg_lambda': 1.2}],\n",
       " {'reg_lambda': 1},\n",
       " 0.7067994949860887)"
      ]
     },
     "execution_count": 36,
     "metadata": {},
     "output_type": "execute_result"
    }
   ],
   "source": [
    "gridSearch10.grid_scores_,gridSearch10.best_params_,gridSearch10.best_score_"
   ]
  },
  {
   "cell_type": "code",
   "execution_count": 38,
   "metadata": {},
   "outputs": [
    {
     "data": {
      "text/plain": [
       "GridSearchCV(cv=5, error_score='raise',\n",
       "       estimator=XGBClassifier(base_score=0.5, colsample_bylevel=0.6, colsample_bytree=0.1,\n",
       "       gamma=0, learning_rate=0.05, max_delta_step=1, max_depth=2,\n",
       "       min_child_weight=8, missing=None, n_estimators=150, nthread=-1,\n",
       "       objective='binary:logistic', reg_alpha=0.85, reg_lambda=1,\n",
       "       scale_pos_weight=1, seed=0, silent=True, subsample=0.6),\n",
       "       fit_params={}, iid=False, n_jobs=4,\n",
       "       param_grid={'scale_pos_weight': [0.6, 0.7, 0.75, 0.8, 0.85, 0.9, 1, 1.2]},\n",
       "       pre_dispatch='2*n_jobs', refit=True, scoring='roc_auc', verbose=0)"
      ]
     },
     "execution_count": 38,
     "metadata": {},
     "output_type": "execute_result"
    }
   ],
   "source": [
    "paramTest11={\"scale_pos_weight\":[0.6,0.7,0.75,0.8,0.85,0.9,1,1.2]}\n",
    "gridSearch11=GridSearchCV(estimator= \n",
    "                         xgb.XGBClassifier(learning_rate=0.05,max_depth=2,reg_alpha=0.85,reg_lambda=1,\n",
    "                                           n_estimators=150,min_child_weight=8,max_delta_step=1,\n",
    "                                          colsample_bylevel=0.6,colsample_bytree=0.1,subsample=0.6),\n",
    "                        scoring='roc_auc',\n",
    "                        param_grid=paramTest11,\n",
    "                        iid=False,\n",
    "                        n_jobs=4,\n",
    "                        cv=5)\n",
    "gridSearch11.fit(data,target.sharesB)"
   ]
  },
  {
   "cell_type": "code",
   "execution_count": 39,
   "metadata": {},
   "outputs": [
    {
     "data": {
      "text/plain": [
       "([mean: 0.70694, std: 0.03122, params: {'scale_pos_weight': 0.6},\n",
       "  mean: 0.70680, std: 0.03140, params: {'scale_pos_weight': 0.7},\n",
       "  mean: 0.70688, std: 0.03123, params: {'scale_pos_weight': 0.75},\n",
       "  mean: 0.70678, std: 0.03149, params: {'scale_pos_weight': 0.8},\n",
       "  mean: 0.70679, std: 0.03151, params: {'scale_pos_weight': 0.85},\n",
       "  mean: 0.70679, std: 0.03155, params: {'scale_pos_weight': 0.9},\n",
       "  mean: 0.70680, std: 0.03118, params: {'scale_pos_weight': 1},\n",
       "  mean: 0.70657, std: 0.03121, params: {'scale_pos_weight': 1.2}],\n",
       " {'scale_pos_weight': 0.6},\n",
       " 0.7069392105433058)"
      ]
     },
     "execution_count": 39,
     "metadata": {},
     "output_type": "execute_result"
    }
   ],
   "source": [
    "gridSearch11.grid_scores_,gridSearch11.best_params_,gridSearch11.best_score_"
   ]
  },
  {
   "cell_type": "markdown",
   "metadata": {},
   "source": [
    "## Different method"
   ]
  },
  {
   "cell_type": "code",
   "execution_count": 82,
   "metadata": {},
   "outputs": [],
   "source": [
    "def modelfit(alg, dtrain,targetDf,useTrainCV=True, cv_folds=5, early_stopping_rounds=50):\n",
    "    \n",
    "    if useTrainCV:\n",
    "        xgb_param = alg.get_xgb_params()\n",
    "        xgtrain = xgb.DMatrix(dtrain.values, label=targetDf.values)\n",
    "        cvresult = xgb.cv(xgb_param, xgtrain, num_boost_round=alg.get_params()['n_estimators'], nfold=cv_folds,\n",
    "            metrics='auc', early_stopping_rounds=early_stopping_rounds, verbose_eval=False)\n",
    "        alg.set_params(n_estimators=cvresult.shape[0])\n",
    "        print(\"n_estimators :\",cvresult.shape[0])\n",
    "        print(\"cvresult :\",np.mean(cvresult[\"test-auc-mean\"]))\n",
    "    #Fit the algorithm on the data\n",
    "    xTrain,xTest,yTrain,yTest = train_test_split(dtrain,targetDf,test_size=0.2,random_state=6)\n",
    "    alg.fit(xTrain, yTrain,eval_metric='auc')\n",
    "        \n",
    "    #Predict training set:\n",
    "    dtrain_predictions = alg.predict(xTrain)\n",
    "    dtrain_predprob = alg.predict_proba(xTrain)[:,1]\n",
    "    \n",
    "    xtest_predictions = alg.predict(xTest)\n",
    "    xtest_predprob = alg.predict_proba(xTest)[:,1]\n",
    "        \n",
    "    #Print model report:\n",
    "    print (\"\\nModel Report\")\n",
    "    print (\"Accuracy : %.4g\" % metrics.accuracy_score(yTrain.values, dtrain_predictions))\n",
    "    print (\"AUC Score (Train): %f\" % metrics.roc_auc_score(yTrain.values, dtrain_predprob))\n",
    "    print (\"AUC Score (Test): %f\" % metrics.roc_auc_score(yTest, xtest_predprob))\n",
    "                    \n",
    "    feat_imp = pd.Series(alg.booster().get_fscore()).sort_values(ascending=False)\n",
    "    feat_imp.plot(kind='bar', title='Feature Importances')\n",
    "    plt.ylabel('Feature Importance Score')"
   ]
  },
  {
   "cell_type": "code",
   "execution_count": 85,
   "metadata": {},
   "outputs": [
    {
     "name": "stdout",
     "output_type": "stream",
     "text": [
      "n_estimators : 176\n",
      "cvresult : 0.7319760113636362\n",
      "\n",
      "Model Report\n",
      "Accuracy : 0.7609\n",
      "AUC Score (Train): 0.845839\n",
      "AUC Score (Test): 0.732033\n"
     ]
    },
    {
     "data": {
      "image/png": "[encoded data removed]",
      "text/plain": [
       "<matplotlib.figure.Figure at 0x2351dfa34e0>"
      ]
     },
     "metadata": {},
     "output_type": "display_data"
    }
   ],
   "source": [
    "xgb1 = XGBClassifier(\n",
    " learning_rate =0.1,\n",
    " n_estimators=1000,\n",
    " max_depth=5,\n",
    " min_child_weight=1,\n",
    " gamma=0,\n",
    " subsample=0.8,\n",
    " colsample_bytree=0.8,\n",
    " objective= 'binary:logistic',\n",
    " nthread=4,\n",
    " scale_pos_weight=1,\n",
    " seed=27)\n",
    "modelfit(xgb1, data, target.sharesB)"
   ]
  },
  {
   "cell_type": "code",
   "execution_count": 69,
   "metadata": {},
   "outputs": [
    {
     "data": {
      "text/plain": [
       "([mean: 0.69445, std: 0.05614, params: {'max_depth': 3, 'min_child_weight': 1},\n",
       "  mean: 0.69547, std: 0.05308, params: {'max_depth': 3, 'min_child_weight': 3},\n",
       "  mean: 0.69563, std: 0.05380, params: {'max_depth': 3, 'min_child_weight': 5},\n",
       "  mean: 0.68072, std: 0.06307, params: {'max_depth': 5, 'min_child_weight': 1},\n",
       "  mean: 0.67869, std: 0.06202, params: {'max_depth': 5, 'min_child_weight': 3},\n",
       "  mean: 0.68609, std: 0.05839, params: {'max_depth': 5, 'min_child_weight': 5},\n",
       "  mean: 0.67465, std: 0.06031, params: {'max_depth': 7, 'min_child_weight': 1},\n",
       "  mean: 0.67257, std: 0.06271, params: {'max_depth': 7, 'min_child_weight': 3},\n",
       "  mean: 0.67625, std: 0.05867, params: {'max_depth': 7, 'min_child_weight': 5},\n",
       "  mean: 0.66754, std: 0.06111, params: {'max_depth': 9, 'min_child_weight': 1},\n",
       "  mean: 0.67005, std: 0.05964, params: {'max_depth': 9, 'min_child_weight': 3},\n",
       "  mean: 0.67246, std: 0.05671, params: {'max_depth': 9, 'min_child_weight': 5}],\n",
       " {'max_depth': 3, 'min_child_weight': 5},\n",
       " 0.6956279430799552)"
      ]
     },
     "execution_count": 69,
     "metadata": {},
     "output_type": "execute_result"
    }
   ],
   "source": [
    "param_test1 = {\n",
    " 'max_depth':list(range(3,10,2)),\n",
    " 'min_child_weight':list(range(1,6,2))\n",
    "}\n",
    "gsearch1 = GridSearchCV(estimator = XGBClassifier( learning_rate =0.1, n_estimators=176, max_depth=5,\n",
    " min_child_weight=1, gamma=0, subsample=0.8, colsample_bytree=0.8,\n",
    " objective= 'binary:logistic', nthread=4, scale_pos_weight=1, seed=27), \n",
    " param_grid = param_test1, scoring='roc_auc',n_jobs=4,iid=False, cv=5)\n",
    "gsearch1.fit(data,target.sharesB)\n",
    "gsearch1.grid_scores_, gsearch1.best_params_, gsearch1.best_score_"
   ]
  },
  {
   "cell_type": "code",
   "execution_count": 88,
   "metadata": {},
   "outputs": [
    {
     "data": {
      "text/plain": [
       "([mean: 0.70456, std: 0.03817, params: {'max_depth': 1, 'min_child_weight': 5},\n",
       "  mean: 0.70456, std: 0.03817, params: {'max_depth': 1, 'min_child_weight': 6},\n",
       "  mean: 0.70456, std: 0.03817, params: {'max_depth': 1, 'min_child_weight': 7},\n",
       "  mean: 0.70200, std: 0.04522, params: {'max_depth': 2, 'min_child_weight': 5},\n",
       "  mean: 0.70260, std: 0.04416, params: {'max_depth': 2, 'min_child_weight': 6},\n",
       "  mean: 0.70250, std: 0.04440, params: {'max_depth': 2, 'min_child_weight': 7},\n",
       "  mean: 0.69563, std: 0.05380, params: {'max_depth': 3, 'min_child_weight': 5},\n",
       "  mean: 0.69702, std: 0.05269, params: {'max_depth': 3, 'min_child_weight': 6},\n",
       "  mean: 0.69839, std: 0.05048, params: {'max_depth': 3, 'min_child_weight': 7}],\n",
       " {'max_depth': 1, 'min_child_weight': 5},\n",
       " 0.7045576771758382)"
      ]
     },
     "execution_count": 88,
     "metadata": {},
     "output_type": "execute_result"
    }
   ],
   "source": [
    "param_test2 = {\n",
    " 'max_depth':[1,2,3],\n",
    " 'min_child_weight':[5,6,7]\n",
    "}\n",
    "gsearch1 = GridSearchCV(estimator = XGBClassifier( learning_rate =0.1, n_estimators=176, max_depth=1,\n",
    " min_child_weight=5, gamma=0, subsample=0.8, colsample_bytree=0.8,\n",
    " objective= 'binary:logistic', nthread=4, scale_pos_weight=1, seed=27), \n",
    " param_grid = param_test2, scoring='roc_auc',n_jobs=4,iid=False, cv=5)\n",
    "gsearch1.fit(data,target.sharesB)\n",
    "gsearch1.grid_scores_, gsearch1.best_params_, gsearch1.best_score_"
   ]
  },
  {
   "cell_type": "code",
   "execution_count": 75,
   "metadata": {},
   "outputs": [
    {
     "data": {
      "text/plain": [
       "([mean: 0.70456, std: 0.03817, params: {'gamma': 0.0},\n",
       "  mean: 0.70456, std: 0.03817, params: {'gamma': 0.1},\n",
       "  mean: 0.70456, std: 0.03817, params: {'gamma': 0.2},\n",
       "  mean: 0.70456, std: 0.03817, params: {'gamma': 0.3},\n",
       "  mean: 0.70456, std: 0.03817, params: {'gamma': 0.4}],\n",
       " {'gamma': 0.0},\n",
       " 0.7045576771758382)"
      ]
     },
     "execution_count": 75,
     "metadata": {},
     "output_type": "execute_result"
    }
   ],
   "source": [
    "param_test3 = {\n",
    " 'gamma':[i/10.0 for i in range(0,5)]\n",
    "}\n",
    "gsearch3 = GridSearchCV(estimator = XGBClassifier( learning_rate =0.1, n_estimators=176, max_depth=1,\n",
    " min_child_weight=5, gamma=0, subsample=0.8, colsample_bytree=0.8,\n",
    " objective= 'binary:logistic', nthread=4, scale_pos_weight=1, seed=27), \n",
    " param_grid = param_test3, scoring='roc_auc',n_jobs=4,iid=False, cv=5)\n",
    "gsearch3.fit(data,target.sharesB)\n",
    "gsearch3.grid_scores_, gsearch3.best_params_, gsearch3.best_score_"
   ]
  },
  {
   "cell_type": "code",
   "execution_count": 90,
   "metadata": {},
   "outputs": [
    {
     "name": "stdout",
     "output_type": "stream",
     "text": [
      "n_estimators : 176\n",
      "cvresult : 0.7018179488636366\n",
      "\n",
      "Model Report\n",
      "Accuracy : 0.6643\n",
      "AUC Score (Train): 0.723441\n",
      "AUC Score (Test): 0.714051\n"
     ]
    },
    {
     "data": {
      "image/png": "[encoded data removed]",
      "text/plain": [
       "<matplotlib.figure.Figure at 0x2351f6cae10>"
      ]
     },
     "metadata": {},
     "output_type": "display_data"
    }
   ],
   "source": [
    "xgb2 = XGBClassifier(\n",
    " learning_rate =0.1,\n",
    " n_estimators=1000,\n",
    " max_depth=1,\n",
    " min_child_weight=5,\n",
    " gamma=0.0,\n",
    " subsample=0.8,\n",
    " colsample_bytree=0.8,\n",
    " objective= 'binary:logistic',\n",
    " nthread=4,\n",
    " scale_pos_weight=1,\n",
    " seed=27)\n",
    "modelfit(xgb2, data, target.sharesB)"
   ]
  },
  {
   "cell_type": "code",
   "execution_count": 91,
   "metadata": {},
   "outputs": [
    {
     "data": {
      "text/plain": [
       "([mean: 0.70597, std: 0.03610, params: {'colsample_bytree': 0.6, 'subsample': 0.6},\n",
       "  mean: 0.70497, std: 0.03697, params: {'colsample_bytree': 0.6, 'subsample': 0.7},\n",
       "  mean: 0.70543, std: 0.03661, params: {'colsample_bytree': 0.6, 'subsample': 0.8},\n",
       "  mean: 0.70469, std: 0.03800, params: {'colsample_bytree': 0.6, 'subsample': 0.9},\n",
       "  mean: 0.70600, std: 0.03594, params: {'colsample_bytree': 0.7, 'subsample': 0.6},\n",
       "  mean: 0.70559, std: 0.03637, params: {'colsample_bytree': 0.7, 'subsample': 0.7},\n",
       "  mean: 0.70464, std: 0.03720, params: {'colsample_bytree': 0.7, 'subsample': 0.8},\n",
       "  mean: 0.70480, std: 0.03757, params: {'colsample_bytree': 0.7, 'subsample': 0.9},\n",
       "  mean: 0.70580, std: 0.03577, params: {'colsample_bytree': 0.8, 'subsample': 0.6},\n",
       "  mean: 0.70526, std: 0.03708, params: {'colsample_bytree': 0.8, 'subsample': 0.7},\n",
       "  mean: 0.70456, std: 0.03817, params: {'colsample_bytree': 0.8, 'subsample': 0.8},\n",
       "  mean: 0.70463, std: 0.03763, params: {'colsample_bytree': 0.8, 'subsample': 0.9},\n",
       "  mean: 0.70554, std: 0.03722, params: {'colsample_bytree': 0.9, 'subsample': 0.6},\n",
       "  mean: 0.70500, std: 0.03684, params: {'colsample_bytree': 0.9, 'subsample': 0.7},\n",
       "  mean: 0.70435, std: 0.03797, params: {'colsample_bytree': 0.9, 'subsample': 0.8},\n",
       "  mean: 0.70521, std: 0.03676, params: {'colsample_bytree': 0.9, 'subsample': 0.9}],\n",
       " {'colsample_bytree': 0.7, 'subsample': 0.6},\n",
       " 0.7059958758605654)"
      ]
     },
     "execution_count": 91,
     "metadata": {},
     "output_type": "execute_result"
    }
   ],
   "source": [
    "param_test4 = {\n",
    " 'subsample':[i/10.0 for i in range(6,10)],\n",
    " 'colsample_bytree':[i/10.0 for i in range(6,10)]\n",
    "}\n",
    "gsearch4 = GridSearchCV(estimator = XGBClassifier( learning_rate =0.1, n_estimators=176, max_depth=1,\n",
    " min_child_weight=5, gamma=0, subsample=0.8, colsample_bytree=0.8,\n",
    " objective= 'binary:logistic', nthread=4, scale_pos_weight=1, seed=27), \n",
    " param_grid = param_test4, scoring='roc_auc',n_jobs=4,iid=False, cv=5)\n",
    "gsearch4.fit(data,target.sharesB)\n",
    "gsearch4.grid_scores_, gsearch4.best_params_, gsearch4.best_score_"
   ]
  },
  {
   "cell_type": "code",
   "execution_count": 93,
   "metadata": {},
   "outputs": [
    {
     "data": {
      "text/plain": [
       "([mean: 0.70558, std: 0.03596, params: {'colsample_bytree': 0.5, 'subsample': 0.6},\n",
       "  mean: 0.70578, std: 0.03620, params: {'colsample_bytree': 0.5, 'subsample': 0.65},\n",
       "  mean: 0.70490, std: 0.03713, params: {'colsample_bytree': 0.5, 'subsample': 0.7},\n",
       "  mean: 0.70561, std: 0.03616, params: {'colsample_bytree': 0.5, 'subsample': 0.75},\n",
       "  mean: 0.70589, std: 0.03617, params: {'colsample_bytree': 0.55, 'subsample': 0.6},\n",
       "  mean: 0.70561, std: 0.03715, params: {'colsample_bytree': 0.55, 'subsample': 0.65},\n",
       "  mean: 0.70513, std: 0.03701, params: {'colsample_bytree': 0.55, 'subsample': 0.7},\n",
       "  mean: 0.70556, std: 0.03605, params: {'colsample_bytree': 0.55, 'subsample': 0.75},\n",
       "  mean: 0.70597, std: 0.03610, params: {'colsample_bytree': 0.6, 'subsample': 0.6},\n",
       "  mean: 0.70591, std: 0.03669, params: {'colsample_bytree': 0.6, 'subsample': 0.65},\n",
       "  mean: 0.70497, std: 0.03697, params: {'colsample_bytree': 0.6, 'subsample': 0.7},\n",
       "  mean: 0.70589, std: 0.03577, params: {'colsample_bytree': 0.6, 'subsample': 0.75},\n",
       "  mean: 0.70590, std: 0.03654, params: {'colsample_bytree': 0.65, 'subsample': 0.6},\n",
       "  mean: 0.70547, std: 0.03672, params: {'colsample_bytree': 0.65, 'subsample': 0.65},\n",
       "  mean: 0.70532, std: 0.03669, params: {'colsample_bytree': 0.65, 'subsample': 0.7},\n",
       "  mean: 0.70568, std: 0.03584, params: {'colsample_bytree': 0.65, 'subsample': 0.75}],\n",
       " {'colsample_bytree': 0.6, 'subsample': 0.6},\n",
       " 0.7059692930537599)"
      ]
     },
     "execution_count": 93,
     "metadata": {},
     "output_type": "execute_result"
    }
   ],
   "source": [
    "param_test5 = {\n",
    " 'subsample':[i/100.0 for i in range(60,80,5)],\n",
    " 'colsample_bytree':[i/100.0 for i in range(50,70,5)]\n",
    "}\n",
    "gsearch5 = GridSearchCV(estimator = XGBClassifier( learning_rate =0.1, n_estimators=176, max_depth=1,\n",
    " min_child_weight=5, gamma=0, subsample=0.8, colsample_bytree=0.8,\n",
    " objective= 'binary:logistic', nthread=4, scale_pos_weight=1, seed=27), \n",
    " param_grid = param_test5, scoring='roc_auc',n_jobs=4,iid=False, cv=5)\n",
    "gsearch5.fit(data,target.sharesB)\n",
    "gsearch5.grid_scores_, gsearch5.best_params_, gsearch5.best_score_"
   ]
  },
  {
   "cell_type": "code",
   "execution_count": 97,
   "metadata": {},
   "outputs": [
    {
     "data": {
      "text/plain": [
       "([mean: 0.70597, std: 0.03610, params: {'reg_alpha': 1e-05},\n",
       "  mean: 0.70597, std: 0.03610, params: {'reg_alpha': 0.01},\n",
       "  mean: 0.70597, std: 0.03609, params: {'reg_alpha': 0.1},\n",
       "  mean: 0.70618, std: 0.03585, params: {'reg_alpha': 1},\n",
       "  mean: 0.70221, std: 0.03276, params: {'reg_alpha': 100}],\n",
       " {'reg_alpha': 1},\n",
       " 0.706176817006095)"
      ]
     },
     "execution_count": 97,
     "metadata": {},
     "output_type": "execute_result"
    }
   ],
   "source": [
    "param_test6 = {\n",
    " 'reg_alpha':[1e-5, 1e-2, 0.1, 1, 100]\n",
    "}\n",
    "gsearch6 = GridSearchCV(estimator = XGBClassifier( learning_rate =0.1, n_estimators=176, max_depth=1,\n",
    " min_child_weight=5, gamma=0, colsample_bytree=0.6,subsample=0.6,\n",
    " objective= 'binary:logistic', nthread=4, scale_pos_weight=1, seed=27), \n",
    " param_grid = param_test6, scoring='roc_auc',n_jobs=4,iid=False, cv=5)\n",
    "gsearch6.fit(data,target.sharesB)\n",
    "gsearch6.grid_scores_, gsearch6.best_params_, gsearch6.best_score_\n"
   ]
  },
  {
   "cell_type": "code",
   "execution_count": 99,
   "metadata": {},
   "outputs": [
    {
     "data": {
      "text/plain": [
       "([mean: 0.70724, std: 0.03318, params: {'reg_alpha': 10},\n",
       "  mean: 0.70705, std: 0.03274, params: {'reg_alpha': 15},\n",
       "  mean: 0.70693, std: 0.03263, params: {'reg_alpha': 20},\n",
       "  mean: 0.70696, std: 0.03247, params: {'reg_alpha': 25},\n",
       "  mean: 0.70676, std: 0.03257, params: {'reg_alpha': 30}],\n",
       " {'reg_alpha': 10},\n",
       " 0.7072357142274758)"
      ]
     },
     "execution_count": 99,
     "metadata": {},
     "output_type": "execute_result"
    }
   ],
   "source": [
    "param_test7 = {\n",
    " 'reg_alpha':[10, 15, 20, 25,30]\n",
    "}\n",
    "gsearch7 = GridSearchCV(estimator = XGBClassifier( learning_rate =0.1, n_estimators=176, max_depth=1,\n",
    " min_child_weight=5, gamma=0, colsample_bytree=0.6,subsample=0.6,\n",
    " objective= 'binary:logistic', nthread=4, scale_pos_weight=1, seed=27), \n",
    " param_grid = param_test7, scoring='roc_auc',n_jobs=4,iid=False, cv=5)\n",
    "gsearch7.fit(data,target.sharesB)\n",
    "gsearch7.grid_scores_, gsearch7.best_params_, gsearch7.best_score_"
   ]
  },
  {
   "cell_type": "code",
   "execution_count": 103,
   "metadata": {},
   "outputs": [
    {
     "name": "stdout",
     "output_type": "stream",
     "text": [
      "n_estimators : 190\n",
      "cvresult : 0.7314396189473679\n",
      "\n",
      "Model Report\n",
      "Accuracy : 0.7347\n",
      "AUC Score (Train): 0.814070\n",
      "AUC Score (Test): 0.731191\n"
     ]
    },
    {
     "data": {
      "image/png": "[encoded data removed]",
      "text/plain": [
       "<matplotlib.figure.Figure at 0x23520dad748>"
      ]
     },
     "metadata": {},
     "output_type": "display_data"
    }
   ],
   "source": [
    "xgb3 = XGBClassifier(\n",
    " learning_rate =0.1,\n",
    " n_estimators=1000,\n",
    " max_depth=5,\n",
    " min_child_weight=5,\n",
    " gamma=0,\n",
    " subsample=0.6,\n",
    " colsample_bytree=0.6,\n",
    " reg_alpha=10,\n",
    " objective= 'binary:logistic',\n",
    " nthread=4,\n",
    " scale_pos_weight=1,\n",
    " seed=27)\n",
    "modelfit(xgb3, data, target.sharesB)"
   ]
  },
  {
   "cell_type": "code",
   "execution_count": 107,
   "metadata": {},
   "outputs": [
    {
     "name": "stdout",
     "output_type": "stream",
     "text": [
      "n_estimators : 1948\n",
      "cvresult : 0.7350757475359335\n",
      "\n",
      "Model Report\n",
      "Accuracy : 0.7396\n",
      "AUC Score (Train): 0.821145\n",
      "AUC Score (Test): 0.733489\n"
     ]
    },
    {
     "data": {
      "image/png": "[encoded data removed]",
      "text/plain": [
       "<matplotlib.figure.Figure at 0x235193b86a0>"
      ]
     },
     "metadata": {},
     "output_type": "display_data"
    }
   ],
   "source": [
    "xgb4 = XGBClassifier(\n",
    " learning_rate =0.01,\n",
    " n_estimators=2000,\n",
    " max_depth=5,\n",
    " min_child_weight=1,\n",
    " gamma=0,\n",
    " subsample=0.6,\n",
    " colsample_bytree=0.6,\n",
    " reg_alpha=10,\n",
    " objective= 'binary:logistic',\n",
    " nthread=4,\n",
    " scale_pos_weight=1,\n",
    " seed=27)\n",
    "modelfit(xgb4, data, target.sharesB)"
   ]
  }
 ],
 "metadata": {
  "kernelspec": {
   "display_name": "Python 3",
   "language": "python",
   "name": "python3"
  },
  "language_info": {
   "codemirror_mode": {
    "name": "ipython",
    "version": 3
   },
   "file_extension": ".py",
   "mimetype": "text/x-python",
   "name": "python",
   "nbconvert_exporter": "python",
   "pygments_lexer": "ipython3",
   "version": "3.6.4"
  }
 },
 "nbformat": 4,
 "nbformat_minor": 2
}
